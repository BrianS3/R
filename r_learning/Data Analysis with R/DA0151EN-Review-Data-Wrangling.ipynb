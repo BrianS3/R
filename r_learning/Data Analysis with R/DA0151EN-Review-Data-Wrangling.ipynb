{
 "cells": [
  {
   "cell_type": "markdown",
   "metadata": {},
   "source": [
    "<center>\n",
    "    <img src=\"https://gitlab.com/ibm/skills-network/courses/placeholder101/-/raw/master/labs/module%201/images/IDSNlogo.png\" width=\"300\" alt=\"cognitiveclass.ai logo\"  />\n",
    "</center>\n"
   ]
  },
  {
   "cell_type": "markdown",
   "metadata": {},
   "source": [
    "<h1>Data Wrangling with Tidyverse</h1>\n"
   ]
  },
  {
   "cell_type": "markdown",
   "metadata": {},
   "source": [
    "Estimated Time Needed: **40 min**\n",
    "\n",
    "<h3>Welcome!</h3>\n",
    "\n",
    "By the end of this notebook, you will have learned the basics of Data Wrangling! Data Wrangling is the process of converting data from the initial format to a format that may be better for analysis.\n"
   ]
  },
  {
   "cell_type": "markdown",
   "metadata": {},
   "source": [
    "### Table of Contents:\n",
    "\n",
    "*   [1. Missing Values and Formatting](#missing_values)\n",
    "    *   [1.1 Identify Missing Values](#identify_missing_values)\n",
    "    *   [1.2 Handle Missing Values](#handle_missing_values)\n",
    "    *   [1.3 Correct Data Format](#correct_data_format)\n",
    "*   [2. Data Normalization](#data_normalization)\n",
    "    *   [2.1 Simple Scaling](#simple_scale)\n",
    "    *   [2.2 Min-max](#min_max)\n",
    "    *   [2.3 Standardization (Z-score)](#data_standardization)\n",
    "*   [4. Binning](#binning)\n",
    "*   [5. Indicator Variable](#indicator)\n"
   ]
  },
  {
   "cell_type": "markdown",
   "metadata": {},
   "source": [
    "## Load Libraries and Data\n"
   ]
  },
  {
   "cell_type": "markdown",
   "metadata": {},
   "source": [
    "First, load the tidyverse library.\n"
   ]
  },
  {
   "cell_type": "code",
   "execution_count": 1,
   "metadata": {},
   "outputs": [
    {
     "name": "stderr",
     "output_type": "stream",
     "text": [
      "Registered S3 methods overwritten by 'ggplot2':\n",
      "  method         from \n",
      "  [.quosures     rlang\n",
      "  c.quosures     rlang\n",
      "  print.quosures rlang\n",
      "Registered S3 method overwritten by 'rvest':\n",
      "  method            from\n",
      "  read_xml.response xml2\n",
      "-- Attaching packages --------------------------------------- tidyverse 1.2.1 --\n",
      "v ggplot2 3.1.1       v purrr   0.3.2  \n",
      "v tibble  2.1.1       v dplyr   0.8.0.1\n",
      "v tidyr   0.8.3       v stringr 1.4.0  \n",
      "v readr   1.3.1       v forcats 0.4.0  \n",
      "-- Conflicts ------------------------------------------ tidyverse_conflicts() --\n",
      "x dplyr::filter() masks stats::filter()\n",
      "x dplyr::lag()    masks stats::lag()\n"
     ]
    }
   ],
   "source": [
    "# Load tidyverse\n",
    "library(tidyverse)"
   ]
  },
  {
   "cell_type": "markdown",
   "metadata": {},
   "source": [
    "The original Airline dataset is hosted on <a href=\"https://developer.ibm.com/exchanges/data/all/airline/?utm_medium=Exinfluencer&utm_source=Exinfluencer&utm_content=000026UJ&utm_term=10006555&utm_id=NA-SkillsNetwork-Channel-SkillsNetworkCoursesIBMDA0151ENSkillsNetwork21582452-2021-01-01\">IBM Data Asset eXchange</a>. This sample dataset can be found <a href=\"https://dax-cdn.cdn.appdomain.cloud/dax-airline/1.0.1/lax_to_jfk.tar.gz?utm_medium=Exinfluencer&utm_source=Exinfluencer&utm_content=000026UJ&utm_term=10006555&utm_id=NA-SkillsNetwork-Channel-SkillsNetworkCoursesIBMDA0151ENSkillsNetwork21582452-2021-01-01\">here</a>.  We will be using a subset of the original dataset, which contains just LAX to JFK flights, throughout this course.\n",
    "\n",
    "Now using the subset dataset link, you can load it and store as a dataframe `sub_airline`:\n"
   ]
  },
  {
   "cell_type": "code",
   "execution_count": 3,
   "metadata": {},
   "outputs": [],
   "source": [
    "# # url where the data is located\n",
    "# url <- \"https://dax-cdn.cdn.appdomain.cloud/dax-airline/1.0.1/lax_to_jfk.tar.gz\"\n",
    "\n",
    "# # download the file\n",
    "# download.file(url, destfile = \"lax_to_jfk.tar.gz\")\n",
    "\n",
    "# untar the file so we can get the csv only\n",
    "# if you run this on your local machine, then can remove tar = \"internal\" \n",
    "# untar(\"lax_to_jfk.tar.gz\", tar = \"internal\")\n",
    "\n",
    "# read_csv only \n",
    "sub_airline <- read_csv(\"lax_to_jfk/lax_to_jfk.csv\",\n",
    "                     col_types = cols('DivDistance' = col_number(), \n",
    "                                      'DivArrDelay' = col_number()))"
   ]
  },
  {
   "cell_type": "markdown",
   "metadata": {},
   "source": [
    "<a id=\"missing_values\"></a>\n",
    "\n",
    "## 1. Missing Values and Formatting\n",
    "\n",
    "Now that we have the data loaded, let's first take a look at the data using the method `head()`.\n"
   ]
  },
  {
   "cell_type": "code",
   "execution_count": 4,
   "metadata": {},
   "outputs": [
    {
     "data": {
      "text/html": [
       "<table>\n",
       "<thead><tr><th scope=col>Month</th><th scope=col>DayOfWeek</th><th scope=col>FlightDate</th><th scope=col>Reporting_Airline</th><th scope=col>Origin</th><th scope=col>Dest</th><th scope=col>CRSDepTime</th><th scope=col>CRSArrTime</th><th scope=col>DepTime</th><th scope=col>ArrTime</th><th scope=col>...</th><th scope=col>ArrDelayMinutes</th><th scope=col>CarrierDelay</th><th scope=col>WeatherDelay</th><th scope=col>NASDelay</th><th scope=col>SecurityDelay</th><th scope=col>LateAircraftDelay</th><th scope=col>DepDelay</th><th scope=col>DepDelayMinutes</th><th scope=col>DivDistance</th><th scope=col>DivArrDelay</th></tr></thead>\n",
       "<tbody>\n",
       "\t<tr><td> 3        </td><td>5         </td><td>2003-03-28</td><td>UA        </td><td>LAX       </td><td>JFK       </td><td>2210      </td><td>0615      </td><td>2209      </td><td>0617      </td><td>...       </td><td>2         </td><td>NA        </td><td>NA        </td><td>NA        </td><td>NA        </td><td>NA        </td><td>-1        </td><td>0         </td><td>NA        </td><td>NA        </td></tr>\n",
       "\t<tr><td>11        </td><td>4         </td><td>2018-11-29</td><td>AS        </td><td>LAX       </td><td>JFK       </td><td>1045      </td><td>1912      </td><td>1049      </td><td>1851      </td><td>...       </td><td>0         </td><td>NA        </td><td>NA        </td><td>NA        </td><td>NA        </td><td>NA        </td><td> 4        </td><td>4         </td><td>NA        </td><td>NA        </td></tr>\n",
       "\t<tr><td> 8        </td><td>5         </td><td>2015-08-28</td><td>UA        </td><td>LAX       </td><td>JFK       </td><td>0805      </td><td>1634      </td><td>0757      </td><td>1620      </td><td>...       </td><td>0         </td><td>NA        </td><td>NA        </td><td>NA        </td><td>NA        </td><td>NA        </td><td>-8        </td><td>0         </td><td>NA        </td><td>NA        </td></tr>\n",
       "\t<tr><td> 4        </td><td>7         </td><td>2003-04-20</td><td>DL        </td><td>LAX       </td><td>JFK       </td><td>2205      </td><td>0619      </td><td>2212      </td><td>0616      </td><td>...       </td><td>0         </td><td>NA        </td><td>NA        </td><td>NA        </td><td>NA        </td><td>NA        </td><td> 7        </td><td>7         </td><td>NA        </td><td>NA        </td></tr>\n",
       "\t<tr><td>11        </td><td>3         </td><td>2005-11-30</td><td>UA        </td><td>LAX       </td><td>JFK       </td><td>0840      </td><td>1653      </td><td>0836      </td><td>1640      </td><td>...       </td><td>0         </td><td>NA        </td><td>NA        </td><td>NA        </td><td>NA        </td><td>NA        </td><td>-4        </td><td>0         </td><td>NA        </td><td>NA        </td></tr>\n",
       "\t<tr><td> 4        </td><td>1         </td><td>1992-04-06</td><td>UA        </td><td>LAX       </td><td>JFK       </td><td>1450      </td><td>2308      </td><td>1452      </td><td>2248      </td><td>...       </td><td>0         </td><td>NA        </td><td>NA        </td><td>NA        </td><td>NA        </td><td>NA        </td><td> 2        </td><td>2         </td><td>NA        </td><td>NA        </td></tr>\n",
       "</tbody>\n",
       "</table>\n"
      ],
      "text/latex": [
       "\\begin{tabular}{r|lllllllllllllllllllll}\n",
       " Month & DayOfWeek & FlightDate & Reporting\\_Airline & Origin & Dest & CRSDepTime & CRSArrTime & DepTime & ArrTime & ... & ArrDelayMinutes & CarrierDelay & WeatherDelay & NASDelay & SecurityDelay & LateAircraftDelay & DepDelay & DepDelayMinutes & DivDistance & DivArrDelay\\\\\n",
       "\\hline\n",
       "\t  3         & 5          & 2003-03-28 & UA         & LAX        & JFK        & 2210       & 0615       & 2209       & 0617       & ...        & 2          & NA         & NA         & NA         & NA         & NA         & -1         & 0          & NA         & NA        \\\\\n",
       "\t 11         & 4          & 2018-11-29 & AS         & LAX        & JFK        & 1045       & 1912       & 1049       & 1851       & ...        & 0          & NA         & NA         & NA         & NA         & NA         &  4         & 4          & NA         & NA        \\\\\n",
       "\t  8         & 5          & 2015-08-28 & UA         & LAX        & JFK        & 0805       & 1634       & 0757       & 1620       & ...        & 0          & NA         & NA         & NA         & NA         & NA         & -8         & 0          & NA         & NA        \\\\\n",
       "\t  4         & 7          & 2003-04-20 & DL         & LAX        & JFK        & 2205       & 0619       & 2212       & 0616       & ...        & 0          & NA         & NA         & NA         & NA         & NA         &  7         & 7          & NA         & NA        \\\\\n",
       "\t 11         & 3          & 2005-11-30 & UA         & LAX        & JFK        & 0840       & 1653       & 0836       & 1640       & ...        & 0          & NA         & NA         & NA         & NA         & NA         & -4         & 0          & NA         & NA        \\\\\n",
       "\t  4         & 1          & 1992-04-06 & UA         & LAX        & JFK        & 1450       & 2308       & 1452       & 2248       & ...        & 0          & NA         & NA         & NA         & NA         & NA         &  2         & 2          & NA         & NA        \\\\\n",
       "\\end{tabular}\n"
      ],
      "text/markdown": [
       "\n",
       "| Month | DayOfWeek | FlightDate | Reporting_Airline | Origin | Dest | CRSDepTime | CRSArrTime | DepTime | ArrTime | ... | ArrDelayMinutes | CarrierDelay | WeatherDelay | NASDelay | SecurityDelay | LateAircraftDelay | DepDelay | DepDelayMinutes | DivDistance | DivArrDelay |\n",
       "|---|---|---|---|---|---|---|---|---|---|---|---|---|---|---|---|---|---|---|---|---|\n",
       "|  3         | 5          | 2003-03-28 | UA         | LAX        | JFK        | 2210       | 0615       | 2209       | 0617       | ...        | 2          | NA         | NA         | NA         | NA         | NA         | -1         | 0          | NA         | NA         |\n",
       "| 11         | 4          | 2018-11-29 | AS         | LAX        | JFK        | 1045       | 1912       | 1049       | 1851       | ...        | 0          | NA         | NA         | NA         | NA         | NA         |  4         | 4          | NA         | NA         |\n",
       "|  8         | 5          | 2015-08-28 | UA         | LAX        | JFK        | 0805       | 1634       | 0757       | 1620       | ...        | 0          | NA         | NA         | NA         | NA         | NA         | -8         | 0          | NA         | NA         |\n",
       "|  4         | 7          | 2003-04-20 | DL         | LAX        | JFK        | 2205       | 0619       | 2212       | 0616       | ...        | 0          | NA         | NA         | NA         | NA         | NA         |  7         | 7          | NA         | NA         |\n",
       "| 11         | 3          | 2005-11-30 | UA         | LAX        | JFK        | 0840       | 1653       | 0836       | 1640       | ...        | 0          | NA         | NA         | NA         | NA         | NA         | -4         | 0          | NA         | NA         |\n",
       "|  4         | 1          | 1992-04-06 | UA         | LAX        | JFK        | 1450       | 2308       | 1452       | 2248       | ...        | 0          | NA         | NA         | NA         | NA         | NA         |  2         | 2          | NA         | NA         |\n",
       "\n"
      ],
      "text/plain": [
       "  Month DayOfWeek FlightDate Reporting_Airline Origin Dest CRSDepTime\n",
       "1  3    5         2003-03-28 UA                LAX    JFK  2210      \n",
       "2 11    4         2018-11-29 AS                LAX    JFK  1045      \n",
       "3  8    5         2015-08-28 UA                LAX    JFK  0805      \n",
       "4  4    7         2003-04-20 DL                LAX    JFK  2205      \n",
       "5 11    3         2005-11-30 UA                LAX    JFK  0840      \n",
       "6  4    1         1992-04-06 UA                LAX    JFK  1450      \n",
       "  CRSArrTime DepTime ArrTime ... ArrDelayMinutes CarrierDelay WeatherDelay\n",
       "1 0615       2209    0617    ... 2               NA           NA          \n",
       "2 1912       1049    1851    ... 0               NA           NA          \n",
       "3 1634       0757    1620    ... 0               NA           NA          \n",
       "4 0619       2212    0616    ... 0               NA           NA          \n",
       "5 1653       0836    1640    ... 0               NA           NA          \n",
       "6 2308       1452    2248    ... 0               NA           NA          \n",
       "  NASDelay SecurityDelay LateAircraftDelay DepDelay DepDelayMinutes DivDistance\n",
       "1 NA       NA            NA                -1       0               NA         \n",
       "2 NA       NA            NA                 4       4               NA         \n",
       "3 NA       NA            NA                -8       0               NA         \n",
       "4 NA       NA            NA                 7       7               NA         \n",
       "5 NA       NA            NA                -4       0               NA         \n",
       "6 NA       NA            NA                 2       2               NA         \n",
       "  DivArrDelay\n",
       "1 NA         \n",
       "2 NA         \n",
       "3 NA         \n",
       "4 NA         \n",
       "5 NA         \n",
       "6 NA         "
      ]
     },
     "metadata": {},
     "output_type": "display_data"
    }
   ],
   "source": [
    "head(sub_airline)"
   ]
  },
  {
   "cell_type": "markdown",
   "metadata": {},
   "source": [
    "As we can see, several NA (not available) appeared in the dataframe; those are missing values which may hinder our further analysis.\n",
    "So, how do we identify all those missing values and deal with them?\n",
    "\n",
    "In the following sections, we will go over the steps for working with missing data:\n",
    "\n",
    "*   Identify missing data\n",
    "*   Deal with missing data\n",
    "*   Correct data format\n"
   ]
  },
  {
   "cell_type": "markdown",
   "metadata": {},
   "source": [
    "<a id=\"identify_missing_values\"></a>\n",
    "\n",
    "### 1.1 Identify Missing Malues\n",
    "\n",
    "In R, there are some special symbols to represent special cases in data:\n",
    "\n",
    "*   `NA`: missing values are represented by the symbol `NA` (not available), it is a special symbol in R. Note, that `\"NA\"` (a string) is not the same as `NA`.\n",
    "*   `NaN`: Impossible values (e.g., dividing by zero) are represented by the symbol `NaN` (not a number).\n",
    "\n",
    "The missing values in airline dataset are already represented with R's `NA` symbol. We use R's built-in (also called **base R**) functions to identify these missing values. There are two methods to detect missing data:\n",
    "\n",
    "<ol>\n",
    "    <li><code>is.na(x)</code>: x can be a vector or list, this method returns a vector of TRUE or FALSE depending if the according element in x is <code>NA</code> or not. For example <code>is.na(c(1, NA))</code> returns <code>FALSE TRUE</code></li>\n",
    "    <li><code>anyNA(x, recursive = FALSE)</code>: x can be a vector or list, this method returns TRUE if x contains any NAs and FALSE otherwise. For example <code>is.na(c(1, NA))</code> returns <code>TRUE</code></li>\n",
    "</ol>\n"
   ]
  },
  {
   "cell_type": "code",
   "execution_count": 5,
   "metadata": {},
   "outputs": [
    {
     "data": {
      "text/html": [
       "<ol class=list-inline>\n",
       "\t<li>FALSE</li>\n",
       "\t<li>TRUE</li>\n",
       "</ol>\n"
      ],
      "text/latex": [
       "\\begin{enumerate*}\n",
       "\\item FALSE\n",
       "\\item TRUE\n",
       "\\end{enumerate*}\n"
      ],
      "text/markdown": [
       "1. FALSE\n",
       "2. TRUE\n",
       "\n",
       "\n"
      ],
      "text/plain": [
       "[1] FALSE  TRUE"
      ]
     },
     "metadata": {},
     "output_type": "display_data"
    },
    {
     "data": {
      "text/html": [
       "<ol class=list-inline>\n",
       "\t<li>FALSE</li>\n",
       "\t<li>FALSE</li>\n",
       "</ol>\n"
      ],
      "text/latex": [
       "\\begin{enumerate*}\n",
       "\\item FALSE\n",
       "\\item FALSE\n",
       "\\end{enumerate*}\n"
      ],
      "text/markdown": [
       "1. FALSE\n",
       "2. FALSE\n",
       "\n",
       "\n"
      ],
      "text/plain": [
       "[1] FALSE FALSE"
      ]
     },
     "metadata": {},
     "output_type": "display_data"
    }
   ],
   "source": [
    "is.na(c(1, NA))        #> FALSE  TRUE\n",
    "is.na(paste(c(1, NA))) #> FALSE FALSE"
   ]
  },
  {
   "cell_type": "markdown",
   "metadata": {},
   "source": [
    "Again, the output for `is.na()` is a vector of logical values where`TRUE` stands for missing value, while `FALSE` stands for not missing value.\n"
   ]
  },
  {
   "cell_type": "code",
   "execution_count": 6,
   "metadata": {},
   "outputs": [
    {
     "data": {
      "text/html": [
       "TRUE"
      ],
      "text/latex": [
       "TRUE"
      ],
      "text/markdown": [
       "TRUE"
      ],
      "text/plain": [
       "[1] TRUE"
      ]
     },
     "metadata": {},
     "output_type": "display_data"
    }
   ],
   "source": [
    "anyNA(c(1, NA))   "
   ]
  },
  {
   "cell_type": "markdown",
   "metadata": {},
   "source": [
    "The output for `anyNA()` is a vector of logical values where `TRUE` stands for at least one missing value in the vector, while `FALSE` stands for no missing values in the vector.\n"
   ]
  },
  {
   "cell_type": "markdown",
   "metadata": {},
   "source": [
    "#### Counting Missing Values\n",
    "\n",
    "We can quickly figure out the number of missing values in each column. As mentioned above, when using the function `is.na()`, `TRUE` represents a missing value while `FALSE` is otherwise.  The method  `sum()`  counts the number of `TRUE` values.\n",
    "\n",
    "Let's check how many missing values in `CarrierDelay` column and also check how many missing values in each column:\n"
   ]
  },
  {
   "cell_type": "code",
   "execution_count": 7,
   "metadata": {},
   "outputs": [
    {
     "data": {
      "text/html": [
       "<table>\n",
       "<thead><tr><th scope=col>count</th></tr></thead>\n",
       "<tbody>\n",
       "\t<tr><td>2486</td></tr>\n",
       "</tbody>\n",
       "</table>\n"
      ],
      "text/latex": [
       "\\begin{tabular}{r|l}\n",
       " count\\\\\n",
       "\\hline\n",
       "\t 2486\\\\\n",
       "\\end{tabular}\n"
      ],
      "text/markdown": [
       "\n",
       "| count |\n",
       "|---|\n",
       "| 2486 |\n",
       "\n"
      ],
      "text/plain": [
       "  count\n",
       "1 2486 "
      ]
     },
     "metadata": {},
     "output_type": "display_data"
    }
   ],
   "source": [
    "# counting missing values\n",
    "sub_airline %>%\n",
    "  summarize(count = sum(is.na(CarrierDelay)))"
   ]
  },
  {
   "cell_type": "markdown",
   "metadata": {},
   "source": [
    "We can use `purrr::map()` to count missing values in each of the columns.\n",
    "\n",
    "`map()` essentially maps (applies) a function or formula to each given element.\n",
    "In the code below, it is mapping a *formula*, `~sum(is.na(.))`, that sums the NAs to every column in `sub_airline`. Since it is using a *formula*, you will also notice two special operators dot `.` and tilde `~`:\n",
    "\n",
    "*   The tilde `~` separates the left side of a formula with the right side. Normally formulas are two-sided like `y ~ x`, in this case in `map()`, the formula gets converted to a function so it only needs the right side.\n",
    "*   The dot `.` refers to each column in the dataset. If you view the documentation with `?map`, you can see that you use `.` when the function takes in just one parameter (a column in this case).\n",
    "\n",
    "See `?formula` and `?map` for more information.\n"
   ]
  },
  {
   "cell_type": "code",
   "execution_count": 8,
   "metadata": {},
   "outputs": [
    {
     "data": {
      "text/html": [
       "<dl>\n",
       "\t<dt>$Month</dt>\n",
       "\t\t<dd>0</dd>\n",
       "\t<dt>$DayOfWeek</dt>\n",
       "\t\t<dd>0</dd>\n",
       "\t<dt>$FlightDate</dt>\n",
       "\t\t<dd>0</dd>\n",
       "\t<dt>$Reporting_Airline</dt>\n",
       "\t\t<dd>0</dd>\n",
       "\t<dt>$Origin</dt>\n",
       "\t\t<dd>0</dd>\n",
       "\t<dt>$Dest</dt>\n",
       "\t\t<dd>0</dd>\n",
       "\t<dt>$CRSDepTime</dt>\n",
       "\t\t<dd>0</dd>\n",
       "\t<dt>$CRSArrTime</dt>\n",
       "\t\t<dd>0</dd>\n",
       "\t<dt>$DepTime</dt>\n",
       "\t\t<dd>0</dd>\n",
       "\t<dt>$ArrTime</dt>\n",
       "\t\t<dd>0</dd>\n",
       "\t<dt>$ArrDelay</dt>\n",
       "\t\t<dd>0</dd>\n",
       "\t<dt>$ArrDelayMinutes</dt>\n",
       "\t\t<dd>0</dd>\n",
       "\t<dt>$CarrierDelay</dt>\n",
       "\t\t<dd>2486</dd>\n",
       "\t<dt>$WeatherDelay</dt>\n",
       "\t\t<dd>2486</dd>\n",
       "\t<dt>$NASDelay</dt>\n",
       "\t\t<dd>2486</dd>\n",
       "\t<dt>$SecurityDelay</dt>\n",
       "\t\t<dd>2486</dd>\n",
       "\t<dt>$LateAircraftDelay</dt>\n",
       "\t\t<dd>2486</dd>\n",
       "\t<dt>$DepDelay</dt>\n",
       "\t\t<dd>0</dd>\n",
       "\t<dt>$DepDelayMinutes</dt>\n",
       "\t\t<dd>0</dd>\n",
       "\t<dt>$DivDistance</dt>\n",
       "\t\t<dd>2855</dd>\n",
       "\t<dt>$DivArrDelay</dt>\n",
       "\t\t<dd>2855</dd>\n",
       "</dl>\n"
      ],
      "text/latex": [
       "\\begin{description}\n",
       "\\item[\\$Month] 0\n",
       "\\item[\\$DayOfWeek] 0\n",
       "\\item[\\$FlightDate] 0\n",
       "\\item[\\$Reporting\\_Airline] 0\n",
       "\\item[\\$Origin] 0\n",
       "\\item[\\$Dest] 0\n",
       "\\item[\\$CRSDepTime] 0\n",
       "\\item[\\$CRSArrTime] 0\n",
       "\\item[\\$DepTime] 0\n",
       "\\item[\\$ArrTime] 0\n",
       "\\item[\\$ArrDelay] 0\n",
       "\\item[\\$ArrDelayMinutes] 0\n",
       "\\item[\\$CarrierDelay] 2486\n",
       "\\item[\\$WeatherDelay] 2486\n",
       "\\item[\\$NASDelay] 2486\n",
       "\\item[\\$SecurityDelay] 2486\n",
       "\\item[\\$LateAircraftDelay] 2486\n",
       "\\item[\\$DepDelay] 0\n",
       "\\item[\\$DepDelayMinutes] 0\n",
       "\\item[\\$DivDistance] 2855\n",
       "\\item[\\$DivArrDelay] 2855\n",
       "\\end{description}\n"
      ],
      "text/markdown": [
       "$Month\n",
       ":   0\n",
       "$DayOfWeek\n",
       ":   0\n",
       "$FlightDate\n",
       ":   0\n",
       "$Reporting_Airline\n",
       ":   0\n",
       "$Origin\n",
       ":   0\n",
       "$Dest\n",
       ":   0\n",
       "$CRSDepTime\n",
       ":   0\n",
       "$CRSArrTime\n",
       ":   0\n",
       "$DepTime\n",
       ":   0\n",
       "$ArrTime\n",
       ":   0\n",
       "$ArrDelay\n",
       ":   0\n",
       "$ArrDelayMinutes\n",
       ":   0\n",
       "$CarrierDelay\n",
       ":   2486\n",
       "$WeatherDelay\n",
       ":   2486\n",
       "$NASDelay\n",
       ":   2486\n",
       "$SecurityDelay\n",
       ":   2486\n",
       "$LateAircraftDelay\n",
       ":   2486\n",
       "$DepDelay\n",
       ":   0\n",
       "$DepDelayMinutes\n",
       ":   0\n",
       "$DivDistance\n",
       ":   2855\n",
       "$DivArrDelay\n",
       ":   2855\n",
       "\n",
       "\n"
      ],
      "text/plain": [
       "$Month\n",
       "[1] 0\n",
       "\n",
       "$DayOfWeek\n",
       "[1] 0\n",
       "\n",
       "$FlightDate\n",
       "[1] 0\n",
       "\n",
       "$Reporting_Airline\n",
       "[1] 0\n",
       "\n",
       "$Origin\n",
       "[1] 0\n",
       "\n",
       "$Dest\n",
       "[1] 0\n",
       "\n",
       "$CRSDepTime\n",
       "[1] 0\n",
       "\n",
       "$CRSArrTime\n",
       "[1] 0\n",
       "\n",
       "$DepTime\n",
       "[1] 0\n",
       "\n",
       "$ArrTime\n",
       "[1] 0\n",
       "\n",
       "$ArrDelay\n",
       "[1] 0\n",
       "\n",
       "$ArrDelayMinutes\n",
       "[1] 0\n",
       "\n",
       "$CarrierDelay\n",
       "[1] 2486\n",
       "\n",
       "$WeatherDelay\n",
       "[1] 2486\n",
       "\n",
       "$NASDelay\n",
       "[1] 2486\n",
       "\n",
       "$SecurityDelay\n",
       "[1] 2486\n",
       "\n",
       "$LateAircraftDelay\n",
       "[1] 2486\n",
       "\n",
       "$DepDelay\n",
       "[1] 0\n",
       "\n",
       "$DepDelayMinutes\n",
       "[1] 0\n",
       "\n",
       "$DivDistance\n",
       "[1] 2855\n",
       "\n",
       "$DivArrDelay\n",
       "[1] 2855\n"
      ]
     },
     "metadata": {},
     "output_type": "display_data"
    }
   ],
   "source": [
    "map(sub_airline, ~sum(is.na(.)))"
   ]
  },
  {
   "cell_type": "code",
   "execution_count": 9,
   "metadata": {},
   "outputs": [
    {
     "data": {
      "text/html": [
       "<ol class=list-inline>\n",
       "\t<li>2855</li>\n",
       "\t<li>21</li>\n",
       "</ol>\n"
      ],
      "text/latex": [
       "\\begin{enumerate*}\n",
       "\\item 2855\n",
       "\\item 21\n",
       "\\end{enumerate*}\n"
      ],
      "text/markdown": [
       "1. 2855\n",
       "2. 21\n",
       "\n",
       "\n"
      ],
      "text/plain": [
       "[1] 2855   21"
      ]
     },
     "metadata": {},
     "output_type": "display_data"
    }
   ],
   "source": [
    "# Check dimensions of the dataset\n",
    "dim(sub_airline)"
   ]
  },
  {
   "cell_type": "markdown",
   "metadata": {},
   "source": [
    "Based on the summary above, \"CarrierDelay\", \"WeatherDelay\", \"NASDelay\", \"SecurityDelay\" and \"LateAircraftDelay\" columns have 2486 rows of missing data, while \"DivDistance\" and \"DivArrDelay\" columns have 2855 rows of missing data. All other columns do not have missing data.\n",
    "\n",
    "<ol>\n",
    "    <li>\"CarrierDelay\": 2486 missing data</li>\n",
    "    <li>\"WeatherDelay\": 2486 missing data</li>\n",
    "    <li>\"NASDelay\": 2486 missing data</li>\n",
    "    <li>\"SecurityDelay\" : 2486 missing data</li>\n",
    "    <li>\"LateAircraftDelay\": 2486 missing data</li>\n",
    "    <li>\"DivDistance\": 2855 missing data</li>\n",
    "    <li>\"DivArrDelay\": 2855 missing data</li>\n",
    "</ol>\n"
   ]
  },
  {
   "cell_type": "markdown",
   "metadata": {},
   "source": [
    "<a id=\"handle_missing_values\"></a>\n",
    "\n",
    "### 1.2 Handle Missing Data\n",
    "\n",
    "**How to deal with missing data?**\n",
    "\n",
    "<ol>\n",
    "    <li>Drop data<br>\n",
    "        a. Drop the whole column<br>\n",
    "        b. Drop the whole row\n",
    "    </li>\n",
    "    <li>Replace data<br>\n",
    "        a. Replace it by mean<br>\n",
    "        b. Replace it by frequency<br>\n",
    "        c. Replace it based on other functions\n",
    "    </li>\n",
    "</ol>\n"
   ]
  },
  {
   "cell_type": "markdown",
   "metadata": {},
   "source": [
    "Generally, you should not blindly drop NAs. However if an entire column or almost the entire column contains NAs, then it may be a good idea to leave it out. In our dataset, columns `DivDistance` and `DivArrDelay` are nearly all empty so we will drop them entirely.\n",
    "\n",
    "**Drop the whole column:**\n",
    "\n",
    "<ul>\n",
    "    <li>\"DivDistance\": 2855 missing data</li>\n",
    "    <li>\"DivArrDelay\": 2855 missing data</li>\n",
    "</ul>\n"
   ]
  },
  {
   "cell_type": "code",
   "execution_count": 10,
   "metadata": {},
   "outputs": [
    {
     "data": {
      "text/html": [
       "<ol class=list-inline>\n",
       "\t<li>2855</li>\n",
       "\t<li>19</li>\n",
       "</ol>\n"
      ],
      "text/latex": [
       "\\begin{enumerate*}\n",
       "\\item 2855\n",
       "\\item 19\n",
       "\\end{enumerate*}\n"
      ],
      "text/markdown": [
       "1. 2855\n",
       "2. 19\n",
       "\n",
       "\n"
      ],
      "text/plain": [
       "[1] 2855   19"
      ]
     },
     "metadata": {},
     "output_type": "display_data"
    },
    {
     "data": {
      "text/html": [
       "<table>\n",
       "<thead><tr><th scope=col>Month</th><th scope=col>DayOfWeek</th><th scope=col>FlightDate</th><th scope=col>Reporting_Airline</th><th scope=col>Origin</th><th scope=col>Dest</th><th scope=col>CRSDepTime</th><th scope=col>CRSArrTime</th><th scope=col>DepTime</th><th scope=col>ArrTime</th><th scope=col>ArrDelay</th><th scope=col>ArrDelayMinutes</th><th scope=col>CarrierDelay</th><th scope=col>WeatherDelay</th><th scope=col>NASDelay</th><th scope=col>SecurityDelay</th><th scope=col>LateAircraftDelay</th><th scope=col>DepDelay</th><th scope=col>DepDelayMinutes</th></tr></thead>\n",
       "<tbody>\n",
       "\t<tr><td> 3        </td><td>5         </td><td>2003-03-28</td><td>UA        </td><td>LAX       </td><td>JFK       </td><td>2210      </td><td>0615      </td><td>2209      </td><td>0617      </td><td>  2       </td><td>2         </td><td>NA        </td><td>NA        </td><td>NA        </td><td>NA        </td><td>NA        </td><td>-1        </td><td>0         </td></tr>\n",
       "\t<tr><td>11        </td><td>4         </td><td>2018-11-29</td><td>AS        </td><td>LAX       </td><td>JFK       </td><td>1045      </td><td>1912      </td><td>1049      </td><td>1851      </td><td>-21       </td><td>0         </td><td>NA        </td><td>NA        </td><td>NA        </td><td>NA        </td><td>NA        </td><td> 4        </td><td>4         </td></tr>\n",
       "\t<tr><td> 8        </td><td>5         </td><td>2015-08-28</td><td>UA        </td><td>LAX       </td><td>JFK       </td><td>0805      </td><td>1634      </td><td>0757      </td><td>1620      </td><td>-14       </td><td>0         </td><td>NA        </td><td>NA        </td><td>NA        </td><td>NA        </td><td>NA        </td><td>-8        </td><td>0         </td></tr>\n",
       "\t<tr><td> 4        </td><td>7         </td><td>2003-04-20</td><td>DL        </td><td>LAX       </td><td>JFK       </td><td>2205      </td><td>0619      </td><td>2212      </td><td>0616      </td><td> -3       </td><td>0         </td><td>NA        </td><td>NA        </td><td>NA        </td><td>NA        </td><td>NA        </td><td> 7        </td><td>7         </td></tr>\n",
       "\t<tr><td>11        </td><td>3         </td><td>2005-11-30</td><td>UA        </td><td>LAX       </td><td>JFK       </td><td>0840      </td><td>1653      </td><td>0836      </td><td>1640      </td><td>-13       </td><td>0         </td><td>NA        </td><td>NA        </td><td>NA        </td><td>NA        </td><td>NA        </td><td>-4        </td><td>0         </td></tr>\n",
       "\t<tr><td> 4        </td><td>1         </td><td>1992-04-06</td><td>UA        </td><td>LAX       </td><td>JFK       </td><td>1450      </td><td>2308      </td><td>1452      </td><td>2248      </td><td>-20       </td><td>0         </td><td>NA        </td><td>NA        </td><td>NA        </td><td>NA        </td><td>NA        </td><td> 2        </td><td>2         </td></tr>\n",
       "</tbody>\n",
       "</table>\n"
      ],
      "text/latex": [
       "\\begin{tabular}{r|lllllllllllllllllll}\n",
       " Month & DayOfWeek & FlightDate & Reporting\\_Airline & Origin & Dest & CRSDepTime & CRSArrTime & DepTime & ArrTime & ArrDelay & ArrDelayMinutes & CarrierDelay & WeatherDelay & NASDelay & SecurityDelay & LateAircraftDelay & DepDelay & DepDelayMinutes\\\\\n",
       "\\hline\n",
       "\t  3         & 5          & 2003-03-28 & UA         & LAX        & JFK        & 2210       & 0615       & 2209       & 0617       &   2        & 2          & NA         & NA         & NA         & NA         & NA         & -1         & 0         \\\\\n",
       "\t 11         & 4          & 2018-11-29 & AS         & LAX        & JFK        & 1045       & 1912       & 1049       & 1851       & -21        & 0          & NA         & NA         & NA         & NA         & NA         &  4         & 4         \\\\\n",
       "\t  8         & 5          & 2015-08-28 & UA         & LAX        & JFK        & 0805       & 1634       & 0757       & 1620       & -14        & 0          & NA         & NA         & NA         & NA         & NA         & -8         & 0         \\\\\n",
       "\t  4         & 7          & 2003-04-20 & DL         & LAX        & JFK        & 2205       & 0619       & 2212       & 0616       &  -3        & 0          & NA         & NA         & NA         & NA         & NA         &  7         & 7         \\\\\n",
       "\t 11         & 3          & 2005-11-30 & UA         & LAX        & JFK        & 0840       & 1653       & 0836       & 1640       & -13        & 0          & NA         & NA         & NA         & NA         & NA         & -4         & 0         \\\\\n",
       "\t  4         & 1          & 1992-04-06 & UA         & LAX        & JFK        & 1450       & 2308       & 1452       & 2248       & -20        & 0          & NA         & NA         & NA         & NA         & NA         &  2         & 2         \\\\\n",
       "\\end{tabular}\n"
      ],
      "text/markdown": [
       "\n",
       "| Month | DayOfWeek | FlightDate | Reporting_Airline | Origin | Dest | CRSDepTime | CRSArrTime | DepTime | ArrTime | ArrDelay | ArrDelayMinutes | CarrierDelay | WeatherDelay | NASDelay | SecurityDelay | LateAircraftDelay | DepDelay | DepDelayMinutes |\n",
       "|---|---|---|---|---|---|---|---|---|---|---|---|---|---|---|---|---|---|---|\n",
       "|  3         | 5          | 2003-03-28 | UA         | LAX        | JFK        | 2210       | 0615       | 2209       | 0617       |   2        | 2          | NA         | NA         | NA         | NA         | NA         | -1         | 0          |\n",
       "| 11         | 4          | 2018-11-29 | AS         | LAX        | JFK        | 1045       | 1912       | 1049       | 1851       | -21        | 0          | NA         | NA         | NA         | NA         | NA         |  4         | 4          |\n",
       "|  8         | 5          | 2015-08-28 | UA         | LAX        | JFK        | 0805       | 1634       | 0757       | 1620       | -14        | 0          | NA         | NA         | NA         | NA         | NA         | -8         | 0          |\n",
       "|  4         | 7          | 2003-04-20 | DL         | LAX        | JFK        | 2205       | 0619       | 2212       | 0616       |  -3        | 0          | NA         | NA         | NA         | NA         | NA         |  7         | 7          |\n",
       "| 11         | 3          | 2005-11-30 | UA         | LAX        | JFK        | 0840       | 1653       | 0836       | 1640       | -13        | 0          | NA         | NA         | NA         | NA         | NA         | -4         | 0          |\n",
       "|  4         | 1          | 1992-04-06 | UA         | LAX        | JFK        | 1450       | 2308       | 1452       | 2248       | -20        | 0          | NA         | NA         | NA         | NA         | NA         |  2         | 2          |\n",
       "\n"
      ],
      "text/plain": [
       "  Month DayOfWeek FlightDate Reporting_Airline Origin Dest CRSDepTime\n",
       "1  3    5         2003-03-28 UA                LAX    JFK  2210      \n",
       "2 11    4         2018-11-29 AS                LAX    JFK  1045      \n",
       "3  8    5         2015-08-28 UA                LAX    JFK  0805      \n",
       "4  4    7         2003-04-20 DL                LAX    JFK  2205      \n",
       "5 11    3         2005-11-30 UA                LAX    JFK  0840      \n",
       "6  4    1         1992-04-06 UA                LAX    JFK  1450      \n",
       "  CRSArrTime DepTime ArrTime ArrDelay ArrDelayMinutes CarrierDelay WeatherDelay\n",
       "1 0615       2209    0617      2      2               NA           NA          \n",
       "2 1912       1049    1851    -21      0               NA           NA          \n",
       "3 1634       0757    1620    -14      0               NA           NA          \n",
       "4 0619       2212    0616     -3      0               NA           NA          \n",
       "5 1653       0836    1640    -13      0               NA           NA          \n",
       "6 2308       1452    2248    -20      0               NA           NA          \n",
       "  NASDelay SecurityDelay LateAircraftDelay DepDelay DepDelayMinutes\n",
       "1 NA       NA            NA                -1       0              \n",
       "2 NA       NA            NA                 4       4              \n",
       "3 NA       NA            NA                -8       0              \n",
       "4 NA       NA            NA                 7       7              \n",
       "5 NA       NA            NA                -4       0              \n",
       "6 NA       NA            NA                 2       2              "
      ]
     },
     "metadata": {},
     "output_type": "display_data"
    }
   ],
   "source": [
    "drop_na_cols <- sub_airline %>% select(-DivDistance, -DivArrDelay)\n",
    "dim(drop_na_cols)\n",
    "head(drop_na_cols)"
   ]
  },
  {
   "cell_type": "markdown",
   "metadata": {},
   "source": [
    "**Drop the whole row:**\n",
    "\n",
    "<ul>\n",
    "    <li>\"CarrierDelay\": 2486 missing data</li>\n",
    "    <li>\"WeatherDelay\": 2486 missing data</li>\n",
    "    <li>\"NASDelay\": 2486 missing data</li>\n",
    "    <li>\"SecurityDelay\" : 2486 missing data</li>\n",
    "    <li>\"LateAircraftDelay\": 2486 missing data</li>   \n",
    "</ul>\n",
    "\n",
    "We see `CarrierDelay`, `WeatherDelay`, `NASDelay`, `SecurityDelay`, `LateAircraftDelay` have the same amount of missing values from the summary. By dropping the missing values in one column will also solve the missing value issues in the others.\n"
   ]
  },
  {
   "cell_type": "code",
   "execution_count": 11,
   "metadata": {},
   "outputs": [
    {
     "data": {
      "text/html": [
       "<ol class=list-inline>\n",
       "\t<li>369</li>\n",
       "\t<li>19</li>\n",
       "</ol>\n"
      ],
      "text/latex": [
       "\\begin{enumerate*}\n",
       "\\item 369\n",
       "\\item 19\n",
       "\\end{enumerate*}\n"
      ],
      "text/markdown": [
       "1. 369\n",
       "2. 19\n",
       "\n",
       "\n"
      ],
      "text/plain": [
       "[1] 369  19"
      ]
     },
     "metadata": {},
     "output_type": "display_data"
    },
    {
     "data": {
      "text/html": [
       "<table>\n",
       "<thead><tr><th scope=col>Month</th><th scope=col>DayOfWeek</th><th scope=col>FlightDate</th><th scope=col>Reporting_Airline</th><th scope=col>Origin</th><th scope=col>Dest</th><th scope=col>CRSDepTime</th><th scope=col>CRSArrTime</th><th scope=col>DepTime</th><th scope=col>ArrTime</th><th scope=col>ArrDelay</th><th scope=col>ArrDelayMinutes</th><th scope=col>CarrierDelay</th><th scope=col>WeatherDelay</th><th scope=col>NASDelay</th><th scope=col>SecurityDelay</th><th scope=col>LateAircraftDelay</th><th scope=col>DepDelay</th><th scope=col>DepDelayMinutes</th></tr></thead>\n",
       "<tbody>\n",
       "\t<tr><td> 8        </td><td>5         </td><td>2018-08-03</td><td>B6        </td><td>LAX       </td><td>JFK       </td><td>0013      </td><td>0839      </td><td>0034      </td><td>0913      </td><td>34        </td><td>34        </td><td>11        </td><td>0         </td><td>23        </td><td>0         </td><td> 0        </td><td>21        </td><td>21        </td></tr>\n",
       "\t<tr><td> 6        </td><td>4         </td><td>2006-06-01</td><td>AA        </td><td>LAX       </td><td>JFK       </td><td>1515      </td><td>2332      </td><td>1507      </td><td>2353      </td><td>21        </td><td>21        </td><td> 0        </td><td>0         </td><td>21        </td><td>0         </td><td> 0        </td><td>-8        </td><td> 0        </td></tr>\n",
       "\t<tr><td> 1        </td><td>7         </td><td>2007-01-28</td><td>UA        </td><td>LAX       </td><td>JFK       </td><td>0845      </td><td>1656      </td><td>0838      </td><td>1713      </td><td>17        </td><td>17        </td><td> 0        </td><td>0         </td><td>17        </td><td>0         </td><td> 0        </td><td>-7        </td><td> 0        </td></tr>\n",
       "\t<tr><td> 6        </td><td>5         </td><td>2013-06-28</td><td>AA        </td><td>LAX       </td><td>JFK       </td><td>1200      </td><td>2045      </td><td>1328      </td><td>2220      </td><td>95        </td><td>95        </td><td> 5        </td><td>0         </td><td> 7        </td><td>0         </td><td>83        </td><td>88        </td><td>88        </td></tr>\n",
       "\t<tr><td> 9        </td><td>1         </td><td>2010-09-27</td><td>DL        </td><td>LAX       </td><td>JFK       </td><td>1330      </td><td>2208      </td><td>1426      </td><td>2316      </td><td>68        </td><td>68        </td><td> 0        </td><td>0         </td><td>68        </td><td>0         </td><td> 0        </td><td>56        </td><td>56        </td></tr>\n",
       "\t<tr><td>10        </td><td>3         </td><td>2005-10-12</td><td>AA        </td><td>LAX       </td><td>JFK       </td><td>0930      </td><td>1755      </td><td>0958      </td><td>1823      </td><td>28        </td><td>28        </td><td> 0        </td><td>0         </td><td>28        </td><td>0         </td><td> 0        </td><td>28        </td><td>28        </td></tr>\n",
       "</tbody>\n",
       "</table>\n"
      ],
      "text/latex": [
       "\\begin{tabular}{r|lllllllllllllllllll}\n",
       " Month & DayOfWeek & FlightDate & Reporting\\_Airline & Origin & Dest & CRSDepTime & CRSArrTime & DepTime & ArrTime & ArrDelay & ArrDelayMinutes & CarrierDelay & WeatherDelay & NASDelay & SecurityDelay & LateAircraftDelay & DepDelay & DepDelayMinutes\\\\\n",
       "\\hline\n",
       "\t  8         & 5          & 2018-08-03 & B6         & LAX        & JFK        & 0013       & 0839       & 0034       & 0913       & 34         & 34         & 11         & 0          & 23         & 0          &  0         & 21         & 21        \\\\\n",
       "\t  6         & 4          & 2006-06-01 & AA         & LAX        & JFK        & 1515       & 2332       & 1507       & 2353       & 21         & 21         &  0         & 0          & 21         & 0          &  0         & -8         &  0        \\\\\n",
       "\t  1         & 7          & 2007-01-28 & UA         & LAX        & JFK        & 0845       & 1656       & 0838       & 1713       & 17         & 17         &  0         & 0          & 17         & 0          &  0         & -7         &  0        \\\\\n",
       "\t  6         & 5          & 2013-06-28 & AA         & LAX        & JFK        & 1200       & 2045       & 1328       & 2220       & 95         & 95         &  5         & 0          &  7         & 0          & 83         & 88         & 88        \\\\\n",
       "\t  9         & 1          & 2010-09-27 & DL         & LAX        & JFK        & 1330       & 2208       & 1426       & 2316       & 68         & 68         &  0         & 0          & 68         & 0          &  0         & 56         & 56        \\\\\n",
       "\t 10         & 3          & 2005-10-12 & AA         & LAX        & JFK        & 0930       & 1755       & 0958       & 1823       & 28         & 28         &  0         & 0          & 28         & 0          &  0         & 28         & 28        \\\\\n",
       "\\end{tabular}\n"
      ],
      "text/markdown": [
       "\n",
       "| Month | DayOfWeek | FlightDate | Reporting_Airline | Origin | Dest | CRSDepTime | CRSArrTime | DepTime | ArrTime | ArrDelay | ArrDelayMinutes | CarrierDelay | WeatherDelay | NASDelay | SecurityDelay | LateAircraftDelay | DepDelay | DepDelayMinutes |\n",
       "|---|---|---|---|---|---|---|---|---|---|---|---|---|---|---|---|---|---|---|\n",
       "|  8         | 5          | 2018-08-03 | B6         | LAX        | JFK        | 0013       | 0839       | 0034       | 0913       | 34         | 34         | 11         | 0          | 23         | 0          |  0         | 21         | 21         |\n",
       "|  6         | 4          | 2006-06-01 | AA         | LAX        | JFK        | 1515       | 2332       | 1507       | 2353       | 21         | 21         |  0         | 0          | 21         | 0          |  0         | -8         |  0         |\n",
       "|  1         | 7          | 2007-01-28 | UA         | LAX        | JFK        | 0845       | 1656       | 0838       | 1713       | 17         | 17         |  0         | 0          | 17         | 0          |  0         | -7         |  0         |\n",
       "|  6         | 5          | 2013-06-28 | AA         | LAX        | JFK        | 1200       | 2045       | 1328       | 2220       | 95         | 95         |  5         | 0          |  7         | 0          | 83         | 88         | 88         |\n",
       "|  9         | 1          | 2010-09-27 | DL         | LAX        | JFK        | 1330       | 2208       | 1426       | 2316       | 68         | 68         |  0         | 0          | 68         | 0          |  0         | 56         | 56         |\n",
       "| 10         | 3          | 2005-10-12 | AA         | LAX        | JFK        | 0930       | 1755       | 0958       | 1823       | 28         | 28         |  0         | 0          | 28         | 0          |  0         | 28         | 28         |\n",
       "\n"
      ],
      "text/plain": [
       "  Month DayOfWeek FlightDate Reporting_Airline Origin Dest CRSDepTime\n",
       "1  8    5         2018-08-03 B6                LAX    JFK  0013      \n",
       "2  6    4         2006-06-01 AA                LAX    JFK  1515      \n",
       "3  1    7         2007-01-28 UA                LAX    JFK  0845      \n",
       "4  6    5         2013-06-28 AA                LAX    JFK  1200      \n",
       "5  9    1         2010-09-27 DL                LAX    JFK  1330      \n",
       "6 10    3         2005-10-12 AA                LAX    JFK  0930      \n",
       "  CRSArrTime DepTime ArrTime ArrDelay ArrDelayMinutes CarrierDelay WeatherDelay\n",
       "1 0839       0034    0913    34       34              11           0           \n",
       "2 2332       1507    2353    21       21               0           0           \n",
       "3 1656       0838    1713    17       17               0           0           \n",
       "4 2045       1328    2220    95       95               5           0           \n",
       "5 2208       1426    2316    68       68               0           0           \n",
       "6 1755       0958    1823    28       28               0           0           \n",
       "  NASDelay SecurityDelay LateAircraftDelay DepDelay DepDelayMinutes\n",
       "1 23       0              0                21       21             \n",
       "2 21       0              0                -8        0             \n",
       "3 17       0              0                -7        0             \n",
       "4  7       0             83                88       88             \n",
       "5 68       0              0                56       56             \n",
       "6 28       0              0                28       28             "
      ]
     },
     "metadata": {},
     "output_type": "display_data"
    }
   ],
   "source": [
    "# Drop the missing values\n",
    "drop_na_rows <- drop_na_cols %>% drop_na(CarrierDelay)\n",
    "dim(drop_na_rows)\n",
    "head(drop_na_rows)"
   ]
  },
  {
   "cell_type": "markdown",
   "metadata": {},
   "source": [
    "We have some freedom in choosing which method to replace data; however, some methods may seem more reasonable than others. In this scenario, we would like to replace missing values with 0.\n",
    "\n",
    "**Convert NA to 0**\n",
    "\n",
    "In the airline dataset, missing data for the different types of delay corresponds to no delay. So, we can replace these NAs with 0 in this case.\n",
    "To do this we use the function:\n",
    "\n",
    " <pre>tidyr::replace_na(data, replace, ...)</pre>\n",
    "\n",
    "The columns that corresponds with types of delays are CarrierDelay, WeatherDelay, NASDelay, SecurityDelay, and LateAircraftDelay. For example\n",
    "if `CarrierDelay = NA` then this means there is no delay in Carrier, so the delay in minutes can be changed to 0 or `CarrierDelay = 0`. Let's transform these columns and see the result:\n"
   ]
  },
  {
   "cell_type": "code",
   "execution_count": 12,
   "metadata": {},
   "outputs": [
    {
     "data": {
      "text/html": [
       "<table>\n",
       "<thead><tr><th scope=col>Month</th><th scope=col>DayOfWeek</th><th scope=col>FlightDate</th><th scope=col>Reporting_Airline</th><th scope=col>Origin</th><th scope=col>Dest</th><th scope=col>CRSDepTime</th><th scope=col>CRSArrTime</th><th scope=col>DepTime</th><th scope=col>ArrTime</th><th scope=col>ArrDelay</th><th scope=col>ArrDelayMinutes</th><th scope=col>CarrierDelay</th><th scope=col>WeatherDelay</th><th scope=col>NASDelay</th><th scope=col>SecurityDelay</th><th scope=col>LateAircraftDelay</th><th scope=col>DepDelay</th><th scope=col>DepDelayMinutes</th></tr></thead>\n",
       "<tbody>\n",
       "\t<tr><td> 8        </td><td>5         </td><td>2018-08-03</td><td>B6        </td><td>LAX       </td><td>JFK       </td><td>0013      </td><td>0839      </td><td>0034      </td><td>0913      </td><td>34        </td><td>34        </td><td>11        </td><td>0         </td><td>23        </td><td>0         </td><td> 0        </td><td>21        </td><td>21        </td></tr>\n",
       "\t<tr><td> 6        </td><td>4         </td><td>2006-06-01</td><td>AA        </td><td>LAX       </td><td>JFK       </td><td>1515      </td><td>2332      </td><td>1507      </td><td>2353      </td><td>21        </td><td>21        </td><td> 0        </td><td>0         </td><td>21        </td><td>0         </td><td> 0        </td><td>-8        </td><td> 0        </td></tr>\n",
       "\t<tr><td> 1        </td><td>7         </td><td>2007-01-28</td><td>UA        </td><td>LAX       </td><td>JFK       </td><td>0845      </td><td>1656      </td><td>0838      </td><td>1713      </td><td>17        </td><td>17        </td><td> 0        </td><td>0         </td><td>17        </td><td>0         </td><td> 0        </td><td>-7        </td><td> 0        </td></tr>\n",
       "\t<tr><td> 6        </td><td>5         </td><td>2013-06-28</td><td>AA        </td><td>LAX       </td><td>JFK       </td><td>1200      </td><td>2045      </td><td>1328      </td><td>2220      </td><td>95        </td><td>95        </td><td> 5        </td><td>0         </td><td> 7        </td><td>0         </td><td>83        </td><td>88        </td><td>88        </td></tr>\n",
       "\t<tr><td> 9        </td><td>1         </td><td>2010-09-27</td><td>DL        </td><td>LAX       </td><td>JFK       </td><td>1330      </td><td>2208      </td><td>1426      </td><td>2316      </td><td>68        </td><td>68        </td><td> 0        </td><td>0         </td><td>68        </td><td>0         </td><td> 0        </td><td>56        </td><td>56        </td></tr>\n",
       "\t<tr><td>10        </td><td>3         </td><td>2005-10-12</td><td>AA        </td><td>LAX       </td><td>JFK       </td><td>0930      </td><td>1755      </td><td>0958      </td><td>1823      </td><td>28        </td><td>28        </td><td> 0        </td><td>0         </td><td>28        </td><td>0         </td><td> 0        </td><td>28        </td><td>28        </td></tr>\n",
       "</tbody>\n",
       "</table>\n"
      ],
      "text/latex": [
       "\\begin{tabular}{r|lllllllllllllllllll}\n",
       " Month & DayOfWeek & FlightDate & Reporting\\_Airline & Origin & Dest & CRSDepTime & CRSArrTime & DepTime & ArrTime & ArrDelay & ArrDelayMinutes & CarrierDelay & WeatherDelay & NASDelay & SecurityDelay & LateAircraftDelay & DepDelay & DepDelayMinutes\\\\\n",
       "\\hline\n",
       "\t  8         & 5          & 2018-08-03 & B6         & LAX        & JFK        & 0013       & 0839       & 0034       & 0913       & 34         & 34         & 11         & 0          & 23         & 0          &  0         & 21         & 21        \\\\\n",
       "\t  6         & 4          & 2006-06-01 & AA         & LAX        & JFK        & 1515       & 2332       & 1507       & 2353       & 21         & 21         &  0         & 0          & 21         & 0          &  0         & -8         &  0        \\\\\n",
       "\t  1         & 7          & 2007-01-28 & UA         & LAX        & JFK        & 0845       & 1656       & 0838       & 1713       & 17         & 17         &  0         & 0          & 17         & 0          &  0         & -7         &  0        \\\\\n",
       "\t  6         & 5          & 2013-06-28 & AA         & LAX        & JFK        & 1200       & 2045       & 1328       & 2220       & 95         & 95         &  5         & 0          &  7         & 0          & 83         & 88         & 88        \\\\\n",
       "\t  9         & 1          & 2010-09-27 & DL         & LAX        & JFK        & 1330       & 2208       & 1426       & 2316       & 68         & 68         &  0         & 0          & 68         & 0          &  0         & 56         & 56        \\\\\n",
       "\t 10         & 3          & 2005-10-12 & AA         & LAX        & JFK        & 0930       & 1755       & 0958       & 1823       & 28         & 28         &  0         & 0          & 28         & 0          &  0         & 28         & 28        \\\\\n",
       "\\end{tabular}\n"
      ],
      "text/markdown": [
       "\n",
       "| Month | DayOfWeek | FlightDate | Reporting_Airline | Origin | Dest | CRSDepTime | CRSArrTime | DepTime | ArrTime | ArrDelay | ArrDelayMinutes | CarrierDelay | WeatherDelay | NASDelay | SecurityDelay | LateAircraftDelay | DepDelay | DepDelayMinutes |\n",
       "|---|---|---|---|---|---|---|---|---|---|---|---|---|---|---|---|---|---|---|\n",
       "|  8         | 5          | 2018-08-03 | B6         | LAX        | JFK        | 0013       | 0839       | 0034       | 0913       | 34         | 34         | 11         | 0          | 23         | 0          |  0         | 21         | 21         |\n",
       "|  6         | 4          | 2006-06-01 | AA         | LAX        | JFK        | 1515       | 2332       | 1507       | 2353       | 21         | 21         |  0         | 0          | 21         | 0          |  0         | -8         |  0         |\n",
       "|  1         | 7          | 2007-01-28 | UA         | LAX        | JFK        | 0845       | 1656       | 0838       | 1713       | 17         | 17         |  0         | 0          | 17         | 0          |  0         | -7         |  0         |\n",
       "|  6         | 5          | 2013-06-28 | AA         | LAX        | JFK        | 1200       | 2045       | 1328       | 2220       | 95         | 95         |  5         | 0          |  7         | 0          | 83         | 88         | 88         |\n",
       "|  9         | 1          | 2010-09-27 | DL         | LAX        | JFK        | 1330       | 2208       | 1426       | 2316       | 68         | 68         |  0         | 0          | 68         | 0          |  0         | 56         | 56         |\n",
       "| 10         | 3          | 2005-10-12 | AA         | LAX        | JFK        | 0930       | 1755       | 0958       | 1823       | 28         | 28         |  0         | 0          | 28         | 0          |  0         | 28         | 28         |\n",
       "\n"
      ],
      "text/plain": [
       "  Month DayOfWeek FlightDate Reporting_Airline Origin Dest CRSDepTime\n",
       "1  8    5         2018-08-03 B6                LAX    JFK  0013      \n",
       "2  6    4         2006-06-01 AA                LAX    JFK  1515      \n",
       "3  1    7         2007-01-28 UA                LAX    JFK  0845      \n",
       "4  6    5         2013-06-28 AA                LAX    JFK  1200      \n",
       "5  9    1         2010-09-27 DL                LAX    JFK  1330      \n",
       "6 10    3         2005-10-12 AA                LAX    JFK  0930      \n",
       "  CRSArrTime DepTime ArrTime ArrDelay ArrDelayMinutes CarrierDelay WeatherDelay\n",
       "1 0839       0034    0913    34       34              11           0           \n",
       "2 2332       1507    2353    21       21               0           0           \n",
       "3 1656       0838    1713    17       17               0           0           \n",
       "4 2045       1328    2220    95       95               5           0           \n",
       "5 2208       1426    2316    68       68               0           0           \n",
       "6 1755       0958    1823    28       28               0           0           \n",
       "  NASDelay SecurityDelay LateAircraftDelay DepDelay DepDelayMinutes\n",
       "1 23       0              0                21       21             \n",
       "2 21       0              0                -8        0             \n",
       "3 17       0              0                -7        0             \n",
       "4  7       0             83                88       88             \n",
       "5 68       0              0                56       56             \n",
       "6 28       0              0                28       28             "
      ]
     },
     "metadata": {},
     "output_type": "display_data"
    }
   ],
   "source": [
    "# Replace the missing values in five columns\n",
    "replace_na <- drop_na_rows %>% replace_na(list(CarrierDelay = 0,\n",
    "                                              WeatherDelay = 0,\n",
    "                                              NASDelay = 0,\n",
    "                                              SecurityDelay = 0,\n",
    "                                              LateAircraftDelay = 0))\n",
    "head(replace_na)"
   ]
  },
  {
   "cell_type": "markdown",
   "metadata": {},
   "source": [
    "<div class=\"alert alert-danger alertdanger\" style=\"margin-top: 20px\">\n",
    "<h1> Question  #1: </h1>\n",
    "\n",
    "<b>According to the example above, let's try to replace NA in \"CarrierDelay\" column by the mean value.</b>\n",
    "\n",
    "</div>\n"
   ]
  },
  {
   "cell_type": "code",
   "execution_count": 23,
   "metadata": {},
   "outputs": [
    {
     "data": {
      "text/html": [
       "18.0487804878049"
      ],
      "text/latex": [
       "18.0487804878049"
      ],
      "text/markdown": [
       "18.0487804878049"
      ],
      "text/plain": [
       "[1] 18.04878"
      ]
     },
     "metadata": {},
     "output_type": "display_data"
    }
   ],
   "source": [
    "mean(drop_na_rows$CarrierDelay)"
   ]
  },
  {
   "cell_type": "code",
   "execution_count": 30,
   "metadata": {},
   "outputs": [],
   "source": [
    "# Write your code below and press Shift+Enter to execute \n",
    "# mean<-mean(drop_na_rows$CarrierDelay)\n",
    "replace_nas <- sub_airline %>% replace_na(list(CarrierDelay = mean(drop_na_rows$CarrierDelay)))"
   ]
  },
  {
   "cell_type": "markdown",
   "metadata": {},
   "source": [
    "<details>\n",
    "    <summary>Click here for the solution.</summary>\n",
    "\n",
    "```r\n",
    "# Calculate the mean vaule for \"CarrierDelay\" column\n",
    "carrier_mean <- mean(drop_na_rows$CarrierDelay)\n",
    "\n",
    "# Replace NA by mean value in \"CarrierDelay\" column\n",
    "sub_airline %>% replace_na(list(CarrierDelay = carrier_mean))\n",
    "```\n",
    "\n",
    "</details>\n"
   ]
  },
  {
   "cell_type": "markdown",
   "metadata": {},
   "source": [
    "<b>Good!</b> Now, we obtain the dataset with no missing values.\n"
   ]
  },
  {
   "cell_type": "markdown",
   "metadata": {},
   "source": [
    "<a id=\"correct_data_format\"></a>\n",
    "\n",
    "### 1.3 Correct Data Format\n",
    "\n",
    "**We are almost there!**\n",
    "\n",
    "<p>The last step in data cleaning is checking and making sure that all data is in the correct format.</p>\n",
    "\n",
    "#### Scoped dplyr Verbs\n",
    "\n",
    "In dplyr, you can add `_all` and `_if` to the end of it's main functions like `mutate`, `filter`, `group_by`, and `summarize`.\n",
    "\n",
    "| dply function |        _all       |              _if |\n",
    "| ------------- | :---------------: | ---------------: |\n",
    "| mutate        |   `mutate_all()`  |    `mutate_if()` |\n",
    "| filter        |   `filter_all()`  |    `filter_if()` |\n",
    "| group_by      |  `group_by_all()` |  `group_by_if()` |\n",
    "| summarize     | `summarize_all()` | `summarize_if()` |\n",
    "\n",
    "These are called **scoped** dplyr verbs. The `_all` variant applies an operation on *all* variaibles and the `_if` variant applies an operation to a variable if the given function is `TRUE`.\n",
    "\n",
    "Now that we understand these different versions of dplyr functions, let's list the data types for each column by using `summarize_all()` and `gather()`:\n"
   ]
  },
  {
   "cell_type": "code",
   "execution_count": 35,
   "metadata": {},
   "outputs": [
    {
     "data": {
      "text/html": [
       "<table>\n",
       "<thead><tr><th scope=col>variable</th><th scope=col>class</th></tr></thead>\n",
       "<tbody>\n",
       "\t<tr><td>Month            </td><td>numeric          </td></tr>\n",
       "\t<tr><td>DayOfWeek        </td><td>numeric          </td></tr>\n",
       "\t<tr><td>FlightDate       </td><td>Date             </td></tr>\n",
       "\t<tr><td>Reporting_Airline</td><td>character        </td></tr>\n",
       "\t<tr><td>Origin           </td><td>character        </td></tr>\n",
       "\t<tr><td>Dest             </td><td>character        </td></tr>\n",
       "\t<tr><td>CRSDepTime       </td><td>character        </td></tr>\n",
       "\t<tr><td>CRSArrTime       </td><td>character        </td></tr>\n",
       "\t<tr><td>DepTime          </td><td>character        </td></tr>\n",
       "\t<tr><td>ArrTime          </td><td>character        </td></tr>\n",
       "\t<tr><td>ArrDelay         </td><td>numeric          </td></tr>\n",
       "\t<tr><td>ArrDelayMinutes  </td><td>numeric          </td></tr>\n",
       "\t<tr><td>CarrierDelay     </td><td>numeric          </td></tr>\n",
       "\t<tr><td>WeatherDelay     </td><td>numeric          </td></tr>\n",
       "\t<tr><td>NASDelay         </td><td>numeric          </td></tr>\n",
       "\t<tr><td>SecurityDelay    </td><td>numeric          </td></tr>\n",
       "\t<tr><td>LateAircraftDelay</td><td>numeric          </td></tr>\n",
       "\t<tr><td>DepDelay         </td><td>numeric          </td></tr>\n",
       "\t<tr><td>DepDelayMinutes  </td><td>numeric          </td></tr>\n",
       "\t<tr><td>DivDistance      </td><td>numeric          </td></tr>\n",
       "\t<tr><td>DivArrDelay      </td><td>numeric          </td></tr>\n",
       "</tbody>\n",
       "</table>\n"
      ],
      "text/latex": [
       "\\begin{tabular}{r|ll}\n",
       " variable & class\\\\\n",
       "\\hline\n",
       "\t Month             & numeric          \\\\\n",
       "\t DayOfWeek         & numeric          \\\\\n",
       "\t FlightDate        & Date             \\\\\n",
       "\t Reporting\\_Airline & character          \\\\\n",
       "\t Origin            & character        \\\\\n",
       "\t Dest              & character        \\\\\n",
       "\t CRSDepTime        & character        \\\\\n",
       "\t CRSArrTime        & character        \\\\\n",
       "\t DepTime           & character        \\\\\n",
       "\t ArrTime           & character        \\\\\n",
       "\t ArrDelay          & numeric          \\\\\n",
       "\t ArrDelayMinutes   & numeric          \\\\\n",
       "\t CarrierDelay      & numeric          \\\\\n",
       "\t WeatherDelay      & numeric          \\\\\n",
       "\t NASDelay          & numeric          \\\\\n",
       "\t SecurityDelay     & numeric          \\\\\n",
       "\t LateAircraftDelay & numeric          \\\\\n",
       "\t DepDelay          & numeric          \\\\\n",
       "\t DepDelayMinutes   & numeric          \\\\\n",
       "\t DivDistance       & numeric          \\\\\n",
       "\t DivArrDelay       & numeric          \\\\\n",
       "\\end{tabular}\n"
      ],
      "text/markdown": [
       "\n",
       "| variable | class |\n",
       "|---|---|\n",
       "| Month             | numeric           |\n",
       "| DayOfWeek         | numeric           |\n",
       "| FlightDate        | Date              |\n",
       "| Reporting_Airline | character         |\n",
       "| Origin            | character         |\n",
       "| Dest              | character         |\n",
       "| CRSDepTime        | character         |\n",
       "| CRSArrTime        | character         |\n",
       "| DepTime           | character         |\n",
       "| ArrTime           | character         |\n",
       "| ArrDelay          | numeric           |\n",
       "| ArrDelayMinutes   | numeric           |\n",
       "| CarrierDelay      | numeric           |\n",
       "| WeatherDelay      | numeric           |\n",
       "| NASDelay          | numeric           |\n",
       "| SecurityDelay     | numeric           |\n",
       "| LateAircraftDelay | numeric           |\n",
       "| DepDelay          | numeric           |\n",
       "| DepDelayMinutes   | numeric           |\n",
       "| DivDistance       | numeric           |\n",
       "| DivArrDelay       | numeric           |\n",
       "\n"
      ],
      "text/plain": [
       "   variable          class    \n",
       "1  Month             numeric  \n",
       "2  DayOfWeek         numeric  \n",
       "3  FlightDate        Date     \n",
       "4  Reporting_Airline character\n",
       "5  Origin            character\n",
       "6  Dest              character\n",
       "7  CRSDepTime        character\n",
       "8  CRSArrTime        character\n",
       "9  DepTime           character\n",
       "10 ArrTime           character\n",
       "11 ArrDelay          numeric  \n",
       "12 ArrDelayMinutes   numeric  \n",
       "13 CarrierDelay      numeric  \n",
       "14 WeatherDelay      numeric  \n",
       "15 NASDelay          numeric  \n",
       "16 SecurityDelay     numeric  \n",
       "17 LateAircraftDelay numeric  \n",
       "18 DepDelay          numeric  \n",
       "19 DepDelayMinutes   numeric  \n",
       "20 DivDistance       numeric  \n",
       "21 DivArrDelay       numeric  "
      ]
     },
     "metadata": {},
     "output_type": "display_data"
    }
   ],
   "source": [
    "sub_airline %>% \n",
    "    summarize_all(class) %>% \n",
    "    gather(variable, class)"
   ]
  },
  {
   "cell_type": "markdown",
   "metadata": {},
   "source": [
    "<p>It is important for later analysis to explore the feature’s data type and convert them to the correct data types; otherwise, the developed models later on may behave strangely, and totally valid data may end up being treated like missing data.</p> \n",
    "\n",
    "Let's re-format the `FlightDate` field into three separate fields (year, month, day) using `separate()`.\n"
   ]
  },
  {
   "cell_type": "code",
   "execution_count": 36,
   "metadata": {},
   "outputs": [
    {
     "data": {
      "text/html": [
       "<table>\n",
       "<thead><tr><th scope=col>Month</th><th scope=col>DayOfWeek</th><th scope=col>year</th><th scope=col>month</th><th scope=col>day</th><th scope=col>Reporting_Airline</th><th scope=col>Origin</th><th scope=col>Dest</th><th scope=col>CRSDepTime</th><th scope=col>CRSArrTime</th><th scope=col>...</th><th scope=col>ArrTime</th><th scope=col>ArrDelay</th><th scope=col>ArrDelayMinutes</th><th scope=col>CarrierDelay</th><th scope=col>WeatherDelay</th><th scope=col>NASDelay</th><th scope=col>SecurityDelay</th><th scope=col>LateAircraftDelay</th><th scope=col>DepDelay</th><th scope=col>DepDelayMinutes</th></tr></thead>\n",
       "<tbody>\n",
       "\t<tr><td> 8  </td><td>5   </td><td>2018</td><td>08  </td><td>03  </td><td>B6  </td><td>LAX </td><td>JFK </td><td>0013</td><td>0839</td><td>... </td><td>0913</td><td>34  </td><td>34  </td><td>11  </td><td>0   </td><td>23  </td><td>0   </td><td> 0  </td><td>21  </td><td>21  </td></tr>\n",
       "\t<tr><td> 6  </td><td>4   </td><td>2006</td><td>06  </td><td>01  </td><td>AA  </td><td>LAX </td><td>JFK </td><td>1515</td><td>2332</td><td>... </td><td>2353</td><td>21  </td><td>21  </td><td> 0  </td><td>0   </td><td>21  </td><td>0   </td><td> 0  </td><td>-8  </td><td> 0  </td></tr>\n",
       "\t<tr><td> 1  </td><td>7   </td><td>2007</td><td>01  </td><td>28  </td><td>UA  </td><td>LAX </td><td>JFK </td><td>0845</td><td>1656</td><td>... </td><td>1713</td><td>17  </td><td>17  </td><td> 0  </td><td>0   </td><td>17  </td><td>0   </td><td> 0  </td><td>-7  </td><td> 0  </td></tr>\n",
       "\t<tr><td> 6  </td><td>5   </td><td>2013</td><td>06  </td><td>28  </td><td>AA  </td><td>LAX </td><td>JFK </td><td>1200</td><td>2045</td><td>... </td><td>2220</td><td>95  </td><td>95  </td><td> 5  </td><td>0   </td><td> 7  </td><td>0   </td><td>83  </td><td>88  </td><td>88  </td></tr>\n",
       "\t<tr><td> 9  </td><td>1   </td><td>2010</td><td>09  </td><td>27  </td><td>DL  </td><td>LAX </td><td>JFK </td><td>1330</td><td>2208</td><td>... </td><td>2316</td><td>68  </td><td>68  </td><td> 0  </td><td>0   </td><td>68  </td><td>0   </td><td> 0  </td><td>56  </td><td>56  </td></tr>\n",
       "\t<tr><td>10  </td><td>3   </td><td>2005</td><td>10  </td><td>12  </td><td>AA  </td><td>LAX </td><td>JFK </td><td>0930</td><td>1755</td><td>... </td><td>1823</td><td>28  </td><td>28  </td><td> 0  </td><td>0   </td><td>28  </td><td>0   </td><td> 0  </td><td>28  </td><td>28  </td></tr>\n",
       "</tbody>\n",
       "</table>\n"
      ],
      "text/latex": [
       "\\begin{tabular}{r|lllllllllllllllllllll}\n",
       " Month & DayOfWeek & year & month & day & Reporting\\_Airline & Origin & Dest & CRSDepTime & CRSArrTime & ... & ArrTime & ArrDelay & ArrDelayMinutes & CarrierDelay & WeatherDelay & NASDelay & SecurityDelay & LateAircraftDelay & DepDelay & DepDelayMinutes\\\\\n",
       "\\hline\n",
       "\t  8   & 5    & 2018 & 08   & 03   & B6   & LAX  & JFK  & 0013 & 0839 & ...  & 0913 & 34   & 34   & 11   & 0    & 23   & 0    &  0   & 21   & 21  \\\\\n",
       "\t  6   & 4    & 2006 & 06   & 01   & AA   & LAX  & JFK  & 1515 & 2332 & ...  & 2353 & 21   & 21   &  0   & 0    & 21   & 0    &  0   & -8   &  0  \\\\\n",
       "\t  1   & 7    & 2007 & 01   & 28   & UA   & LAX  & JFK  & 0845 & 1656 & ...  & 1713 & 17   & 17   &  0   & 0    & 17   & 0    &  0   & -7   &  0  \\\\\n",
       "\t  6   & 5    & 2013 & 06   & 28   & AA   & LAX  & JFK  & 1200 & 2045 & ...  & 2220 & 95   & 95   &  5   & 0    &  7   & 0    & 83   & 88   & 88  \\\\\n",
       "\t  9   & 1    & 2010 & 09   & 27   & DL   & LAX  & JFK  & 1330 & 2208 & ...  & 2316 & 68   & 68   &  0   & 0    & 68   & 0    &  0   & 56   & 56  \\\\\n",
       "\t 10   & 3    & 2005 & 10   & 12   & AA   & LAX  & JFK  & 0930 & 1755 & ...  & 1823 & 28   & 28   &  0   & 0    & 28   & 0    &  0   & 28   & 28  \\\\\n",
       "\\end{tabular}\n"
      ],
      "text/markdown": [
       "\n",
       "| Month | DayOfWeek | year | month | day | Reporting_Airline | Origin | Dest | CRSDepTime | CRSArrTime | ... | ArrTime | ArrDelay | ArrDelayMinutes | CarrierDelay | WeatherDelay | NASDelay | SecurityDelay | LateAircraftDelay | DepDelay | DepDelayMinutes |\n",
       "|---|---|---|---|---|---|---|---|---|---|---|---|---|---|---|---|---|---|---|---|---|\n",
       "|  8   | 5    | 2018 | 08   | 03   | B6   | LAX  | JFK  | 0013 | 0839 | ...  | 0913 | 34   | 34   | 11   | 0    | 23   | 0    |  0   | 21   | 21   |\n",
       "|  6   | 4    | 2006 | 06   | 01   | AA   | LAX  | JFK  | 1515 | 2332 | ...  | 2353 | 21   | 21   |  0   | 0    | 21   | 0    |  0   | -8   |  0   |\n",
       "|  1   | 7    | 2007 | 01   | 28   | UA   | LAX  | JFK  | 0845 | 1656 | ...  | 1713 | 17   | 17   |  0   | 0    | 17   | 0    |  0   | -7   |  0   |\n",
       "|  6   | 5    | 2013 | 06   | 28   | AA   | LAX  | JFK  | 1200 | 2045 | ...  | 2220 | 95   | 95   |  5   | 0    |  7   | 0    | 83   | 88   | 88   |\n",
       "|  9   | 1    | 2010 | 09   | 27   | DL   | LAX  | JFK  | 1330 | 2208 | ...  | 2316 | 68   | 68   |  0   | 0    | 68   | 0    |  0   | 56   | 56   |\n",
       "| 10   | 3    | 2005 | 10   | 12   | AA   | LAX  | JFK  | 0930 | 1755 | ...  | 1823 | 28   | 28   |  0   | 0    | 28   | 0    |  0   | 28   | 28   |\n",
       "\n"
      ],
      "text/plain": [
       "  Month DayOfWeek year month day Reporting_Airline Origin Dest CRSDepTime\n",
       "1  8    5         2018 08    03  B6                LAX    JFK  0013      \n",
       "2  6    4         2006 06    01  AA                LAX    JFK  1515      \n",
       "3  1    7         2007 01    28  UA                LAX    JFK  0845      \n",
       "4  6    5         2013 06    28  AA                LAX    JFK  1200      \n",
       "5  9    1         2010 09    27  DL                LAX    JFK  1330      \n",
       "6 10    3         2005 10    12  AA                LAX    JFK  0930      \n",
       "  CRSArrTime ... ArrTime ArrDelay ArrDelayMinutes CarrierDelay WeatherDelay\n",
       "1 0839       ... 0913    34       34              11           0           \n",
       "2 2332       ... 2353    21       21               0           0           \n",
       "3 1656       ... 1713    17       17               0           0           \n",
       "4 2045       ... 2220    95       95               5           0           \n",
       "5 2208       ... 2316    68       68               0           0           \n",
       "6 1755       ... 1823    28       28               0           0           \n",
       "  NASDelay SecurityDelay LateAircraftDelay DepDelay DepDelayMinutes\n",
       "1 23       0              0                21       21             \n",
       "2 21       0              0                -8        0             \n",
       "3 17       0              0                -7        0             \n",
       "4  7       0             83                88       88             \n",
       "5 68       0              0                56       56             \n",
       "6 28       0              0                28       28             "
      ]
     },
     "metadata": {},
     "output_type": "display_data"
    }
   ],
   "source": [
    "date_airline <- replace_na %>% \n",
    "    separate(FlightDate, sep = \"-\", into = c(\"year\", \"month\", \"day\"))\n",
    "\n",
    "head(date_airline)"
   ]
  },
  {
   "cell_type": "markdown",
   "metadata": {},
   "source": [
    "For a number of reasons, including when you import a dataset into R or process a variable, the data type may be incorrectly established. For example, here we notice that the assigned data type to for `year`, `month`, and `day` is “character” although the expected data type should really be numeric. You can change the type using `mutate_all()` and `mutate_if()`.\n",
    "\n",
    "In the below code, it is mutating `year`, `month`, and `day` values to numeric only if it is a character. Note that in `mutate_if()`, the first parameter is the function `is.character` that checks a *condition* while the second parameters is the function `as.numeric` that *modifies* the data *if* the condition is true.\n"
   ]
  },
  {
   "cell_type": "code",
   "execution_count": 37,
   "metadata": {},
   "outputs": [
    {
     "data": {
      "text/html": [
       "<table>\n",
       "<thead><tr><th scope=col>year</th><th scope=col>month</th><th scope=col>day</th></tr></thead>\n",
       "<tbody>\n",
       "\t<tr><td>2018</td><td> 8  </td><td> 3  </td></tr>\n",
       "\t<tr><td>2006</td><td> 6  </td><td> 1  </td></tr>\n",
       "\t<tr><td>2007</td><td> 1  </td><td>28  </td></tr>\n",
       "\t<tr><td>2013</td><td> 6  </td><td>28  </td></tr>\n",
       "\t<tr><td>2010</td><td> 9  </td><td>27  </td></tr>\n",
       "\t<tr><td>2005</td><td>10  </td><td>12  </td></tr>\n",
       "\t<tr><td>2011</td><td> 4  </td><td>23  </td></tr>\n",
       "\t<tr><td>2005</td><td> 5  </td><td>21  </td></tr>\n",
       "\t<tr><td>2011</td><td> 8  </td><td>14  </td></tr>\n",
       "\t<tr><td>2017</td><td>11  </td><td>20  </td></tr>\n",
       "\t<tr><td>2014</td><td> 5  </td><td>23  </td></tr>\n",
       "\t<tr><td>2011</td><td> 6  </td><td>28  </td></tr>\n",
       "\t<tr><td>2014</td><td>10  </td><td> 1  </td></tr>\n",
       "\t<tr><td>2012</td><td> 3  </td><td>23  </td></tr>\n",
       "\t<tr><td>2008</td><td> 3  </td><td>17  </td></tr>\n",
       "\t<tr><td>2013</td><td> 7  </td><td>10  </td></tr>\n",
       "\t<tr><td>2014</td><td> 9  </td><td> 6  </td></tr>\n",
       "\t<tr><td>2015</td><td> 2  </td><td> 3  </td></tr>\n",
       "\t<tr><td>2016</td><td> 9  </td><td> 4  </td></tr>\n",
       "\t<tr><td>2018</td><td> 5  </td><td>15  </td></tr>\n",
       "\t<tr><td>2004</td><td> 2  </td><td> 6  </td></tr>\n",
       "\t<tr><td>2005</td><td> 8  </td><td>31  </td></tr>\n",
       "\t<tr><td>2012</td><td> 9  </td><td> 4  </td></tr>\n",
       "\t<tr><td>2015</td><td> 9  </td><td>10  </td></tr>\n",
       "\t<tr><td>2010</td><td> 5  </td><td>28  </td></tr>\n",
       "\t<tr><td>2013</td><td> 7  </td><td> 1  </td></tr>\n",
       "\t<tr><td>2004</td><td> 6  </td><td>24  </td></tr>\n",
       "\t<tr><td>2008</td><td> 6  </td><td> 9  </td></tr>\n",
       "\t<tr><td>2019</td><td> 3  </td><td> 3  </td></tr>\n",
       "\t<tr><td>2007</td><td>10  </td><td> 9  </td></tr>\n",
       "\t<tr><td>...</td><td>...</td><td>...</td></tr>\n",
       "\t<tr><td>2016</td><td> 7  </td><td>14  </td></tr>\n",
       "\t<tr><td>2014</td><td>12  </td><td>24  </td></tr>\n",
       "\t<tr><td>2014</td><td> 6  </td><td>10  </td></tr>\n",
       "\t<tr><td>2019</td><td> 4  </td><td>17  </td></tr>\n",
       "\t<tr><td>2007</td><td> 6  </td><td> 3  </td></tr>\n",
       "\t<tr><td>2009</td><td> 6  </td><td>27  </td></tr>\n",
       "\t<tr><td>2013</td><td> 4  </td><td>19  </td></tr>\n",
       "\t<tr><td>2007</td><td> 6  </td><td>24  </td></tr>\n",
       "\t<tr><td>2019</td><td> 8  </td><td>29  </td></tr>\n",
       "\t<tr><td>2013</td><td> 5  </td><td>15  </td></tr>\n",
       "\t<tr><td>2007</td><td> 2  </td><td> 8  </td></tr>\n",
       "\t<tr><td>2013</td><td> 7  </td><td> 8  </td></tr>\n",
       "\t<tr><td>2018</td><td> 7  </td><td>25  </td></tr>\n",
       "\t<tr><td>2017</td><td> 5  </td><td> 5  </td></tr>\n",
       "\t<tr><td>2012</td><td> 2  </td><td>16  </td></tr>\n",
       "\t<tr><td>2012</td><td> 6  </td><td>12  </td></tr>\n",
       "\t<tr><td>2011</td><td> 8  </td><td>21  </td></tr>\n",
       "\t<tr><td>2005</td><td>12  </td><td>25  </td></tr>\n",
       "\t<tr><td>2006</td><td> 2  </td><td>10  </td></tr>\n",
       "\t<tr><td>2003</td><td>12  </td><td>12  </td></tr>\n",
       "\t<tr><td>2003</td><td> 6  </td><td>17  </td></tr>\n",
       "\t<tr><td>2017</td><td> 1  </td><td>29  </td></tr>\n",
       "\t<tr><td>2016</td><td> 9  </td><td>19  </td></tr>\n",
       "\t<tr><td>2019</td><td>12  </td><td>27  </td></tr>\n",
       "\t<tr><td>2005</td><td>10  </td><td>20  </td></tr>\n",
       "\t<tr><td>2018</td><td> 8  </td><td> 3  </td></tr>\n",
       "\t<tr><td>2015</td><td>10  </td><td>19  </td></tr>\n",
       "\t<tr><td>2008</td><td> 3  </td><td> 3  </td></tr>\n",
       "\t<tr><td>2004</td><td> 3  </td><td>27  </td></tr>\n",
       "\t<tr><td>2020</td><td> 3  </td><td> 1  </td></tr>\n",
       "</tbody>\n",
       "</table>\n"
      ],
      "text/latex": [
       "\\begin{tabular}{r|lll}\n",
       " year & month & day\\\\\n",
       "\\hline\n",
       "\t 2018 &  8   &  3  \\\\\n",
       "\t 2006 &  6   &  1  \\\\\n",
       "\t 2007 &  1   & 28  \\\\\n",
       "\t 2013 &  6   & 28  \\\\\n",
       "\t 2010 &  9   & 27  \\\\\n",
       "\t 2005 & 10   & 12  \\\\\n",
       "\t 2011 &  4   & 23  \\\\\n",
       "\t 2005 &  5   & 21  \\\\\n",
       "\t 2011 &  8   & 14  \\\\\n",
       "\t 2017 & 11   & 20  \\\\\n",
       "\t 2014 &  5   & 23  \\\\\n",
       "\t 2011 &  6   & 28  \\\\\n",
       "\t 2014 & 10   &  1  \\\\\n",
       "\t 2012 &  3   & 23  \\\\\n",
       "\t 2008 &  3   & 17  \\\\\n",
       "\t 2013 &  7   & 10  \\\\\n",
       "\t 2014 &  9   &  6  \\\\\n",
       "\t 2015 &  2   &  3  \\\\\n",
       "\t 2016 &  9   &  4  \\\\\n",
       "\t 2018 &  5   & 15  \\\\\n",
       "\t 2004 &  2   &  6  \\\\\n",
       "\t 2005 &  8   & 31  \\\\\n",
       "\t 2012 &  9   &  4  \\\\\n",
       "\t 2015 &  9   & 10  \\\\\n",
       "\t 2010 &  5   & 28  \\\\\n",
       "\t 2013 &  7   &  1  \\\\\n",
       "\t 2004 &  6   & 24  \\\\\n",
       "\t 2008 &  6   &  9  \\\\\n",
       "\t 2019 &  3   &  3  \\\\\n",
       "\t 2007 & 10   &  9  \\\\\n",
       "\t ... & ... & ...\\\\\n",
       "\t 2016 &  7   & 14  \\\\\n",
       "\t 2014 & 12   & 24  \\\\\n",
       "\t 2014 &  6   & 10  \\\\\n",
       "\t 2019 &  4   & 17  \\\\\n",
       "\t 2007 &  6   &  3  \\\\\n",
       "\t 2009 &  6   & 27  \\\\\n",
       "\t 2013 &  4   & 19  \\\\\n",
       "\t 2007 &  6   & 24  \\\\\n",
       "\t 2019 &  8   & 29  \\\\\n",
       "\t 2013 &  5   & 15  \\\\\n",
       "\t 2007 &  2   &  8  \\\\\n",
       "\t 2013 &  7   &  8  \\\\\n",
       "\t 2018 &  7   & 25  \\\\\n",
       "\t 2017 &  5   &  5  \\\\\n",
       "\t 2012 &  2   & 16  \\\\\n",
       "\t 2012 &  6   & 12  \\\\\n",
       "\t 2011 &  8   & 21  \\\\\n",
       "\t 2005 & 12   & 25  \\\\\n",
       "\t 2006 &  2   & 10  \\\\\n",
       "\t 2003 & 12   & 12  \\\\\n",
       "\t 2003 &  6   & 17  \\\\\n",
       "\t 2017 &  1   & 29  \\\\\n",
       "\t 2016 &  9   & 19  \\\\\n",
       "\t 2019 & 12   & 27  \\\\\n",
       "\t 2005 & 10   & 20  \\\\\n",
       "\t 2018 &  8   &  3  \\\\\n",
       "\t 2015 & 10   & 19  \\\\\n",
       "\t 2008 &  3   &  3  \\\\\n",
       "\t 2004 &  3   & 27  \\\\\n",
       "\t 2020 &  3   &  1  \\\\\n",
       "\\end{tabular}\n"
      ],
      "text/markdown": [
       "\n",
       "| year | month | day |\n",
       "|---|---|---|\n",
       "| 2018 |  8   |  3   |\n",
       "| 2006 |  6   |  1   |\n",
       "| 2007 |  1   | 28   |\n",
       "| 2013 |  6   | 28   |\n",
       "| 2010 |  9   | 27   |\n",
       "| 2005 | 10   | 12   |\n",
       "| 2011 |  4   | 23   |\n",
       "| 2005 |  5   | 21   |\n",
       "| 2011 |  8   | 14   |\n",
       "| 2017 | 11   | 20   |\n",
       "| 2014 |  5   | 23   |\n",
       "| 2011 |  6   | 28   |\n",
       "| 2014 | 10   |  1   |\n",
       "| 2012 |  3   | 23   |\n",
       "| 2008 |  3   | 17   |\n",
       "| 2013 |  7   | 10   |\n",
       "| 2014 |  9   |  6   |\n",
       "| 2015 |  2   |  3   |\n",
       "| 2016 |  9   |  4   |\n",
       "| 2018 |  5   | 15   |\n",
       "| 2004 |  2   |  6   |\n",
       "| 2005 |  8   | 31   |\n",
       "| 2012 |  9   |  4   |\n",
       "| 2015 |  9   | 10   |\n",
       "| 2010 |  5   | 28   |\n",
       "| 2013 |  7   |  1   |\n",
       "| 2004 |  6   | 24   |\n",
       "| 2008 |  6   |  9   |\n",
       "| 2019 |  3   |  3   |\n",
       "| 2007 | 10   |  9   |\n",
       "| ... | ... | ... |\n",
       "| 2016 |  7   | 14   |\n",
       "| 2014 | 12   | 24   |\n",
       "| 2014 |  6   | 10   |\n",
       "| 2019 |  4   | 17   |\n",
       "| 2007 |  6   |  3   |\n",
       "| 2009 |  6   | 27   |\n",
       "| 2013 |  4   | 19   |\n",
       "| 2007 |  6   | 24   |\n",
       "| 2019 |  8   | 29   |\n",
       "| 2013 |  5   | 15   |\n",
       "| 2007 |  2   |  8   |\n",
       "| 2013 |  7   |  8   |\n",
       "| 2018 |  7   | 25   |\n",
       "| 2017 |  5   |  5   |\n",
       "| 2012 |  2   | 16   |\n",
       "| 2012 |  6   | 12   |\n",
       "| 2011 |  8   | 21   |\n",
       "| 2005 | 12   | 25   |\n",
       "| 2006 |  2   | 10   |\n",
       "| 2003 | 12   | 12   |\n",
       "| 2003 |  6   | 17   |\n",
       "| 2017 |  1   | 29   |\n",
       "| 2016 |  9   | 19   |\n",
       "| 2019 | 12   | 27   |\n",
       "| 2005 | 10   | 20   |\n",
       "| 2018 |  8   |  3   |\n",
       "| 2015 | 10   | 19   |\n",
       "| 2008 |  3   |  3   |\n",
       "| 2004 |  3   | 27   |\n",
       "| 2020 |  3   |  1   |\n",
       "\n"
      ],
      "text/plain": [
       "    year month day\n",
       "1   2018  8     3 \n",
       "2   2006  6     1 \n",
       "3   2007  1    28 \n",
       "4   2013  6    28 \n",
       "5   2010  9    27 \n",
       "6   2005 10    12 \n",
       "7   2011  4    23 \n",
       "8   2005  5    21 \n",
       "9   2011  8    14 \n",
       "10  2017 11    20 \n",
       "11  2014  5    23 \n",
       "12  2011  6    28 \n",
       "13  2014 10     1 \n",
       "14  2012  3    23 \n",
       "15  2008  3    17 \n",
       "16  2013  7    10 \n",
       "17  2014  9     6 \n",
       "18  2015  2     3 \n",
       "19  2016  9     4 \n",
       "20  2018  5    15 \n",
       "21  2004  2     6 \n",
       "22  2005  8    31 \n",
       "23  2012  9     4 \n",
       "24  2015  9    10 \n",
       "25  2010  5    28 \n",
       "26  2013  7     1 \n",
       "27  2004  6    24 \n",
       "28  2008  6     9 \n",
       "29  2019  3     3 \n",
       "30  2007 10     9 \n",
       "... ...  ...   ...\n",
       "340 2016  7    14 \n",
       "341 2014 12    24 \n",
       "342 2014  6    10 \n",
       "343 2019  4    17 \n",
       "344 2007  6     3 \n",
       "345 2009  6    27 \n",
       "346 2013  4    19 \n",
       "347 2007  6    24 \n",
       "348 2019  8    29 \n",
       "349 2013  5    15 \n",
       "350 2007  2     8 \n",
       "351 2013  7     8 \n",
       "352 2018  7    25 \n",
       "353 2017  5     5 \n",
       "354 2012  2    16 \n",
       "355 2012  6    12 \n",
       "356 2011  8    21 \n",
       "357 2005 12    25 \n",
       "358 2006  2    10 \n",
       "359 2003 12    12 \n",
       "360 2003  6    17 \n",
       "361 2017  1    29 \n",
       "362 2016  9    19 \n",
       "363 2019 12    27 \n",
       "364 2005 10    20 \n",
       "365 2018  8     3 \n",
       "366 2015 10    19 \n",
       "367 2008  3     3 \n",
       "368 2004  3    27 \n",
       "369 2020  3     1 "
      ]
     },
     "metadata": {},
     "output_type": "display_data"
    }
   ],
   "source": [
    "date_airline %>%\n",
    "    select(year, month, day) %>%\n",
    "    mutate_all(type.convert) %>%\n",
    "    mutate_if(is.character, as.numeric)"
   ]
  },
  {
   "cell_type": "markdown",
   "metadata": {},
   "source": [
    "<b>Wonderful!</b>\n",
    "\n",
    "Now, we finally obtain the cleaned dataset with no missing values and all data in its proper format.\n"
   ]
  },
  {
   "cell_type": "markdown",
   "metadata": {},
   "source": [
    "<a id=\"data_normalization\"></a>\n",
    "\n",
    "## 2. Data Normalization\n",
    "\n",
    "**Why normalization?**\n",
    "\n",
    "Normalization is the process of transforming values of several features (variables) into a similar range. An example of why this could be important is if you have a variable for income and another variable for age. Income is likely much bigger values than age, so in a model, income would naturally influence the model more. Thus, normalization helps make comparisons between different variables more *fair*.\n",
    "\n",
    "There are different types of ways to normalize:\n",
    "\n",
    "*   **Simple scaling**: divides each value by the maximum value in a feature. The new range is between 0 and 1.\n",
    "\n",
    "$$x\\_{new} = \\frac{x\\_{old}}{x\\_{max}}$$\n",
    "\n",
    "*   **Min-max**: subtracts the minimum value from the original and divides by the maximum minus the minimum. The minimum becomes 0 and the maximum becomes 1.\n",
    "\n",
    "$$x\\_{new} = \\frac{x\\_{old} - x\\_{min}}{x\\_{max} - x\\_{min}}$$\n",
    "\n",
    "*   **Standardization (Z-score)**: subtract the mean ($\\mu$) of the feature and divide by the standard deviation ($\\sigma$).\n",
    "\n",
    "$$x\\_{new} = \\frac{x\\_{old} - \\mu}{\\sigma}$$\n",
    "\n",
    "From these methods, you can see that typically normalizations include scaling the variable so that the range is from 0 to 1.\n"
   ]
  },
  {
   "cell_type": "markdown",
   "metadata": {},
   "source": [
    "<a id=\"simple_scale\"></a>\n",
    "\n",
    "### 2.1 Simple scaling\n",
    "\n",
    "**Simple scaling** divides each value by the maximum value in a feature. The new range is between 0 and 1.\n",
    "$$x\\_{new} = \\frac{x\\_{old}}{x\\_{max}}$$\n",
    "\n",
    "**Example**\n",
    "\n",
    "To demonstrate simpling scaling, let's say we want to scale the column \"ArrDelay\".\n",
    "\n",
    "*   **Target:** Would like to Normalize those variables so their value ranges from 0 to 1.\n",
    "*   **Approach:** Replace the original value by (original value)/(maximum value)\n"
   ]
  },
  {
   "cell_type": "code",
   "execution_count": 38,
   "metadata": {},
   "outputs": [
    {
     "data": {
      "text/html": [
       "<ol class=list-inline>\n",
       "\t<li>0.00293255131964809</li>\n",
       "\t<li>-0.030791788856305</li>\n",
       "\t<li>-0.0205278592375367</li>\n",
       "\t<li>-0.00439882697947214</li>\n",
       "\t<li>-0.0190615835777126</li>\n",
       "\t<li>-0.0293255131964809</li>\n",
       "</ol>\n"
      ],
      "text/latex": [
       "\\begin{enumerate*}\n",
       "\\item 0.00293255131964809\n",
       "\\item -0.030791788856305\n",
       "\\item -0.0205278592375367\n",
       "\\item -0.00439882697947214\n",
       "\\item -0.0190615835777126\n",
       "\\item -0.0293255131964809\n",
       "\\end{enumerate*}\n"
      ],
      "text/markdown": [
       "1. 0.00293255131964809\n",
       "2. -0.030791788856305\n",
       "3. -0.0205278592375367\n",
       "4. -0.00439882697947214\n",
       "5. -0.0190615835777126\n",
       "6. -0.0293255131964809\n",
       "\n",
       "\n"
      ],
      "text/plain": [
       "[1]  0.002932551 -0.030791789 -0.020527859 -0.004398827 -0.019061584\n",
       "[6] -0.029325513"
      ]
     },
     "metadata": {},
     "output_type": "display_data"
    }
   ],
   "source": [
    "simple_scale <- sub_airline$ArrDelay / max(sub_airline$ArrDelay)\n",
    "head(simple_scale)"
   ]
  },
  {
   "cell_type": "markdown",
   "metadata": {},
   "source": [
    "<div class=\"alert alert-danger alertdanger\" style=\"margin-top: 20px\">\n",
    "<h1> Question #2: </h1>\n",
    "\n",
    "<b>According to the example above, normalize the column \"DepDelay\" using the simple scaling technique.</b>\n",
    "\n",
    "</div>\n"
   ]
  },
  {
   "cell_type": "code",
   "execution_count": 39,
   "metadata": {},
   "outputs": [
    {
     "data": {
      "text/html": [
       "<ol class=list-inline>\n",
       "\t<li>-0.00137362637362637</li>\n",
       "\t<li>0.00549450549450549</li>\n",
       "\t<li>-0.010989010989011</li>\n",
       "\t<li>0.00961538461538462</li>\n",
       "\t<li>-0.00549450549450549</li>\n",
       "\t<li>0.00274725274725275</li>\n",
       "</ol>\n"
      ],
      "text/latex": [
       "\\begin{enumerate*}\n",
       "\\item -0.00137362637362637\n",
       "\\item 0.00549450549450549\n",
       "\\item -0.010989010989011\n",
       "\\item 0.00961538461538462\n",
       "\\item -0.00549450549450549\n",
       "\\item 0.00274725274725275\n",
       "\\end{enumerate*}\n"
      ],
      "text/markdown": [
       "1. -0.00137362637362637\n",
       "2. 0.00549450549450549\n",
       "3. -0.010989010989011\n",
       "4. 0.00961538461538462\n",
       "5. -0.00549450549450549\n",
       "6. 0.00274725274725275\n",
       "\n",
       "\n"
      ],
      "text/plain": [
       "[1] -0.001373626  0.005494505 -0.010989011  0.009615385 -0.005494505\n",
       "[6]  0.002747253"
      ]
     },
     "metadata": {},
     "output_type": "display_data"
    }
   ],
   "source": [
    "# Write your code below and press Shift+Enter to execute \n",
    "simple_scale <- sub_airline$DepDelay / max(sub_airline$DepDelay)\n",
    "head(simple_scale)"
   ]
  },
  {
   "cell_type": "code",
   "execution_count": 47,
   "metadata": {},
   "outputs": [
    {
     "data": {
      "text/html": [
       "<table>\n",
       "<thead><tr><th scope=col>Month</th><th scope=col>DayOfWeek</th><th scope=col>FlightDate</th><th scope=col>Reporting_Airline</th><th scope=col>Origin</th><th scope=col>Dest</th><th scope=col>CRSDepTime</th><th scope=col>CRSArrTime</th><th scope=col>DepTime</th><th scope=col>ArrTime</th><th scope=col>...</th><th scope=col>ArrDelayMinutes</th><th scope=col>CarrierDelay</th><th scope=col>WeatherDelay</th><th scope=col>NASDelay</th><th scope=col>SecurityDelay</th><th scope=col>LateAircraftDelay</th><th scope=col>DepDelay</th><th scope=col>DepDelayMinutes</th><th scope=col>DivDistance</th><th scope=col>DivArrDelay</th></tr></thead>\n",
       "<tbody>\n",
       "\t<tr><td> 3        </td><td>5         </td><td>2003-03-28</td><td>UA        </td><td>LAX       </td><td>JFK       </td><td>2210      </td><td>0615      </td><td>2209      </td><td>0617      </td><td>...       </td><td>2         </td><td>NA        </td><td>NA        </td><td>NA        </td><td>NA        </td><td>NA        </td><td>-1        </td><td>0         </td><td>NA        </td><td>NA        </td></tr>\n",
       "\t<tr><td>11        </td><td>4         </td><td>2018-11-29</td><td>AS        </td><td>LAX       </td><td>JFK       </td><td>1045      </td><td>1912      </td><td>1049      </td><td>1851      </td><td>...       </td><td>0         </td><td>NA        </td><td>NA        </td><td>NA        </td><td>NA        </td><td>NA        </td><td> 4        </td><td>4         </td><td>NA        </td><td>NA        </td></tr>\n",
       "\t<tr><td> 8        </td><td>5         </td><td>2015-08-28</td><td>UA        </td><td>LAX       </td><td>JFK       </td><td>0805      </td><td>1634      </td><td>0757      </td><td>1620      </td><td>...       </td><td>0         </td><td>NA        </td><td>NA        </td><td>NA        </td><td>NA        </td><td>NA        </td><td>-8        </td><td>0         </td><td>NA        </td><td>NA        </td></tr>\n",
       "\t<tr><td> 4        </td><td>7         </td><td>2003-04-20</td><td>DL        </td><td>LAX       </td><td>JFK       </td><td>2205      </td><td>0619      </td><td>2212      </td><td>0616      </td><td>...       </td><td>0         </td><td>NA        </td><td>NA        </td><td>NA        </td><td>NA        </td><td>NA        </td><td> 7        </td><td>7         </td><td>NA        </td><td>NA        </td></tr>\n",
       "\t<tr><td>11        </td><td>3         </td><td>2005-11-30</td><td>UA        </td><td>LAX       </td><td>JFK       </td><td>0840      </td><td>1653      </td><td>0836      </td><td>1640      </td><td>...       </td><td>0         </td><td>NA        </td><td>NA        </td><td>NA        </td><td>NA        </td><td>NA        </td><td>-4        </td><td>0         </td><td>NA        </td><td>NA        </td></tr>\n",
       "</tbody>\n",
       "</table>\n"
      ],
      "text/latex": [
       "\\begin{tabular}{r|lllllllllllllllllllll}\n",
       " Month & DayOfWeek & FlightDate & Reporting\\_Airline & Origin & Dest & CRSDepTime & CRSArrTime & DepTime & ArrTime & ... & ArrDelayMinutes & CarrierDelay & WeatherDelay & NASDelay & SecurityDelay & LateAircraftDelay & DepDelay & DepDelayMinutes & DivDistance & DivArrDelay\\\\\n",
       "\\hline\n",
       "\t  3         & 5          & 2003-03-28 & UA         & LAX        & JFK        & 2210       & 0615       & 2209       & 0617       & ...        & 2          & NA         & NA         & NA         & NA         & NA         & -1         & 0          & NA         & NA        \\\\\n",
       "\t 11         & 4          & 2018-11-29 & AS         & LAX        & JFK        & 1045       & 1912       & 1049       & 1851       & ...        & 0          & NA         & NA         & NA         & NA         & NA         &  4         & 4          & NA         & NA        \\\\\n",
       "\t  8         & 5          & 2015-08-28 & UA         & LAX        & JFK        & 0805       & 1634       & 0757       & 1620       & ...        & 0          & NA         & NA         & NA         & NA         & NA         & -8         & 0          & NA         & NA        \\\\\n",
       "\t  4         & 7          & 2003-04-20 & DL         & LAX        & JFK        & 2205       & 0619       & 2212       & 0616       & ...        & 0          & NA         & NA         & NA         & NA         & NA         &  7         & 7          & NA         & NA        \\\\\n",
       "\t 11         & 3          & 2005-11-30 & UA         & LAX        & JFK        & 0840       & 1653       & 0836       & 1640       & ...        & 0          & NA         & NA         & NA         & NA         & NA         & -4         & 0          & NA         & NA        \\\\\n",
       "\\end{tabular}\n"
      ],
      "text/markdown": [
       "\n",
       "| Month | DayOfWeek | FlightDate | Reporting_Airline | Origin | Dest | CRSDepTime | CRSArrTime | DepTime | ArrTime | ... | ArrDelayMinutes | CarrierDelay | WeatherDelay | NASDelay | SecurityDelay | LateAircraftDelay | DepDelay | DepDelayMinutes | DivDistance | DivArrDelay |\n",
       "|---|---|---|---|---|---|---|---|---|---|---|---|---|---|---|---|---|---|---|---|---|\n",
       "|  3         | 5          | 2003-03-28 | UA         | LAX        | JFK        | 2210       | 0615       | 2209       | 0617       | ...        | 2          | NA         | NA         | NA         | NA         | NA         | -1         | 0          | NA         | NA         |\n",
       "| 11         | 4          | 2018-11-29 | AS         | LAX        | JFK        | 1045       | 1912       | 1049       | 1851       | ...        | 0          | NA         | NA         | NA         | NA         | NA         |  4         | 4          | NA         | NA         |\n",
       "|  8         | 5          | 2015-08-28 | UA         | LAX        | JFK        | 0805       | 1634       | 0757       | 1620       | ...        | 0          | NA         | NA         | NA         | NA         | NA         | -8         | 0          | NA         | NA         |\n",
       "|  4         | 7          | 2003-04-20 | DL         | LAX        | JFK        | 2205       | 0619       | 2212       | 0616       | ...        | 0          | NA         | NA         | NA         | NA         | NA         |  7         | 7          | NA         | NA         |\n",
       "| 11         | 3          | 2005-11-30 | UA         | LAX        | JFK        | 0840       | 1653       | 0836       | 1640       | ...        | 0          | NA         | NA         | NA         | NA         | NA         | -4         | 0          | NA         | NA         |\n",
       "\n"
      ],
      "text/plain": [
       "  Month DayOfWeek FlightDate Reporting_Airline Origin Dest CRSDepTime\n",
       "1  3    5         2003-03-28 UA                LAX    JFK  2210      \n",
       "2 11    4         2018-11-29 AS                LAX    JFK  1045      \n",
       "3  8    5         2015-08-28 UA                LAX    JFK  0805      \n",
       "4  4    7         2003-04-20 DL                LAX    JFK  2205      \n",
       "5 11    3         2005-11-30 UA                LAX    JFK  0840      \n",
       "  CRSArrTime DepTime ArrTime ... ArrDelayMinutes CarrierDelay WeatherDelay\n",
       "1 0615       2209    0617    ... 2               NA           NA          \n",
       "2 1912       1049    1851    ... 0               NA           NA          \n",
       "3 1634       0757    1620    ... 0               NA           NA          \n",
       "4 0619       2212    0616    ... 0               NA           NA          \n",
       "5 1653       0836    1640    ... 0               NA           NA          \n",
       "  NASDelay SecurityDelay LateAircraftDelay DepDelay DepDelayMinutes DivDistance\n",
       "1 NA       NA            NA                -1       0               NA         \n",
       "2 NA       NA            NA                 4       4               NA         \n",
       "3 NA       NA            NA                -8       0               NA         \n",
       "4 NA       NA            NA                 7       7               NA         \n",
       "5 NA       NA            NA                -4       0               NA         \n",
       "  DivArrDelay\n",
       "1 NA         \n",
       "2 NA         \n",
       "3 NA         \n",
       "4 NA         \n",
       "5 NA         "
      ]
     },
     "metadata": {},
     "output_type": "display_data"
    }
   ],
   "source": [
    "head(sub_airline, 5)"
   ]
  },
  {
   "cell_type": "code",
   "execution_count": 49,
   "metadata": {},
   "outputs": [],
   "source": [
    "sub_airlines_norm <-sub_airline %>% mutate(DepDelayNorm = DepDelay / max(sub_airline$DepDelay))"
   ]
  },
  {
   "cell_type": "code",
   "execution_count": 53,
   "metadata": {},
   "outputs": [
    {
     "data": {
      "text/html": [
       "<table>\n",
       "<thead><tr><th scope=col>Month</th><th scope=col>FlightDate</th><th scope=col>Reporting_Airline</th><th scope=col>DepDelay</th><th scope=col>DepDelayNorm</th></tr></thead>\n",
       "<tbody>\n",
       "\t<tr><td> 3          </td><td>2003-03-28  </td><td>UA          </td><td>-1          </td><td>-0.001373626</td></tr>\n",
       "\t<tr><td>11          </td><td>2018-11-29  </td><td>AS          </td><td> 4          </td><td> 0.005494505</td></tr>\n",
       "\t<tr><td> 8          </td><td>2015-08-28  </td><td>UA          </td><td>-8          </td><td>-0.010989011</td></tr>\n",
       "\t<tr><td> 4          </td><td>2003-04-20  </td><td>DL          </td><td> 7          </td><td> 0.009615385</td></tr>\n",
       "\t<tr><td>11          </td><td>2005-11-30  </td><td>UA          </td><td>-4          </td><td>-0.005494505</td></tr>\n",
       "\t<tr><td> 4          </td><td>1992-04-06  </td><td>UA          </td><td> 2          </td><td> 0.002747253</td></tr>\n",
       "</tbody>\n",
       "</table>\n"
      ],
      "text/latex": [
       "\\begin{tabular}{r|lllll}\n",
       " Month & FlightDate & Reporting\\_Airline & DepDelay & DepDelayNorm\\\\\n",
       "\\hline\n",
       "\t  3           & 2003-03-28   & UA           & -1           & -0.001373626\\\\\n",
       "\t 11           & 2018-11-29   & AS           &  4           &  0.005494505\\\\\n",
       "\t  8           & 2015-08-28   & UA           & -8           & -0.010989011\\\\\n",
       "\t  4           & 2003-04-20   & DL           &  7           &  0.009615385\\\\\n",
       "\t 11           & 2005-11-30   & UA           & -4           & -0.005494505\\\\\n",
       "\t  4           & 1992-04-06   & UA           &  2           &  0.002747253\\\\\n",
       "\\end{tabular}\n"
      ],
      "text/markdown": [
       "\n",
       "| Month | FlightDate | Reporting_Airline | DepDelay | DepDelayNorm |\n",
       "|---|---|---|---|---|\n",
       "|  3           | 2003-03-28   | UA           | -1           | -0.001373626 |\n",
       "| 11           | 2018-11-29   | AS           |  4           |  0.005494505 |\n",
       "|  8           | 2015-08-28   | UA           | -8           | -0.010989011 |\n",
       "|  4           | 2003-04-20   | DL           |  7           |  0.009615385 |\n",
       "| 11           | 2005-11-30   | UA           | -4           | -0.005494505 |\n",
       "|  4           | 1992-04-06   | UA           |  2           |  0.002747253 |\n",
       "\n"
      ],
      "text/plain": [
       "  Month FlightDate Reporting_Airline DepDelay DepDelayNorm\n",
       "1  3    2003-03-28 UA                -1       -0.001373626\n",
       "2 11    2018-11-29 AS                 4        0.005494505\n",
       "3  8    2015-08-28 UA                -8       -0.010989011\n",
       "4  4    2003-04-20 DL                 7        0.009615385\n",
       "5 11    2005-11-30 UA                -4       -0.005494505\n",
       "6  4    1992-04-06 UA                 2        0.002747253"
      ]
     },
     "metadata": {},
     "output_type": "display_data"
    }
   ],
   "source": [
    "sub_airlines_norm %>% \n",
    "select(Month, FlightDate, Reporting_Airline, DepDelay, DepDelayNorm) %>%\n",
    "head()"
   ]
  },
  {
   "cell_type": "markdown",
   "metadata": {},
   "source": [
    "<details>\n",
    "    <summary>Click here for the solution.</summary>\n",
    "    \n",
    "```text\n",
    "simple_scale2 <- sub_airline$DepDelay/max(sub_airline$DepDelay)\n",
    "head(simple_scale2)\n",
    "```\n",
    "             \n",
    "</details>\n"
   ]
  },
  {
   "cell_type": "markdown",
   "metadata": {},
   "source": [
    "<a id=\"min_max\"></a>\n",
    "\n",
    "### 2.2 Min-max\n",
    "\n",
    "**Min-max** subtracts the minimum value from the original and divides by the maximum minus the minimum. The minimum becomes 0 and the maximum becomes 1.\n",
    "$$x\\_{new} = \\frac{x\\_{old} - x\\_{min}}{x\\_{max} - x\\_{min}}$$\n",
    "\n",
    "**Example**\n",
    "\n",
    "Using \"ArrDelay\" as an example again, you can transform this column using the min-max technique:\n"
   ]
  },
  {
   "cell_type": "code",
   "execution_count": 54,
   "metadata": {},
   "outputs": [
    {
     "data": {
      "text/html": [
       "<ol class=list-inline>\n",
       "\t<li>0.0993377483443709</li>\n",
       "\t<li>0.0688741721854305</li>\n",
       "\t<li>0.0781456953642384</li>\n",
       "\t<li>0.0927152317880795</li>\n",
       "\t<li>0.0794701986754967</li>\n",
       "\t<li>0.0701986754966887</li>\n",
       "</ol>\n"
      ],
      "text/latex": [
       "\\begin{enumerate*}\n",
       "\\item 0.0993377483443709\n",
       "\\item 0.0688741721854305\n",
       "\\item 0.0781456953642384\n",
       "\\item 0.0927152317880795\n",
       "\\item 0.0794701986754967\n",
       "\\item 0.0701986754966887\n",
       "\\end{enumerate*}\n"
      ],
      "text/markdown": [
       "1. 0.0993377483443709\n",
       "2. 0.0688741721854305\n",
       "3. 0.0781456953642384\n",
       "4. 0.0927152317880795\n",
       "5. 0.0794701986754967\n",
       "6. 0.0701986754966887\n",
       "\n",
       "\n"
      ],
      "text/plain": [
       "[1] 0.09933775 0.06887417 0.07814570 0.09271523 0.07947020 0.07019868"
      ]
     },
     "metadata": {},
     "output_type": "display_data"
    }
   ],
   "source": [
    "minmax_scale <- (sub_airline$ArrDelay - min(sub_airline$ArrDelay)) /\n",
    "                (max(sub_airline$ArrDelay) - min(sub_airline$ArrDelay))\n",
    "head(minmax_scale)"
   ]
  },
  {
   "cell_type": "markdown",
   "metadata": {},
   "source": [
    "<a id=\"data_standardization\"></a>\n",
    "\n",
    "### 2.3 Data Standardization (Z-score)\n",
    "\n",
    "**Standardization (Z-score)** subtracts the mean ($\\mu$) of the feature and divides by the standard deviation ($\\sigma$).\n",
    "$$x\\_{new} = \\frac{x\\_{old} - \\mu}{\\sigma}$$\n",
    "\n",
    "**Example**\n",
    "\n",
    "Let's use \"ArrDelay\" again. We can use `mean()` to find the mean of the feature and we can use `sd()` to find the standard deviation of the feature.\n"
   ]
  },
  {
   "cell_type": "code",
   "execution_count": 55,
   "metadata": {},
   "outputs": [
    {
     "data": {
      "text/html": [
       "<ol class=list-inline>\n",
       "\t<li>-0.0481563066016499</li>\n",
       "\t<li>-0.609225127218637</li>\n",
       "\t<li>-0.438465051378685</li>\n",
       "\t<li>-0.170127789344473</li>\n",
       "\t<li>-0.41407075483012</li>\n",
       "\t<li>-0.584830830670073</li>\n",
       "</ol>\n"
      ],
      "text/latex": [
       "\\begin{enumerate*}\n",
       "\\item -0.0481563066016499\n",
       "\\item -0.609225127218637\n",
       "\\item -0.438465051378685\n",
       "\\item -0.170127789344473\n",
       "\\item -0.41407075483012\n",
       "\\item -0.584830830670073\n",
       "\\end{enumerate*}\n"
      ],
      "text/markdown": [
       "1. -0.0481563066016499\n",
       "2. -0.609225127218637\n",
       "3. -0.438465051378685\n",
       "4. -0.170127789344473\n",
       "5. -0.41407075483012\n",
       "6. -0.584830830670073\n",
       "\n",
       "\n"
      ],
      "text/plain": [
       "[1] -0.04815631 -0.60922513 -0.43846505 -0.17012779 -0.41407075 -0.58483083"
      ]
     },
     "metadata": {},
     "output_type": "display_data"
    }
   ],
   "source": [
    "z_scale <- (sub_airline$ArrDelay - mean(sub_airline$ArrDelay)) / sd(sub_airline$ArrDelay)\n",
    "head(z_scale)"
   ]
  },
  {
   "cell_type": "markdown",
   "metadata": {},
   "source": [
    "<div class=\"alert alert-danger alertdanger\" style=\"margin-top: 20px\">\n",
    "<h1> Question  #3: </h1>\n",
    "\n",
    "<b>According to the example above, standardize the \"DepDelay\" column.</b>\n",
    "\n",
    "</div>\n"
   ]
  },
  {
   "cell_type": "code",
   "execution_count": null,
   "metadata": {},
   "outputs": [],
   "source": [
    "# Write your code below and press Shift+Enter to execute \n"
   ]
  },
  {
   "cell_type": "markdown",
   "metadata": {},
   "source": [
    "<details>\n",
    "    <summary>Click here for the solution.</summary>\n",
    "\n",
    "```text\n",
    "z_scale2 <- (sub_airline$DepDelay - mean(sub_airline$DepDelay)) / sd(sub_airline$DepDelay)\n",
    "head(z_scale2)\n",
    "```\n",
    "\n",
    "</details>\n"
   ]
  },
  {
   "cell_type": "markdown",
   "metadata": {},
   "source": [
    "<a id=\"binning\"></a>\n",
    "\n",
    "## 4. Binning\n",
    "\n",
    "### Why use binning?\n",
    "\n",
    "<p>\n",
    "    Binning is a process of transforming continuous numerical variables into discrete categorical 'bins', for grouped analysis.\n",
    "</p>\n",
    "\n",
    "**Example:**\n",
    "\n",
    "<p>Using binning, we categorize arrival delays into four bins by quartiles. Quartiles refer to the boundaries that divide observations into four defined intervals. They are often determined based on the values of data points and how they are compared with the rest of the dataset. In the actual airline dataset, \"ArrDelay\" is a numerical variable ranging from -73 to 682, it has 2855 unique values. We can categorize them into 4 bins. Can we rearrange them into four ‘bins' to simplify analysis? </p>\n",
    "\n",
    "We will use the tidyverse method `mutate(quantile_rank = ntile())` to segment the \"ArrDelay\" column into 4 bins\n"
   ]
  },
  {
   "cell_type": "markdown",
   "metadata": {},
   "source": [
    "### Example of Binning Data In Tidyverse\n"
   ]
  },
  {
   "cell_type": "markdown",
   "metadata": {},
   "source": [
    "Lets plot the histogram of flight arrival delays, to see what the distribution of \"ArrDelay\" looks like.\n"
   ]
  },
  {
   "cell_type": "code",
   "execution_count": 56,
   "metadata": {},
   "outputs": [
    {
     "data": {
      "image/png": "[encoded data removed]",
      "text/plain": [
       "plot without title"
      ]
     },
     "metadata": {},
     "output_type": "display_data"
    }
   ],
   "source": [
    "ggplot(data = sub_airline, mapping = aes(x = ArrDelay)) +\n",
    "  geom_histogram(bins = 100, color = \"white\", fill = \"red\") +\n",
    "  coord_cartesian(xlim = c(-73, 682))"
   ]
  },
  {
   "cell_type": "markdown",
   "metadata": {},
   "source": [
    "First we use the dplyr function `ntile` to break “ArrDelay” into 4 buckets, which have equal amount of observations of flight arrival delays. We then create a list “quantile_rank” that contains 4 bins, which are respectively labeled \"1\", \"2\", \"3\", \"4\". So bin 1 would contain the first 25% of data, bin 2 the next 25% of data and so on.\n"
   ]
  },
  {
   "cell_type": "code",
   "execution_count": 57,
   "metadata": {},
   "outputs": [
    {
     "data": {
      "text/html": [
       "<table>\n",
       "<thead><tr><th scope=col>Month</th><th scope=col>DayOfWeek</th><th scope=col>FlightDate</th><th scope=col>Reporting_Airline</th><th scope=col>Origin</th><th scope=col>Dest</th><th scope=col>CRSDepTime</th><th scope=col>CRSArrTime</th><th scope=col>DepTime</th><th scope=col>ArrTime</th><th scope=col>...</th><th scope=col>CarrierDelay</th><th scope=col>WeatherDelay</th><th scope=col>NASDelay</th><th scope=col>SecurityDelay</th><th scope=col>LateAircraftDelay</th><th scope=col>DepDelay</th><th scope=col>DepDelayMinutes</th><th scope=col>DivDistance</th><th scope=col>DivArrDelay</th><th scope=col>quantile_rank</th></tr></thead>\n",
       "<tbody>\n",
       "\t<tr><td> 3        </td><td>5         </td><td>2003-03-28</td><td>UA        </td><td>LAX       </td><td>JFK       </td><td>2210      </td><td>0615      </td><td>2209      </td><td>0617      </td><td>...       </td><td>NA        </td><td>NA        </td><td>NA        </td><td>NA        </td><td>NA        </td><td>-1        </td><td>0         </td><td>NA        </td><td>NA        </td><td>3         </td></tr>\n",
       "\t<tr><td>11        </td><td>4         </td><td>2018-11-29</td><td>AS        </td><td>LAX       </td><td>JFK       </td><td>1045      </td><td>1912      </td><td>1049      </td><td>1851      </td><td>...       </td><td>NA        </td><td>NA        </td><td>NA        </td><td>NA        </td><td>NA        </td><td> 4        </td><td>4         </td><td>NA        </td><td>NA        </td><td>1         </td></tr>\n",
       "\t<tr><td> 8        </td><td>5         </td><td>2015-08-28</td><td>UA        </td><td>LAX       </td><td>JFK       </td><td>0805      </td><td>1634      </td><td>0757      </td><td>1620      </td><td>...       </td><td>NA        </td><td>NA        </td><td>NA        </td><td>NA        </td><td>NA        </td><td>-8        </td><td>0         </td><td>NA        </td><td>NA        </td><td>2         </td></tr>\n",
       "\t<tr><td> 4        </td><td>7         </td><td>2003-04-20</td><td>DL        </td><td>LAX       </td><td>JFK       </td><td>2205      </td><td>0619      </td><td>2212      </td><td>0616      </td><td>...       </td><td>NA        </td><td>NA        </td><td>NA        </td><td>NA        </td><td>NA        </td><td> 7        </td><td>7         </td><td>NA        </td><td>NA        </td><td>2         </td></tr>\n",
       "\t<tr><td>11        </td><td>3         </td><td>2005-11-30</td><td>UA        </td><td>LAX       </td><td>JFK       </td><td>0840      </td><td>1653      </td><td>0836      </td><td>1640      </td><td>...       </td><td>NA        </td><td>NA        </td><td>NA        </td><td>NA        </td><td>NA        </td><td>-4        </td><td>0         </td><td>NA        </td><td>NA        </td><td>2         </td></tr>\n",
       "\t<tr><td> 4        </td><td>1         </td><td>1992-04-06</td><td>UA        </td><td>LAX       </td><td>JFK       </td><td>1450      </td><td>2308      </td><td>1452      </td><td>2248      </td><td>...       </td><td>NA        </td><td>NA        </td><td>NA        </td><td>NA        </td><td>NA        </td><td> 2        </td><td>2         </td><td>NA        </td><td>NA        </td><td>1         </td></tr>\n",
       "</tbody>\n",
       "</table>\n"
      ],
      "text/latex": [
       "\\begin{tabular}{r|llllllllllllllllllllll}\n",
       " Month & DayOfWeek & FlightDate & Reporting\\_Airline & Origin & Dest & CRSDepTime & CRSArrTime & DepTime & ArrTime & ... & CarrierDelay & WeatherDelay & NASDelay & SecurityDelay & LateAircraftDelay & DepDelay & DepDelayMinutes & DivDistance & DivArrDelay & quantile\\_rank\\\\\n",
       "\\hline\n",
       "\t  3         & 5          & 2003-03-28 & UA         & LAX        & JFK        & 2210       & 0615       & 2209       & 0617       & ...        & NA         & NA         & NA         & NA         & NA         & -1         & 0          & NA         & NA         & 3         \\\\\n",
       "\t 11         & 4          & 2018-11-29 & AS         & LAX        & JFK        & 1045       & 1912       & 1049       & 1851       & ...        & NA         & NA         & NA         & NA         & NA         &  4         & 4          & NA         & NA         & 1         \\\\\n",
       "\t  8         & 5          & 2015-08-28 & UA         & LAX        & JFK        & 0805       & 1634       & 0757       & 1620       & ...        & NA         & NA         & NA         & NA         & NA         & -8         & 0          & NA         & NA         & 2         \\\\\n",
       "\t  4         & 7          & 2003-04-20 & DL         & LAX        & JFK        & 2205       & 0619       & 2212       & 0616       & ...        & NA         & NA         & NA         & NA         & NA         &  7         & 7          & NA         & NA         & 2         \\\\\n",
       "\t 11         & 3          & 2005-11-30 & UA         & LAX        & JFK        & 0840       & 1653       & 0836       & 1640       & ...        & NA         & NA         & NA         & NA         & NA         & -4         & 0          & NA         & NA         & 2         \\\\\n",
       "\t  4         & 1          & 1992-04-06 & UA         & LAX        & JFK        & 1450       & 2308       & 1452       & 2248       & ...        & NA         & NA         & NA         & NA         & NA         &  2         & 2          & NA         & NA         & 1         \\\\\n",
       "\\end{tabular}\n"
      ],
      "text/markdown": [
       "\n",
       "| Month | DayOfWeek | FlightDate | Reporting_Airline | Origin | Dest | CRSDepTime | CRSArrTime | DepTime | ArrTime | ... | CarrierDelay | WeatherDelay | NASDelay | SecurityDelay | LateAircraftDelay | DepDelay | DepDelayMinutes | DivDistance | DivArrDelay | quantile_rank |\n",
       "|---|---|---|---|---|---|---|---|---|---|---|---|---|---|---|---|---|---|---|---|---|\n",
       "|  3         | 5          | 2003-03-28 | UA         | LAX        | JFK        | 2210       | 0615       | 2209       | 0617       | ...        | NA         | NA         | NA         | NA         | NA         | -1         | 0          | NA         | NA         | 3          |\n",
       "| 11         | 4          | 2018-11-29 | AS         | LAX        | JFK        | 1045       | 1912       | 1049       | 1851       | ...        | NA         | NA         | NA         | NA         | NA         |  4         | 4          | NA         | NA         | 1          |\n",
       "|  8         | 5          | 2015-08-28 | UA         | LAX        | JFK        | 0805       | 1634       | 0757       | 1620       | ...        | NA         | NA         | NA         | NA         | NA         | -8         | 0          | NA         | NA         | 2          |\n",
       "|  4         | 7          | 2003-04-20 | DL         | LAX        | JFK        | 2205       | 0619       | 2212       | 0616       | ...        | NA         | NA         | NA         | NA         | NA         |  7         | 7          | NA         | NA         | 2          |\n",
       "| 11         | 3          | 2005-11-30 | UA         | LAX        | JFK        | 0840       | 1653       | 0836       | 1640       | ...        | NA         | NA         | NA         | NA         | NA         | -4         | 0          | NA         | NA         | 2          |\n",
       "|  4         | 1          | 1992-04-06 | UA         | LAX        | JFK        | 1450       | 2308       | 1452       | 2248       | ...        | NA         | NA         | NA         | NA         | NA         |  2         | 2          | NA         | NA         | 1          |\n",
       "\n"
      ],
      "text/plain": [
       "  Month DayOfWeek FlightDate Reporting_Airline Origin Dest CRSDepTime\n",
       "1  3    5         2003-03-28 UA                LAX    JFK  2210      \n",
       "2 11    4         2018-11-29 AS                LAX    JFK  1045      \n",
       "3  8    5         2015-08-28 UA                LAX    JFK  0805      \n",
       "4  4    7         2003-04-20 DL                LAX    JFK  2205      \n",
       "5 11    3         2005-11-30 UA                LAX    JFK  0840      \n",
       "6  4    1         1992-04-06 UA                LAX    JFK  1450      \n",
       "  CRSArrTime DepTime ArrTime ... CarrierDelay WeatherDelay NASDelay\n",
       "1 0615       2209    0617    ... NA           NA           NA      \n",
       "2 1912       1049    1851    ... NA           NA           NA      \n",
       "3 1634       0757    1620    ... NA           NA           NA      \n",
       "4 0619       2212    0616    ... NA           NA           NA      \n",
       "5 1653       0836    1640    ... NA           NA           NA      \n",
       "6 2308       1452    2248    ... NA           NA           NA      \n",
       "  SecurityDelay LateAircraftDelay DepDelay DepDelayMinutes DivDistance\n",
       "1 NA            NA                -1       0               NA         \n",
       "2 NA            NA                 4       4               NA         \n",
       "3 NA            NA                -8       0               NA         \n",
       "4 NA            NA                 7       7               NA         \n",
       "5 NA            NA                -4       0               NA         \n",
       "6 NA            NA                 2       2               NA         \n",
       "  DivArrDelay quantile_rank\n",
       "1 NA          3            \n",
       "2 NA          1            \n",
       "3 NA          2            \n",
       "4 NA          2            \n",
       "5 NA          2            \n",
       "6 NA          1            "
      ]
     },
     "metadata": {},
     "output_type": "display_data"
    }
   ],
   "source": [
    "binning <- sub_airline %>%\n",
    "      mutate(quantile_rank = ntile(sub_airline$ArrDelay,4))\n",
    "\n",
    "head(binning)"
   ]
  },
  {
   "cell_type": "markdown",
   "metadata": {},
   "source": [
    "The observations are put into different bins based on the flights' delay minutes. The larger the bin label is, the longer the flight was delayed.\n",
    "\n",
    "Now if we look at a histogram of the bins, you can see that all bins are equal.\n"
   ]
  },
  {
   "cell_type": "code",
   "execution_count": 58,
   "metadata": {},
   "outputs": [
    {
     "data": {
      "image/png": "[encoded data removed]",
      "text/plain": [
       "plot without title"
      ]
     },
     "metadata": {},
     "output_type": "display_data"
    }
   ],
   "source": [
    "ggplot(data = binning, mapping = aes(x = quantile_rank)) +\n",
    "  geom_histogram(bins = 4, color = \"white\", fill = \"red\")"
   ]
  },
  {
   "cell_type": "markdown",
   "metadata": {},
   "source": [
    "<a id=\"indicator\"></a>\n",
    "\n",
    "## 5. Indicator variable\n",
    "\n",
    "#### What is an indicator variable?\n",
    "\n",
    "An indicator variable (or dummy variable) is a **numerical variable** used to **label categories**. They are called 'dummies' because the numbers themselves don't have inherent meaning.\n",
    "\n",
    "**Why we use indicator variables?**\n",
    "\n",
    "<p>\n",
    "Regression models need numerical variables, however categorical variables in their original forms are strings. Using indicator variables allows us to be able to use these categorical variables in regression models.\n",
    "</p>\n",
    "\n",
    "**Example**\n",
    "\n",
    "<p>\n",
    "    In the airline dataset, the \"Reporting_Airline\" feature is a categorical variable that has nine values, \"AA\", \"AS\", \"B6\", \"DL\", \"HP\", \"PA (1)\", \"TW\", \"UA\" or \"VX”, which are in character type. For further analysis, we need to convert these variables into some form of numeric format. \n",
    "</p>\n",
    "\n",
    "We will use the tidyverse's method `spread()` method to convert categorical variables to dummy variables. The parameters to use in the function are:\n",
    "\n",
    "*   `key`: the column to convert into categorical values\n",
    "*   `value`: the value you want to set the key to\n",
    "*   `fill`: fills the missing values with this value\n",
    "\n",
    "Also keep in mind that the method will drop the \"Reporting_Airline\" column by default. So if you used \"ArrDelay\" as the key value instead, that column would get dropped.\n",
    "\n",
    "The below code does the following:\n",
    "\n",
    "1.  `mutate` - creates a column `dummy` with all 1's then\n",
    "2.  `spread` - creates new column for every `Reporting_Ariline` and sets the value to 1 from `dummy`. But replaces the 1 with a 0 if the corresponding value is `NA` in `Reporting_Airline` then\n",
    "3.  `slice` - looks at the specified rows\n"
   ]
  },
  {
   "cell_type": "code",
   "execution_count": 59,
   "metadata": {},
   "outputs": [
    {
     "data": {
      "text/html": [
       "<table>\n",
       "<thead><tr><th scope=col>Month</th><th scope=col>DayOfWeek</th><th scope=col>FlightDate</th><th scope=col>Origin</th><th scope=col>Dest</th><th scope=col>CRSDepTime</th><th scope=col>CRSArrTime</th><th scope=col>DepTime</th><th scope=col>ArrTime</th><th scope=col>ArrDelay</th><th scope=col>...</th><th scope=col>DivArrDelay</th><th scope=col>AA</th><th scope=col>AS</th><th scope=col>B6</th><th scope=col>DL</th><th scope=col>HP</th><th scope=col>PA (1)</th><th scope=col>TW</th><th scope=col>UA</th><th scope=col>VX</th></tr></thead>\n",
       "<tbody>\n",
       "\t<tr><td> 3        </td><td>5         </td><td>2003-03-28</td><td>LAX       </td><td>JFK       </td><td>2210      </td><td>0615      </td><td>2209      </td><td>0617      </td><td>  2       </td><td>...       </td><td>NA        </td><td>0         </td><td>0         </td><td>0         </td><td>0         </td><td>0         </td><td>0         </td><td>0         </td><td>1         </td><td>0         </td></tr>\n",
       "\t<tr><td>11        </td><td>4         </td><td>2018-11-29</td><td>LAX       </td><td>JFK       </td><td>1045      </td><td>1912      </td><td>1049      </td><td>1851      </td><td>-21       </td><td>...       </td><td>NA        </td><td>0         </td><td>1         </td><td>0         </td><td>0         </td><td>0         </td><td>0         </td><td>0         </td><td>0         </td><td>0         </td></tr>\n",
       "\t<tr><td> 8        </td><td>5         </td><td>2015-08-28</td><td>LAX       </td><td>JFK       </td><td>0805      </td><td>1634      </td><td>0757      </td><td>1620      </td><td>-14       </td><td>...       </td><td>NA        </td><td>0         </td><td>0         </td><td>0         </td><td>0         </td><td>0         </td><td>0         </td><td>0         </td><td>1         </td><td>0         </td></tr>\n",
       "\t<tr><td> 4        </td><td>7         </td><td>2003-04-20</td><td>LAX       </td><td>JFK       </td><td>2205      </td><td>0619      </td><td>2212      </td><td>0616      </td><td> -3       </td><td>...       </td><td>NA        </td><td>0         </td><td>0         </td><td>0         </td><td>1         </td><td>0         </td><td>0         </td><td>0         </td><td>0         </td><td>0         </td></tr>\n",
       "\t<tr><td>11        </td><td>3         </td><td>2005-11-30</td><td>LAX       </td><td>JFK       </td><td>0840      </td><td>1653      </td><td>0836      </td><td>1640      </td><td>-13       </td><td>...       </td><td>NA        </td><td>0         </td><td>0         </td><td>0         </td><td>0         </td><td>0         </td><td>0         </td><td>0         </td><td>1         </td><td>0         </td></tr>\n",
       "</tbody>\n",
       "</table>\n"
      ],
      "text/latex": [
       "\\begin{tabular}{r|lllllllllllllllllllllllllllll}\n",
       " Month & DayOfWeek & FlightDate & Origin & Dest & CRSDepTime & CRSArrTime & DepTime & ArrTime & ArrDelay & ... & DivArrDelay & AA & AS & B6 & DL & HP & PA (1) & TW & UA & VX\\\\\n",
       "\\hline\n",
       "\t  3         & 5          & 2003-03-28 & LAX        & JFK        & 2210       & 0615       & 2209       & 0617       &   2        & ...        & NA         & 0          & 0          & 0          & 0          & 0          & 0          & 0          & 1          & 0         \\\\\n",
       "\t 11         & 4          & 2018-11-29 & LAX        & JFK        & 1045       & 1912       & 1049       & 1851       & -21        & ...        & NA         & 0          & 1          & 0          & 0          & 0          & 0          & 0          & 0          & 0         \\\\\n",
       "\t  8         & 5          & 2015-08-28 & LAX        & JFK        & 0805       & 1634       & 0757       & 1620       & -14        & ...        & NA         & 0          & 0          & 0          & 0          & 0          & 0          & 0          & 1          & 0         \\\\\n",
       "\t  4         & 7          & 2003-04-20 & LAX        & JFK        & 2205       & 0619       & 2212       & 0616       &  -3        & ...        & NA         & 0          & 0          & 0          & 1          & 0          & 0          & 0          & 0          & 0         \\\\\n",
       "\t 11         & 3          & 2005-11-30 & LAX        & JFK        & 0840       & 1653       & 0836       & 1640       & -13        & ...        & NA         & 0          & 0          & 0          & 0          & 0          & 0          & 0          & 1          & 0         \\\\\n",
       "\\end{tabular}\n"
      ],
      "text/markdown": [
       "\n",
       "| Month | DayOfWeek | FlightDate | Origin | Dest | CRSDepTime | CRSArrTime | DepTime | ArrTime | ArrDelay | ... | DivArrDelay | AA | AS | B6 | DL | HP | PA (1) | TW | UA | VX |\n",
       "|---|---|---|---|---|---|---|---|---|---|---|---|---|---|---|---|---|---|---|---|---|\n",
       "|  3         | 5          | 2003-03-28 | LAX        | JFK        | 2210       | 0615       | 2209       | 0617       |   2        | ...        | NA         | 0          | 0          | 0          | 0          | 0          | 0          | 0          | 1          | 0          |\n",
       "| 11         | 4          | 2018-11-29 | LAX        | JFK        | 1045       | 1912       | 1049       | 1851       | -21        | ...        | NA         | 0          | 1          | 0          | 0          | 0          | 0          | 0          | 0          | 0          |\n",
       "|  8         | 5          | 2015-08-28 | LAX        | JFK        | 0805       | 1634       | 0757       | 1620       | -14        | ...        | NA         | 0          | 0          | 0          | 0          | 0          | 0          | 0          | 1          | 0          |\n",
       "|  4         | 7          | 2003-04-20 | LAX        | JFK        | 2205       | 0619       | 2212       | 0616       |  -3        | ...        | NA         | 0          | 0          | 0          | 1          | 0          | 0          | 0          | 0          | 0          |\n",
       "| 11         | 3          | 2005-11-30 | LAX        | JFK        | 0840       | 1653       | 0836       | 1640       | -13        | ...        | NA         | 0          | 0          | 0          | 0          | 0          | 0          | 0          | 1          | 0          |\n",
       "\n"
      ],
      "text/plain": [
       "  Month DayOfWeek FlightDate Origin Dest CRSDepTime CRSArrTime DepTime ArrTime\n",
       "1  3    5         2003-03-28 LAX    JFK  2210       0615       2209    0617   \n",
       "2 11    4         2018-11-29 LAX    JFK  1045       1912       1049    1851   \n",
       "3  8    5         2015-08-28 LAX    JFK  0805       1634       0757    1620   \n",
       "4  4    7         2003-04-20 LAX    JFK  2205       0619       2212    0616   \n",
       "5 11    3         2005-11-30 LAX    JFK  0840       1653       0836    1640   \n",
       "  ArrDelay ... DivArrDelay AA AS B6 DL HP PA (1) TW UA VX\n",
       "1   2      ... NA          0  0  0  0  0  0      0  1  0 \n",
       "2 -21      ... NA          0  1  0  0  0  0      0  0  0 \n",
       "3 -14      ... NA          0  0  0  0  0  0      0  1  0 \n",
       "4  -3      ... NA          0  0  0  1  0  0      0  0  0 \n",
       "5 -13      ... NA          0  0  0  0  0  0      0  1  0 "
      ]
     },
     "metadata": {},
     "output_type": "display_data"
    }
   ],
   "source": [
    "sub_airline %>%\n",
    "  mutate(dummy = 1) %>% # column with single value\n",
    "  spread(\n",
    "    key = Reporting_Airline, # column to spread\n",
    "    value = dummy,\n",
    "    fill = 0) %>%\n",
    "  slice(1:5)"
   ]
  },
  {
   "cell_type": "markdown",
   "metadata": {},
   "source": [
    "When a value occurs in the original feature, we set the corresponding value to one in the new feature; the rest of the features are set to zero.\n",
    "\n",
    "So in the output above, for the first row, the reporting airline is \"UA\". Therefore, the feature \"UA\" is set to one and the other features to zero.\n",
    "Similarly, for the second row, the reporting airline value is \"AS\". Therefore, the feature \"AS\" is set to one and the other features to zero.\n"
   ]
  },
  {
   "cell_type": "markdown",
   "metadata": {},
   "source": [
    "Alternatively, instead of assigning dummy values 0 or 1, we can assign flight delay values to each feature. So this will also create new columns, one for each `Reporting_Airline`. Taking the first row for example, the column \"UA\" is now set to 2 because that is the value from ArrDelay.\n"
   ]
  },
  {
   "cell_type": "code",
   "execution_count": 60,
   "metadata": {},
   "outputs": [
    {
     "data": {
      "text/html": [
       "<table>\n",
       "<thead><tr><th scope=col>Month</th><th scope=col>DayOfWeek</th><th scope=col>FlightDate</th><th scope=col>Origin</th><th scope=col>Dest</th><th scope=col>CRSDepTime</th><th scope=col>CRSArrTime</th><th scope=col>DepTime</th><th scope=col>ArrTime</th><th scope=col>ArrDelayMinutes</th><th scope=col>...</th><th scope=col>DivArrDelay</th><th scope=col>AA</th><th scope=col>AS</th><th scope=col>B6</th><th scope=col>DL</th><th scope=col>HP</th><th scope=col>PA (1)</th><th scope=col>TW</th><th scope=col>UA</th><th scope=col>VX</th></tr></thead>\n",
       "<tbody>\n",
       "\t<tr><td> 3        </td><td>5         </td><td>2003-03-28</td><td>LAX       </td><td>JFK       </td><td>2210      </td><td>0615      </td><td>2209      </td><td>0617      </td><td>2         </td><td>...       </td><td>NA        </td><td>NA        </td><td> NA       </td><td>NA        </td><td>NA        </td><td>NA        </td><td>NA        </td><td>NA        </td><td>  2       </td><td>NA        </td></tr>\n",
       "\t<tr><td>11        </td><td>4         </td><td>2018-11-29</td><td>LAX       </td><td>JFK       </td><td>1045      </td><td>1912      </td><td>1049      </td><td>1851      </td><td>0         </td><td>...       </td><td>NA        </td><td>NA        </td><td>-21       </td><td>NA        </td><td>NA        </td><td>NA        </td><td>NA        </td><td>NA        </td><td> NA       </td><td>NA        </td></tr>\n",
       "\t<tr><td> 8        </td><td>5         </td><td>2015-08-28</td><td>LAX       </td><td>JFK       </td><td>0805      </td><td>1634      </td><td>0757      </td><td>1620      </td><td>0         </td><td>...       </td><td>NA        </td><td>NA        </td><td> NA       </td><td>NA        </td><td>NA        </td><td>NA        </td><td>NA        </td><td>NA        </td><td>-14       </td><td>NA        </td></tr>\n",
       "\t<tr><td> 4        </td><td>7         </td><td>2003-04-20</td><td>LAX       </td><td>JFK       </td><td>2205      </td><td>0619      </td><td>2212      </td><td>0616      </td><td>0         </td><td>...       </td><td>NA        </td><td>NA        </td><td> NA       </td><td>NA        </td><td>-3        </td><td>NA        </td><td>NA        </td><td>NA        </td><td> NA       </td><td>NA        </td></tr>\n",
       "\t<tr><td>11        </td><td>3         </td><td>2005-11-30</td><td>LAX       </td><td>JFK       </td><td>0840      </td><td>1653      </td><td>0836      </td><td>1640      </td><td>0         </td><td>...       </td><td>NA        </td><td>NA        </td><td> NA       </td><td>NA        </td><td>NA        </td><td>NA        </td><td>NA        </td><td>NA        </td><td>-13       </td><td>NA        </td></tr>\n",
       "</tbody>\n",
       "</table>\n"
      ],
      "text/latex": [
       "\\begin{tabular}{r|llllllllllllllllllllllllllll}\n",
       " Month & DayOfWeek & FlightDate & Origin & Dest & CRSDepTime & CRSArrTime & DepTime & ArrTime & ArrDelayMinutes & ... & DivArrDelay & AA & AS & B6 & DL & HP & PA (1) & TW & UA & VX\\\\\n",
       "\\hline\n",
       "\t  3         & 5          & 2003-03-28 & LAX        & JFK        & 2210       & 0615       & 2209       & 0617       & 2          & ...        & NA         & NA         &  NA        & NA         & NA         & NA         & NA         & NA         &   2        & NA        \\\\\n",
       "\t 11         & 4          & 2018-11-29 & LAX        & JFK        & 1045       & 1912       & 1049       & 1851       & 0          & ...        & NA         & NA         & -21        & NA         & NA         & NA         & NA         & NA         &  NA        & NA        \\\\\n",
       "\t  8         & 5          & 2015-08-28 & LAX        & JFK        & 0805       & 1634       & 0757       & 1620       & 0          & ...        & NA         & NA         &  NA        & NA         & NA         & NA         & NA         & NA         & -14        & NA        \\\\\n",
       "\t  4         & 7          & 2003-04-20 & LAX        & JFK        & 2205       & 0619       & 2212       & 0616       & 0          & ...        & NA         & NA         &  NA        & NA         & -3         & NA         & NA         & NA         &  NA        & NA        \\\\\n",
       "\t 11         & 3          & 2005-11-30 & LAX        & JFK        & 0840       & 1653       & 0836       & 1640       & 0          & ...        & NA         & NA         &  NA        & NA         & NA         & NA         & NA         & NA         & -13        & NA        \\\\\n",
       "\\end{tabular}\n"
      ],
      "text/markdown": [
       "\n",
       "| Month | DayOfWeek | FlightDate | Origin | Dest | CRSDepTime | CRSArrTime | DepTime | ArrTime | ArrDelayMinutes | ... | DivArrDelay | AA | AS | B6 | DL | HP | PA (1) | TW | UA | VX |\n",
       "|---|---|---|---|---|---|---|---|---|---|---|---|---|---|---|---|---|---|---|---|---|\n",
       "|  3         | 5          | 2003-03-28 | LAX        | JFK        | 2210       | 0615       | 2209       | 0617       | 2          | ...        | NA         | NA         |  NA        | NA         | NA         | NA         | NA         | NA         |   2        | NA         |\n",
       "| 11         | 4          | 2018-11-29 | LAX        | JFK        | 1045       | 1912       | 1049       | 1851       | 0          | ...        | NA         | NA         | -21        | NA         | NA         | NA         | NA         | NA         |  NA        | NA         |\n",
       "|  8         | 5          | 2015-08-28 | LAX        | JFK        | 0805       | 1634       | 0757       | 1620       | 0          | ...        | NA         | NA         |  NA        | NA         | NA         | NA         | NA         | NA         | -14        | NA         |\n",
       "|  4         | 7          | 2003-04-20 | LAX        | JFK        | 2205       | 0619       | 2212       | 0616       | 0          | ...        | NA         | NA         |  NA        | NA         | -3         | NA         | NA         | NA         |  NA        | NA         |\n",
       "| 11         | 3          | 2005-11-30 | LAX        | JFK        | 0840       | 1653       | 0836       | 1640       | 0          | ...        | NA         | NA         |  NA        | NA         | NA         | NA         | NA         | NA         | -13        | NA         |\n",
       "\n"
      ],
      "text/plain": [
       "  Month DayOfWeek FlightDate Origin Dest CRSDepTime CRSArrTime DepTime ArrTime\n",
       "1  3    5         2003-03-28 LAX    JFK  2210       0615       2209    0617   \n",
       "2 11    4         2018-11-29 LAX    JFK  1045       1912       1049    1851   \n",
       "3  8    5         2015-08-28 LAX    JFK  0805       1634       0757    1620   \n",
       "4  4    7         2003-04-20 LAX    JFK  2205       0619       2212    0616   \n",
       "5 11    3         2005-11-30 LAX    JFK  0840       1653       0836    1640   \n",
       "  ArrDelayMinutes ... DivArrDelay AA AS  B6 DL HP PA (1) TW UA  VX\n",
       "1 2               ... NA          NA  NA NA NA NA NA     NA   2 NA\n",
       "2 0               ... NA          NA -21 NA NA NA NA     NA  NA NA\n",
       "3 0               ... NA          NA  NA NA NA NA NA     NA -14 NA\n",
       "4 0               ... NA          NA  NA NA -3 NA NA     NA  NA NA\n",
       "5 0               ... NA          NA  NA NA NA NA NA     NA -13 NA"
      ]
     },
     "metadata": {},
     "output_type": "display_data"
    }
   ],
   "source": [
    "sub_airline %>% \n",
    "  spread(Reporting_Airline, ArrDelay) %>% \n",
    "  slice(1:5)"
   ]
  },
  {
   "cell_type": "markdown",
   "metadata": {},
   "source": [
    "**Visualize Airline Category**\n",
    "\n",
    "Let's visualize how many data points in each airline category.\n"
   ]
  },
  {
   "cell_type": "code",
   "execution_count": 61,
   "metadata": {},
   "outputs": [
    {
     "data": {
      "image/png": "[encoded data removed]",
      "text/plain": [
       "plot without title"
      ]
     },
     "metadata": {},
     "output_type": "display_data"
    }
   ],
   "source": [
    "sub_airline %>% # start with data\n",
    "   mutate(Reporting_Airline = factor(Reporting_Airline,\n",
    "                                     labels = c(\"AA\", \"AS\", \"DL\", \"UA\", \"B6\", \"PA (1)\", \"HP\", \"TW\", \"VX\")))%>%\n",
    "  ggplot(aes(Reporting_Airline)) +\n",
    "  stat_count(width = 0.5) +\n",
    "  labs(x = \"Number of data points in each airline\")"
   ]
  },
  {
   "cell_type": "markdown",
   "metadata": {},
   "source": [
    "<div class=\"alert alert-danger alertdanger\" style=\"margin-top: 20px\">\n",
    "<h1> Question  #4: </h1>\n",
    "\n",
    "<b>As above, create indicator variable to the column of \"Month\".</b>\n",
    "\n",
    "</div>\n"
   ]
  },
  {
   "cell_type": "code",
   "execution_count": 87,
   "metadata": {},
   "outputs": [
    {
     "name": "stdout",
     "output_type": "stream",
     "text": [
      "Observations: 2,855\n",
      "Variables: 32\n",
      "$ DayOfWeek         <dbl> 5, 4, 5, 7, 3, 1, 1, 3, 4, 4, 4, 5, 4, 3, 7, 6, 4...\n",
      "$ FlightDate        <date> 2003-03-28, 2018-11-29, 2015-08-28, 2003-04-20, ...\n",
      "$ Reporting_Airline <chr> \"UA\", \"AS\", \"UA\", \"DL\", \"UA\", \"UA\", \"VX\", \"HP\", \"...\n",
      "$ Origin            <chr> \"LAX\", \"LAX\", \"LAX\", \"LAX\", \"LAX\", \"LAX\", \"LAX\", ...\n",
      "$ Dest              <chr> \"JFK\", \"JFK\", \"JFK\", \"JFK\", \"JFK\", \"JFK\", \"JFK\", ...\n",
      "$ CRSDepTime        <chr> \"2210\", \"1045\", \"0805\", \"2205\", \"0840\", \"1450\", \"...\n",
      "$ CRSArrTime        <chr> \"0615\", \"1912\", \"1634\", \"0619\", \"1653\", \"2308\", \"...\n",
      "$ DepTime           <chr> \"2209\", \"1049\", \"0757\", \"2212\", \"0836\", \"1452\", \"...\n",
      "$ ArrTime           <chr> \"0617\", \"1851\", \"1620\", \"0616\", \"1640\", \"2248\", \"...\n",
      "$ ArrDelay          <dbl> 2, -21, -14, -3, -13, -20, 1, -40, 25, 7, 5, 34, ...\n",
      "$ ArrDelayMinutes   <dbl> 2, 0, 0, 0, 0, 0, 1, 0, 25, 7, 5, 34, 21, 0, 14, ...\n",
      "$ CarrierDelay      <dbl> NA, NA, NA, NA, NA, NA, NA, NA, NA, NA, NA, 11, 0...\n",
      "$ WeatherDelay      <dbl> NA, NA, NA, NA, NA, NA, NA, NA, NA, NA, NA, 0, 0,...\n",
      "$ NASDelay          <dbl> NA, NA, NA, NA, NA, NA, NA, NA, NA, NA, NA, 23, 2...\n",
      "$ SecurityDelay     <dbl> NA, NA, NA, NA, NA, NA, NA, NA, NA, NA, NA, 0, 0,...\n",
      "$ LateAircraftDelay <dbl> NA, NA, NA, NA, NA, NA, NA, NA, NA, NA, NA, 0, 0,...\n",
      "$ DepDelay          <dbl> -1, 4, -8, 7, -4, 2, -2, -2, 2, 15, 2, 21, -8, -2...\n",
      "$ DepDelayMinutes   <dbl> 0, 4, 0, 7, 0, 2, 0, 0, 2, 15, 2, 21, 0, 0, 0, 39...\n",
      "$ DivDistance       <dbl> NA, NA, NA, NA, NA, NA, NA, NA, NA, NA, NA, NA, N...\n",
      "$ DivArrDelay       <dbl> NA, NA, NA, NA, NA, NA, NA, NA, NA, NA, NA, NA, N...\n",
      "$ `1`               <dbl> 0, 0, 0, 0, 0, 0, 0, 0, 0, 0, 0, 0, 0, 0, 0, 0, 0...\n",
      "$ `2`               <dbl> 0, 0, 0, 0, 0, 0, 0, 0, 1, 0, 0, 0, 0, 1, 0, 0, 0...\n",
      "$ `3`               <dbl> 1, 0, 0, 0, 0, 0, 0, 0, 0, 1, 0, 0, 0, 0, 0, 1, 0...\n",
      "$ `4`               <dbl> 0, 0, 0, 1, 0, 1, 0, 0, 0, 0, 0, 0, 0, 0, 0, 0, 0...\n",
      "$ `5`               <dbl> 0, 0, 0, 0, 0, 0, 0, 0, 0, 0, 0, 0, 0, 0, 0, 0, 0...\n",
      "$ `6`               <dbl> 0, 0, 0, 0, 0, 0, 0, 0, 0, 0, 0, 0, 1, 0, 0, 0, 1...\n",
      "$ `7`               <dbl> 0, 0, 0, 0, 0, 0, 0, 0, 0, 0, 0, 0, 0, 0, 0, 0, 0...\n",
      "$ `8`               <dbl> 0, 0, 1, 0, 0, 0, 0, 0, 0, 0, 0, 1, 0, 0, 1, 0, 0...\n",
      "$ `9`               <dbl> 0, 0, 0, 0, 0, 0, 0, 0, 0, 0, 0, 0, 0, 0, 0, 0, 0...\n",
      "$ `10`              <dbl> 0, 0, 0, 0, 0, 0, 0, 0, 0, 0, 1, 0, 0, 0, 0, 0, 0...\n",
      "$ `11`              <dbl> 0, 1, 0, 0, 1, 0, 0, 0, 0, 0, 0, 0, 0, 0, 0, 0, 0...\n",
      "$ `12`              <dbl> 0, 0, 0, 0, 0, 0, 1, 1, 0, 0, 0, 0, 0, 0, 0, 0, 0...\n"
     ]
    }
   ],
   "source": [
    "# Write your code below and press Shift+Enter to execute\n",
    "sub_airline %>%\n",
    "  mutate(dummy = 1) %>% # column with single value\n",
    "  spread(\n",
    "    key = Month, # column to spread\n",
    "    value = dummy,\n",
    "    fill = 0) %>%\n",
    "  # slice(1:5) \n",
    "glimpse()"
   ]
  },
  {
   "cell_type": "markdown",
   "metadata": {},
   "source": [
    "<details>\n",
    "    <summary>Click here for the solution.</summary>\n",
    "\n",
    "```r\n",
    "sub_airline %>%\n",
    "  mutate(dummy = 1) %>% # column with single value\n",
    "  spread(\n",
    "    key = Month, # column to spread\n",
    "    value = dummy,\n",
    "    fill = 0) %>%\n",
    "  slice(1:5)\n",
    "```\n",
    "\n",
    "</details>\n"
   ]
  },
  {
   "cell_type": "markdown",
   "metadata": {},
   "source": [
    " <div class=\"alert alert-danger alertdanger\" style=\"margin-top: 20px\">\n",
    "<h1> Question  #5: </h1>\n",
    "\n",
    "<b>Now, create indicator variable to the column of \"Month\" by applying departure delay values</b>\n",
    "\n",
    "</div>\n"
   ]
  },
  {
   "cell_type": "code",
   "execution_count": 85,
   "metadata": {},
   "outputs": [
    {
     "data": {
      "text/html": [
       "<table>\n",
       "<thead><tr><th scope=col>DayOfWeek</th><th scope=col>FlightDate</th><th scope=col>Reporting_Airline</th><th scope=col>Origin</th><th scope=col>Dest</th><th scope=col>CRSDepTime</th><th scope=col>CRSArrTime</th><th scope=col>DepTime</th><th scope=col>ArrTime</th><th scope=col>ArrDelay</th><th scope=col>...</th><th scope=col>3</th><th scope=col>4</th><th scope=col>5</th><th scope=col>6</th><th scope=col>7</th><th scope=col>8</th><th scope=col>9</th><th scope=col>10</th><th scope=col>11</th><th scope=col>12</th></tr></thead>\n",
       "<tbody>\n",
       "\t<tr><td>5         </td><td>2003-03-28</td><td>UA        </td><td>LAX       </td><td>JFK       </td><td>2210      </td><td>0615      </td><td>2209      </td><td>0617      </td><td>  2       </td><td>...       </td><td>-1        </td><td>0         </td><td>0         </td><td>0         </td><td>0         </td><td> 0        </td><td>0         </td><td>0         </td><td> 0        </td><td>0         </td></tr>\n",
       "\t<tr><td>4         </td><td>2018-11-29</td><td>AS        </td><td>LAX       </td><td>JFK       </td><td>1045      </td><td>1912      </td><td>1049      </td><td>1851      </td><td>-21       </td><td>...       </td><td> 0        </td><td>0         </td><td>0         </td><td>0         </td><td>0         </td><td> 0        </td><td>0         </td><td>0         </td><td> 4        </td><td>0         </td></tr>\n",
       "\t<tr><td>5         </td><td>2015-08-28</td><td>UA        </td><td>LAX       </td><td>JFK       </td><td>0805      </td><td>1634      </td><td>0757      </td><td>1620      </td><td>-14       </td><td>...       </td><td> 0        </td><td>0         </td><td>0         </td><td>0         </td><td>0         </td><td>-8        </td><td>0         </td><td>0         </td><td> 0        </td><td>0         </td></tr>\n",
       "\t<tr><td>7         </td><td>2003-04-20</td><td>DL        </td><td>LAX       </td><td>JFK       </td><td>2205      </td><td>0619      </td><td>2212      </td><td>0616      </td><td> -3       </td><td>...       </td><td> 0        </td><td>7         </td><td>0         </td><td>0         </td><td>0         </td><td> 0        </td><td>0         </td><td>0         </td><td> 0        </td><td>0         </td></tr>\n",
       "\t<tr><td>3         </td><td>2005-11-30</td><td>UA        </td><td>LAX       </td><td>JFK       </td><td>0840      </td><td>1653      </td><td>0836      </td><td>1640      </td><td>-13       </td><td>...       </td><td> 0        </td><td>0         </td><td>0         </td><td>0         </td><td>0         </td><td> 0        </td><td>0         </td><td>0         </td><td>-4        </td><td>0         </td></tr>\n",
       "</tbody>\n",
       "</table>\n"
      ],
      "text/latex": [
       "\\begin{tabular}{r|lllllllllllllllllllllllllllllll}\n",
       " DayOfWeek & FlightDate & Reporting\\_Airline & Origin & Dest & CRSDepTime & CRSArrTime & DepTime & ArrTime & ArrDelay & ... & 3 & 4 & 5 & 6 & 7 & 8 & 9 & 10 & 11 & 12\\\\\n",
       "\\hline\n",
       "\t 5          & 2003-03-28 & UA         & LAX        & JFK        & 2210       & 0615       & 2209       & 0617       &   2        & ...        & -1         & 0          & 0          & 0          & 0          &  0         & 0          & 0          &  0         & 0         \\\\\n",
       "\t 4          & 2018-11-29 & AS         & LAX        & JFK        & 1045       & 1912       & 1049       & 1851       & -21        & ...        &  0         & 0          & 0          & 0          & 0          &  0         & 0          & 0          &  4         & 0         \\\\\n",
       "\t 5          & 2015-08-28 & UA         & LAX        & JFK        & 0805       & 1634       & 0757       & 1620       & -14        & ...        &  0         & 0          & 0          & 0          & 0          & -8         & 0          & 0          &  0         & 0         \\\\\n",
       "\t 7          & 2003-04-20 & DL         & LAX        & JFK        & 2205       & 0619       & 2212       & 0616       &  -3        & ...        &  0         & 7          & 0          & 0          & 0          &  0         & 0          & 0          &  0         & 0         \\\\\n",
       "\t 3          & 2005-11-30 & UA         & LAX        & JFK        & 0840       & 1653       & 0836       & 1640       & -13        & ...        &  0         & 0          & 0          & 0          & 0          &  0         & 0          & 0          & -4         & 0         \\\\\n",
       "\\end{tabular}\n"
      ],
      "text/markdown": [
       "\n",
       "| DayOfWeek | FlightDate | Reporting_Airline | Origin | Dest | CRSDepTime | CRSArrTime | DepTime | ArrTime | ArrDelay | ... | 3 | 4 | 5 | 6 | 7 | 8 | 9 | 10 | 11 | 12 |\n",
       "|---|---|---|---|---|---|---|---|---|---|---|---|---|---|---|---|---|---|---|---|---|\n",
       "| 5          | 2003-03-28 | UA         | LAX        | JFK        | 2210       | 0615       | 2209       | 0617       |   2        | ...        | -1         | 0          | 0          | 0          | 0          |  0         | 0          | 0          |  0         | 0          |\n",
       "| 4          | 2018-11-29 | AS         | LAX        | JFK        | 1045       | 1912       | 1049       | 1851       | -21        | ...        |  0         | 0          | 0          | 0          | 0          |  0         | 0          | 0          |  4         | 0          |\n",
       "| 5          | 2015-08-28 | UA         | LAX        | JFK        | 0805       | 1634       | 0757       | 1620       | -14        | ...        |  0         | 0          | 0          | 0          | 0          | -8         | 0          | 0          |  0         | 0          |\n",
       "| 7          | 2003-04-20 | DL         | LAX        | JFK        | 2205       | 0619       | 2212       | 0616       |  -3        | ...        |  0         | 7          | 0          | 0          | 0          |  0         | 0          | 0          |  0         | 0          |\n",
       "| 3          | 2005-11-30 | UA         | LAX        | JFK        | 0840       | 1653       | 0836       | 1640       | -13        | ...        |  0         | 0          | 0          | 0          | 0          |  0         | 0          | 0          | -4         | 0          |\n",
       "\n"
      ],
      "text/plain": [
       "  DayOfWeek FlightDate Reporting_Airline Origin Dest CRSDepTime CRSArrTime\n",
       "1 5         2003-03-28 UA                LAX    JFK  2210       0615      \n",
       "2 4         2018-11-29 AS                LAX    JFK  1045       1912      \n",
       "3 5         2015-08-28 UA                LAX    JFK  0805       1634      \n",
       "4 7         2003-04-20 DL                LAX    JFK  2205       0619      \n",
       "5 3         2005-11-30 UA                LAX    JFK  0840       1653      \n",
       "  DepTime ArrTime ArrDelay ... 3  4 5 6 7 8  9 10 11 12\n",
       "1 2209    0617      2      ... -1 0 0 0 0  0 0 0   0 0 \n",
       "2 1049    1851    -21      ...  0 0 0 0 0  0 0 0   4 0 \n",
       "3 0757    1620    -14      ...  0 0 0 0 0 -8 0 0   0 0 \n",
       "4 2212    0616     -3      ...  0 7 0 0 0  0 0 0   0 0 \n",
       "5 0836    1640    -13      ...  0 0 0 0 0  0 0 0  -4 0 "
      ]
     },
     "metadata": {},
     "output_type": "display_data"
    }
   ],
   "source": [
    "# Write your code below and press Shift+Enter to execute \n",
    "sub_airline %>%\n",
    "# mutate(Month) %>%\n",
    "  spread(\n",
    "    key = Month, # column to spread\n",
    "    value = DepDelay,\n",
    "    fill = 0) %>%\n",
    "slice(1:5)\n"
   ]
  },
  {
   "cell_type": "code",
   "execution_count": 86,
   "metadata": {},
   "outputs": [
    {
     "data": {
      "text/html": [
       "<table>\n",
       "<thead><tr><th scope=col>Month</th><th scope=col>DayOfWeek</th><th scope=col>FlightDate</th><th scope=col>Reporting_Airline</th><th scope=col>Origin</th><th scope=col>Dest</th><th scope=col>CRSDepTime</th><th scope=col>CRSArrTime</th><th scope=col>DepTime</th><th scope=col>ArrTime</th><th scope=col>...</th><th scope=col>ArrDelayMinutes</th><th scope=col>CarrierDelay</th><th scope=col>WeatherDelay</th><th scope=col>NASDelay</th><th scope=col>SecurityDelay</th><th scope=col>LateAircraftDelay</th><th scope=col>DepDelay</th><th scope=col>DepDelayMinutes</th><th scope=col>DivDistance</th><th scope=col>DivArrDelay</th></tr></thead>\n",
       "<tbody>\n",
       "\t<tr><td> 3        </td><td>5         </td><td>2003-03-28</td><td>UA        </td><td>LAX       </td><td>JFK       </td><td>2210      </td><td>0615      </td><td>2209      </td><td>0617      </td><td>...       </td><td>2         </td><td>NA        </td><td>NA        </td><td>NA        </td><td>NA        </td><td>NA        </td><td>-1        </td><td>0         </td><td>NA        </td><td>NA        </td></tr>\n",
       "\t<tr><td>11        </td><td>4         </td><td>2018-11-29</td><td>AS        </td><td>LAX       </td><td>JFK       </td><td>1045      </td><td>1912      </td><td>1049      </td><td>1851      </td><td>...       </td><td>0         </td><td>NA        </td><td>NA        </td><td>NA        </td><td>NA        </td><td>NA        </td><td> 4        </td><td>4         </td><td>NA        </td><td>NA        </td></tr>\n",
       "\t<tr><td> 8        </td><td>5         </td><td>2015-08-28</td><td>UA        </td><td>LAX       </td><td>JFK       </td><td>0805      </td><td>1634      </td><td>0757      </td><td>1620      </td><td>...       </td><td>0         </td><td>NA        </td><td>NA        </td><td>NA        </td><td>NA        </td><td>NA        </td><td>-8        </td><td>0         </td><td>NA        </td><td>NA        </td></tr>\n",
       "\t<tr><td> 4        </td><td>7         </td><td>2003-04-20</td><td>DL        </td><td>LAX       </td><td>JFK       </td><td>2205      </td><td>0619      </td><td>2212      </td><td>0616      </td><td>...       </td><td>0         </td><td>NA        </td><td>NA        </td><td>NA        </td><td>NA        </td><td>NA        </td><td> 7        </td><td>7         </td><td>NA        </td><td>NA        </td></tr>\n",
       "\t<tr><td>11        </td><td>3         </td><td>2005-11-30</td><td>UA        </td><td>LAX       </td><td>JFK       </td><td>0840      </td><td>1653      </td><td>0836      </td><td>1640      </td><td>...       </td><td>0         </td><td>NA        </td><td>NA        </td><td>NA        </td><td>NA        </td><td>NA        </td><td>-4        </td><td>0         </td><td>NA        </td><td>NA        </td></tr>\n",
       "</tbody>\n",
       "</table>\n"
      ],
      "text/latex": [
       "\\begin{tabular}{r|lllllllllllllllllllll}\n",
       " Month & DayOfWeek & FlightDate & Reporting\\_Airline & Origin & Dest & CRSDepTime & CRSArrTime & DepTime & ArrTime & ... & ArrDelayMinutes & CarrierDelay & WeatherDelay & NASDelay & SecurityDelay & LateAircraftDelay & DepDelay & DepDelayMinutes & DivDistance & DivArrDelay\\\\\n",
       "\\hline\n",
       "\t  3         & 5          & 2003-03-28 & UA         & LAX        & JFK        & 2210       & 0615       & 2209       & 0617       & ...        & 2          & NA         & NA         & NA         & NA         & NA         & -1         & 0          & NA         & NA        \\\\\n",
       "\t 11         & 4          & 2018-11-29 & AS         & LAX        & JFK        & 1045       & 1912       & 1049       & 1851       & ...        & 0          & NA         & NA         & NA         & NA         & NA         &  4         & 4          & NA         & NA        \\\\\n",
       "\t  8         & 5          & 2015-08-28 & UA         & LAX        & JFK        & 0805       & 1634       & 0757       & 1620       & ...        & 0          & NA         & NA         & NA         & NA         & NA         & -8         & 0          & NA         & NA        \\\\\n",
       "\t  4         & 7          & 2003-04-20 & DL         & LAX        & JFK        & 2205       & 0619       & 2212       & 0616       & ...        & 0          & NA         & NA         & NA         & NA         & NA         &  7         & 7          & NA         & NA        \\\\\n",
       "\t 11         & 3          & 2005-11-30 & UA         & LAX        & JFK        & 0840       & 1653       & 0836       & 1640       & ...        & 0          & NA         & NA         & NA         & NA         & NA         & -4         & 0          & NA         & NA        \\\\\n",
       "\\end{tabular}\n"
      ],
      "text/markdown": [
       "\n",
       "| Month | DayOfWeek | FlightDate | Reporting_Airline | Origin | Dest | CRSDepTime | CRSArrTime | DepTime | ArrTime | ... | ArrDelayMinutes | CarrierDelay | WeatherDelay | NASDelay | SecurityDelay | LateAircraftDelay | DepDelay | DepDelayMinutes | DivDistance | DivArrDelay |\n",
       "|---|---|---|---|---|---|---|---|---|---|---|---|---|---|---|---|---|---|---|---|---|\n",
       "|  3         | 5          | 2003-03-28 | UA         | LAX        | JFK        | 2210       | 0615       | 2209       | 0617       | ...        | 2          | NA         | NA         | NA         | NA         | NA         | -1         | 0          | NA         | NA         |\n",
       "| 11         | 4          | 2018-11-29 | AS         | LAX        | JFK        | 1045       | 1912       | 1049       | 1851       | ...        | 0          | NA         | NA         | NA         | NA         | NA         |  4         | 4          | NA         | NA         |\n",
       "|  8         | 5          | 2015-08-28 | UA         | LAX        | JFK        | 0805       | 1634       | 0757       | 1620       | ...        | 0          | NA         | NA         | NA         | NA         | NA         | -8         | 0          | NA         | NA         |\n",
       "|  4         | 7          | 2003-04-20 | DL         | LAX        | JFK        | 2205       | 0619       | 2212       | 0616       | ...        | 0          | NA         | NA         | NA         | NA         | NA         |  7         | 7          | NA         | NA         |\n",
       "| 11         | 3          | 2005-11-30 | UA         | LAX        | JFK        | 0840       | 1653       | 0836       | 1640       | ...        | 0          | NA         | NA         | NA         | NA         | NA         | -4         | 0          | NA         | NA         |\n",
       "\n"
      ],
      "text/plain": [
       "  Month DayOfWeek FlightDate Reporting_Airline Origin Dest CRSDepTime\n",
       "1  3    5         2003-03-28 UA                LAX    JFK  2210      \n",
       "2 11    4         2018-11-29 AS                LAX    JFK  1045      \n",
       "3  8    5         2015-08-28 UA                LAX    JFK  0805      \n",
       "4  4    7         2003-04-20 DL                LAX    JFK  2205      \n",
       "5 11    3         2005-11-30 UA                LAX    JFK  0840      \n",
       "  CRSArrTime DepTime ArrTime ... ArrDelayMinutes CarrierDelay WeatherDelay\n",
       "1 0615       2209    0617    ... 2               NA           NA          \n",
       "2 1912       1049    1851    ... 0               NA           NA          \n",
       "3 1634       0757    1620    ... 0               NA           NA          \n",
       "4 0619       2212    0616    ... 0               NA           NA          \n",
       "5 1653       0836    1640    ... 0               NA           NA          \n",
       "  NASDelay SecurityDelay LateAircraftDelay DepDelay DepDelayMinutes DivDistance\n",
       "1 NA       NA            NA                -1       0               NA         \n",
       "2 NA       NA            NA                 4       4               NA         \n",
       "3 NA       NA            NA                -8       0               NA         \n",
       "4 NA       NA            NA                 7       7               NA         \n",
       "5 NA       NA            NA                -4       0               NA         \n",
       "  DivArrDelay\n",
       "1 NA         \n",
       "2 NA         \n",
       "3 NA         \n",
       "4 NA         \n",
       "5 NA         "
      ]
     },
     "metadata": {},
     "output_type": "display_data"
    }
   ],
   "source": [
    "head(sub_airline,5)"
   ]
  },
  {
   "cell_type": "markdown",
   "metadata": {},
   "source": [
    "<details>\n",
    "    <summary>Click here for the solution.</summary>\n",
    "\n",
    "```r\n",
    "sub_airline %>% \n",
    "  spread(Month, DepDelay) %>% \n",
    "  slice(1:5) # Show only the first 5 rows\n",
    "```\n",
    "\n",
    "</details>\n"
   ]
  },
  {
   "cell_type": "markdown",
   "metadata": {},
   "source": [
    "<h1>Thank you for completing this notebook</h1>\n"
   ]
  },
  {
   "cell_type": "markdown",
   "metadata": {},
   "source": [
    "<h3>About the Authors:</h3>\n",
    "\n",
    "This notebook was written by <a href=\"https://www.linkedin.com/in/yiwen-li-47a019119/?utm_medium=Exinfluencer&utm_source=Exinfluencer&utm_content=000026UJ&utm_term=10006555&utm_id=NA-SkillsNetwork-Channel-SkillsNetworkCoursesIBMDA0151ENSkillsNetwork21582452-2021-01-01\" target=\"_blank\">Yiwen Li</a> and <a href=\"https://www.linkedin.com/in/gabrieladequeiroz/?utm_medium=Exinfluencer&utm_source=Exinfluencer&utm_content=000026UJ&utm_term=10006555&utm_id=NA-SkillsNetwork-Channel-SkillsNetworkCoursesIBMDA0151ENSkillsNetwork21582452-2021-01-01\" target=\"_blank\">Gabriela de Queiroz</a>.\n",
    "\n",
    "<p><a href=\"https://www.linkedin.com/in/yiwen-li-47a019119/?utm_medium=Exinfluencer&utm_source=Exinfluencer&utm_content=000026UJ&utm_term=10006555&utm_id=NA-SkillsNetwork-Channel-SkillsNetworkCoursesIBMDA0151ENSkillsNetwork21582452-2021-01-01\" target=\"_blank\">Yiwen Li</a> has approximately three year experiences in big tech industry. Currently, she is a developer advocate, a data scientist, a product manager at IBM, where she designs and develops data science solutions and Machine Learning models to solve real world problems. She has delivered talks this year in JupyterCon, PyCon, Pyjamas, CrowdCast.ai, Global AI on Tour 2020 and Belpy 2021 with hundreds of attendants per talk. \n",
    "\n",
    "<a href=\"https://www.linkedin.com/in/gabrieladequeiroz/?utm_medium=Exinfluencer&utm_source=Exinfluencer&utm_content=000026UJ&utm_term=10006555&utm_id=NA-SkillsNetwork-Channel-SkillsNetworkCoursesIBMDA0151ENSkillsNetwork21582452-2021-01-01\" target=\"_blank\">Gabriela de Queiroz</a> is a Sr. Engineering & Data Science Manager at IBM where she manages and leads a team of developers working on Data & AI Open Source projects. She works to democratize AI by building tools and launching new open source projects.\n",
    "She is the founder of AI Inclusive, a global organization that is helping increase the representation and participation of gender minorities in Artificial Intelligence. She is also the founder of R-Ladies, a worldwide organization for promoting diversity in the R community with more than 190 chapters in 50+ countries.\n",
    "She has worked in several startups and where she built teams, developed statistical models, and employed a variety of techniques to derive insights and drive data-centric decisions\n"
   ]
  },
  {
   "cell_type": "markdown",
   "metadata": {},
   "source": [
    "Copyright © 2021 IBM Corporation. All rights reserved.\n"
   ]
  }
 ],
 "metadata": {
  "anaconda-cloud": {},
  "kernelspec": {
   "display_name": "R",
   "language": "R",
   "name": "ir"
  },
  "language_info": {
   "codemirror_mode": "r",
   "file_extension": ".r",
   "mimetype": "text/x-r-source",
   "name": "R",
   "pygments_lexer": "r",
   "version": "3.6.1"
  }
 },
 "nbformat": 4,
 "nbformat_minor": 4
}
