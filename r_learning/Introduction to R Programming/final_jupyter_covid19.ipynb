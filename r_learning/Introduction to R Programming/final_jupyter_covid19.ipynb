{
 "cells": [
  {
   "cell_type": "markdown",
   "metadata": {},
   "source": [
    "<a href=\"https://cognitiveclass.ai/?utm_medium=Exinfluencer&utm_source=Exinfluencer&utm_content=000026UJ&utm_term=10006555&utm_id=NA-SkillsNetwork-Channel-SkillsNetworkCoursesIBMDeveloperSkillsNetworkRP0101ENCoursera23911160-2021-01-01\">\n",
    "    <img src=\"https://cf-courses-data.s3.us.cloud-object-storage.appdomain.cloud/IBMDeveloperSkillsNetwork-RP0101EN-Coursera/v2/M1_R_Basics/images/IDSNlogo.png\" width=\"200\" align=\"center\">\n",
    "</a>\n"
   ]
  },
  {
   "cell_type": "markdown",
   "metadata": {},
   "source": [
    "<h1>Analysis of Global COVID-19 Pandemic Data</h1>\n",
    "\n",
    "Estimated time needed: **90** minutes\n"
   ]
  },
  {
   "cell_type": "markdown",
   "metadata": {},
   "source": [
    "## Overview:\n",
    "\n",
    "There are 10 tasks in this final project. All tasks will be graded by your peers who are also completing this assignment within the same session.\n",
    "\n",
    "You need to submit the following the screenshot for the code and output for each task for review.\n",
    "\n",
    "If you need to refresh your memories about specific coding details, you may refer to previous hands-on labs for code examples.\n"
   ]
  },
  {
   "cell_type": "code",
   "execution_count": 3,
   "metadata": {},
   "outputs": [
    {
     "name": "stderr",
     "output_type": "stream",
     "text": [
      "Loading required package: httr\n",
      "Loading required package: rvest\n",
      "Loading required package: xml2\n",
      "Registered S3 method overwritten by 'rvest':\n",
      "  method            from\n",
      "  read_xml.response xml2\n"
     ]
    }
   ],
   "source": [
    "require(\"httr\")\n",
    "require(\"rvest\")\n",
    "\n",
    "library(httr)\n",
    "library(rvest)"
   ]
  },
  {
   "cell_type": "markdown",
   "metadata": {},
   "source": [
    "Note: if you can import above libraries, please use install.packages() to install them first.\n"
   ]
  },
  {
   "cell_type": "markdown",
   "metadata": {},
   "source": [
    "## TASK 1: Get a `COVID-19 pandemic` Wiki page using HTTP request\n"
   ]
  },
  {
   "cell_type": "markdown",
   "metadata": {},
   "source": [
    "First, let's write a function to use HTTP request to get a public COVID-19 Wiki page.\n",
    "\n",
    "Before you write the function, you can open this public page from this\n",
    "\n",
    "URL [https://en.wikipedia.org/w/index.php?title=Template\\:COVID-19\\_testing_by_country](https://en.wikipedia.org/w/index.php?utm_medium=Exinfluencer&utm_source=Exinfluencer&utm_content=000026UJ&utm_term=10006555&utm_id=NA-SkillsNetwork-Channel-SkillsNetworkCoursesIBMDeveloperSkillsNetworkRP0101ENCoursera23911160-2021-01-01&title=Template%3ACOVID-19\\_testing_by_country) using a web browser.\n",
    "\n",
    "The goal of task 1 is to get the html page using HTTP request (`httr` library)\n"
   ]
  },
  {
   "cell_type": "code",
   "execution_count": 4,
   "metadata": {},
   "outputs": [],
   "source": [
    "get_wiki_covid19_page <- function(){\n",
    "  wiki_base_url <- \"https://en.wikipedia.org/w/index.php\"\n",
    "  body <- list(title='Template:COVID-19_testing_by_country')\n",
    "  GET(wiki_base_url, query=body, sep='?')\n",
    "}"
   ]
  },
  {
   "cell_type": "markdown",
   "metadata": {},
   "source": [
    "Call the `get_wiki_covid19_page` function to get a http response with the target html page\n"
   ]
  },
  {
   "cell_type": "code",
   "execution_count": 5,
   "metadata": {},
   "outputs": [
    {
     "data": {
      "text/plain": [
       "Response [https://en.wikipedia.org/w/index.php?title=Template%3ACOVID-19_testing_by_country]\n",
       "  Date: 2021-12-21 01:42\n",
       "  Status: 200\n",
       "  Content-Type: text/html; charset=UTF-8\n",
       "  Size: 410 kB\n",
       "<!DOCTYPE html>\n",
       "<html class=\"client-nojs\" lang=\"en\" dir=\"ltr\">\n",
       "<head>\n",
       "<meta charset=\"UTF-8\"/>\n",
       "<title>Template:COVID-19 testing by country - Wikipedia</title>\n",
       "<script>document.documentElement.className=\"client-js\";RLCONF={\"wgBreakFrames...\n",
       "\"CS1 German-language sources (de)\",\"CS1 Azerbaijani-language sources (az)\",\"C...\n",
       "\"CS1 uses Japanese-language script (ja)\",\"CS1 Japanese-language sources (ja)\"...\n",
       "\"COVID-19 pandemic templates\"],\"wgPageContentLanguage\":\"en\",\"wgPageContentMod...\n",
       "\"Q87325019\",\"wgGENewcomerTasksGuidanceEnabled\":true,\"wgGEAskQuestionEnabled\":...\n",
       "..."
      ]
     },
     "metadata": {},
     "output_type": "display_data"
    }
   ],
   "source": [
    "get_wiki_covid19_page()\n"
   ]
  },
  {
   "cell_type": "markdown",
   "metadata": {},
   "source": [
    "## TASK 2: Extract COVID-19 testing data table from the wiki HTML page\n"
   ]
  },
  {
   "cell_type": "markdown",
   "metadata": {},
   "source": [
    "On the COVID-19 testing wiki page, you should see a data table `<table>` node contains COVID-19 testing data by country on the page:\n",
    "\n",
    "<a href=\"https://cognitiveclass.ai/?utm_medium=Exinfluencer&utm_source=Exinfluencer&utm_content=000026UJ&utm_term=10006555&utm_id=NA-SkillsNetwork-Channel-SkillsNetworkCoursesIBMDeveloperSkillsNetworkRP0101ENCoursera23911160-2021-01-01\">\n",
    "    <img src=\"https://cf-courses-data.s3.us.cloud-object-storage.appdomain.cloud/IBMDeveloperSkillsNetwork-RP0101EN-Coursera/v2/M5_Final/images/covid-19-by-country.png\" width=\"400\" align=\"center\">\n",
    "</a>\n",
    "\n",
    "Note the numbers you actually see on your page may be different from above because it is still an on-going pandemic when creating this notebook.\n",
    "\n",
    "The goal of task 2 is to extract above data table and convert it into a data frame\n"
   ]
  },
  {
   "cell_type": "markdown",
   "metadata": {},
   "source": [
    "Now use the `read_html` function in rvest library to get the root html node from response\n"
   ]
  },
  {
   "cell_type": "code",
   "execution_count": 6,
   "metadata": {},
   "outputs": [],
   "source": [
    "# Get the root html node from the http response in task 1 "
   ]
  },
  {
   "cell_type": "code",
   "execution_count": 7,
   "metadata": {},
   "outputs": [
    {
     "data": {
      "text/plain": [
       "{xml_document}\n",
       "<html class=\"client-nojs\" lang=\"en\" dir=\"ltr\">\n",
       "[1] <head>\\n<meta http-equiv=\"Content-Type\" content=\"text/html; charset=UTF-8 ...\n",
       "[2] <body class=\"mediawiki ltr sitedir-ltr mw-hide-empty-elt ns-10 ns-subject ..."
      ]
     },
     "metadata": {},
     "output_type": "display_data"
    }
   ],
   "source": [
    "read_html(get_wiki_covid19_page(),\"table\")"
   ]
  },
  {
   "cell_type": "markdown",
   "metadata": {},
   "source": [
    "Get the first table in the HTML root node using `html_node` function\n"
   ]
  },
  {
   "cell_type": "code",
   "execution_count": 8,
   "metadata": {},
   "outputs": [],
   "source": [
    "# Get the table node from the root html node\n",
    "download.file(\"https://en.wikipedia.org/w/index.php?title=Template%3ACOVID-19_testing_by_country\", destfile='temp_wiki.html')\n",
    "root_node <- read_html('temp_wiki.html')"
   ]
  },
  {
   "cell_type": "markdown",
   "metadata": {},
   "source": [
    "Read the table node as a data frame using `html_table` function\n"
   ]
  },
  {
   "cell_type": "code",
   "execution_count": 11,
   "metadata": {},
   "outputs": [],
   "source": [
    "# Read the table node and convert it into a data frame, and print the data frame for review\n",
    "table_node <- html_node(root_node,\"table\")\n",
    "data_frame<-html_table(table_node)"
   ]
  },
  {
   "cell_type": "code",
   "execution_count": 13,
   "metadata": {},
   "outputs": [
    {
     "data": {
      "text/html": [
       "<table>\n",
       "<thead><tr><th scope=col>Country or region</th><th scope=col>Date[a]</th><th scope=col>Tested</th><th scope=col>Units[b]</th><th scope=col>Confirmed(cases)</th><th scope=col>Confirmed /tested,%</th><th scope=col>Tested /population,%</th><th scope=col>Confirmed /population,%</th><th scope=col>Ref.</th></tr></thead>\n",
       "<tbody>\n",
       "\t<tr><td>Afghanistan</td><td>17 Dec 2020</td><td>154,767    </td><td>samples    </td><td>49,621     </td><td>32.1       </td><td>0.40       </td><td>0.13       </td><td>[1]        </td></tr>\n",
       "\t<tr><td>Albania    </td><td>18 Feb 2021</td><td>428,654    </td><td>samples    </td><td>96,838     </td><td>22.6       </td><td>15.0       </td><td>3.4        </td><td>[2]        </td></tr>\n",
       "\t<tr><td>Algeria    </td><td>2 Nov 2020 </td><td>230,553    </td><td>samples    </td><td>58,574     </td><td>25.4       </td><td>0.53       </td><td>0.13       </td><td>[3][4]     </td></tr>\n",
       "\t<tr><td>Andorra    </td><td>13 Dec 2021</td><td>247,655    </td><td>samples    </td><td>19,967     </td><td>8.1        </td><td>319        </td><td>25.7       </td><td>[5]        </td></tr>\n",
       "\t<tr><td>Angola     </td><td>12 Mar 2021</td><td>399,228    </td><td>samples    </td><td>20,981     </td><td>5.3        </td><td>1.3        </td><td>0.067      </td><td>[6]        </td></tr>\n",
       "</tbody>\n",
       "</table>\n"
      ],
      "text/latex": [
       "\\begin{tabular}{r|lllllllll}\n",
       " Country or region & Date{[}a{]} & Tested & Units{[}b{]} & Confirmed(cases) & Confirmed /tested,\\% & Tested /population,\\% & Confirmed /population,\\% & Ref.\\\\\n",
       "\\hline\n",
       "\t Afghanistan & 17 Dec 2020 & 154,767     & samples     & 49,621      & 32.1        & 0.40        & 0.13        & {[}1{]}    \\\\\n",
       "\t Albania     & 18 Feb 2021 & 428,654     & samples     & 96,838      & 22.6        & 15.0        & 3.4         & {[}2{]}    \\\\\n",
       "\t Algeria        & 2 Nov 2020     & 230,553        & samples        & 58,574         & 25.4           & 0.53           & 0.13           & {[}3{]}{[}4{]}\\\\\n",
       "\t Andorra     & 13 Dec 2021 & 247,655     & samples     & 19,967      & 8.1         & 319         & 25.7        & {[}5{]}    \\\\\n",
       "\t Angola      & 12 Mar 2021 & 399,228     & samples     & 20,981      & 5.3         & 1.3         & 0.067       & {[}6{]}    \\\\\n",
       "\\end{tabular}\n"
      ],
      "text/markdown": [
       "\n",
       "| Country or region | Date[a] | Tested | Units[b] | Confirmed(cases) | Confirmed /tested,% | Tested /population,% | Confirmed /population,% | Ref. |\n",
       "|---|---|---|---|---|---|---|---|---|\n",
       "| Afghanistan | 17 Dec 2020 | 154,767     | samples     | 49,621      | 32.1        | 0.40        | 0.13        | [1]         |\n",
       "| Albania     | 18 Feb 2021 | 428,654     | samples     | 96,838      | 22.6        | 15.0        | 3.4         | [2]         |\n",
       "| Algeria     | 2 Nov 2020  | 230,553     | samples     | 58,574      | 25.4        | 0.53        | 0.13        | [3][4]      |\n",
       "| Andorra     | 13 Dec 2021 | 247,655     | samples     | 19,967      | 8.1         | 319         | 25.7        | [5]         |\n",
       "| Angola      | 12 Mar 2021 | 399,228     | samples     | 20,981      | 5.3         | 1.3         | 0.067       | [6]         |\n",
       "\n"
      ],
      "text/plain": [
       "  Country or region Date[a]     Tested  Units[b] Confirmed(cases)\n",
       "1 Afghanistan       17 Dec 2020 154,767 samples  49,621          \n",
       "2 Albania           18 Feb 2021 428,654 samples  96,838          \n",
       "3 Algeria           2 Nov 2020  230,553 samples  58,574          \n",
       "4 Andorra           13 Dec 2021 247,655 samples  19,967          \n",
       "5 Angola            12 Mar 2021 399,228 samples  20,981          \n",
       "  Confirmed /tested,% Tested /population,% Confirmed /population,% Ref.  \n",
       "1 32.1                0.40                 0.13                    [1]   \n",
       "2 22.6                15.0                 3.4                     [2]   \n",
       "3 25.4                0.53                 0.13                    [3][4]\n",
       "4 8.1                 319                  25.7                    [5]   \n",
       "5 5.3                 1.3                  0.067                   [6]   "
      ]
     },
     "metadata": {},
     "output_type": "display_data"
    }
   ],
   "source": [
    "head(data_frame,5)"
   ]
  },
  {
   "cell_type": "markdown",
   "metadata": {},
   "source": [
    "## TASK 3: Pre-process and export the extracted data frame\n",
    "\n",
    "The goal of task 3 is to pre-process the extracted data frame from the previous step, and export it as a csv file\n"
   ]
  },
  {
   "cell_type": "markdown",
   "metadata": {},
   "source": [
    "Let's get a summary of the data frame\n"
   ]
  },
  {
   "cell_type": "code",
   "execution_count": 14,
   "metadata": {},
   "outputs": [
    {
     "data": {
      "text/plain": [
       " Country or region    Date[a]             Tested            Units[b]        \n",
       " Length:173         Length:173         Length:173         Length:173        \n",
       " Class :character   Class :character   Class :character   Class :character  \n",
       " Mode  :character   Mode  :character   Mode  :character   Mode  :character  \n",
       " Confirmed(cases)   Confirmed /tested,% Tested /population,%\n",
       " Length:173         Length:173          Length:173          \n",
       " Class :character   Class :character    Class :character    \n",
       " Mode  :character   Mode  :character    Mode  :character    \n",
       " Confirmed /population,%     Ref.          \n",
       " Length:173              Length:173        \n",
       " Class :character        Class :character  \n",
       " Mode  :character        Mode  :character  "
      ]
     },
     "metadata": {},
     "output_type": "display_data"
    }
   ],
   "source": [
    "# Print the summary of the data frame\n",
    "summary(data_frame)"
   ]
  },
  {
   "cell_type": "markdown",
   "metadata": {},
   "source": [
    "As you can see from the summary, the columns names are little bit different to understand and some column data types are not correct. For example, the `Tested` column shows as `character`.\n",
    "\n",
    "As such, the data frame read from HTML table will need some pre-processing such as removing irrelvant columns, renaming columns, and convert columns into proper data types.\n"
   ]
  },
  {
   "cell_type": "markdown",
   "metadata": {},
   "source": [
    "We have prepared a pre-processing function for you to conver the data frame but you can also try to write one by yourself\n"
   ]
  },
  {
   "cell_type": "code",
   "execution_count": 15,
   "metadata": {},
   "outputs": [],
   "source": [
    "preprocess_covid_data_frame <- function(data_frame) {\n",
    "    \n",
    "    shape <- dim(data_frame)\n",
    "\n",
    "    # Remove the World row\n",
    "    data_frame<-data_frame[!(data_frame$`Country or region`==\"World\"),]\n",
    "    # Remove the last row\n",
    "    data_frame <- data_frame[1:172, ]\n",
    "    \n",
    "    # We dont need the Units and Ref columns, so can be removed\n",
    "    data_frame[\"Ref.\"] <- NULL\n",
    "    data_frame[\"Units[b]\"] <- NULL\n",
    "    \n",
    "    # Renaming the columns\n",
    "    names(data_frame) <- c(\"country\", \"date\", \"tested\", \"confirmed\", \"confirmed.tested.ratio\", \"tested.population.ratio\", \"confirmed.population.ratio\")\n",
    "    \n",
    "    # Convert column data types\n",
    "    data_frame$country <- as.factor(data_frame$country)\n",
    "    data_frame$date <- as.factor(data_frame$date)\n",
    "    data_frame$tested <- as.numeric(gsub(\",\",\"\",data_frame$tested))\n",
    "    data_frame$confirmed <- as.numeric(gsub(\",\",\"\",data_frame$confirmed))\n",
    "    data_frame$'confirmed.tested.ratio' <- as.numeric(gsub(\",\",\"\",data_frame$`confirmed.tested.ratio`))\n",
    "    data_frame$'tested.population.ratio' <- as.numeric(gsub(\",\",\"\",data_frame$`tested.population.ratio`))\n",
    "    data_frame$'confirmed.population.ratio' <- as.numeric(gsub(\",\",\"\",data_frame$`confirmed.population.ratio`))\n",
    "    \n",
    "    return(data_frame)\n",
    "}\n",
    "\n"
   ]
  },
  {
   "cell_type": "markdown",
   "metadata": {},
   "source": [
    "Call the `preprocess_covid_data_frame` function\n"
   ]
  },
  {
   "cell_type": "code",
   "execution_count": 19,
   "metadata": {},
   "outputs": [],
   "source": [
    "# call `preprocess_covid_data_frame` function and assign it to a new data frame\n",
    "df_clean<-preprocess_covid_data_frame(data_frame)"
   ]
  },
  {
   "cell_type": "markdown",
   "metadata": {},
   "source": [
    "Get the summary of the processed data frame again\n"
   ]
  },
  {
   "cell_type": "code",
   "execution_count": 20,
   "metadata": {},
   "outputs": [
    {
     "data": {
      "text/html": [
       "<table>\n",
       "<thead><tr><th scope=col>country</th><th scope=col>date</th><th scope=col>tested</th><th scope=col>confirmed</th><th scope=col>confirmed.tested.ratio</th><th scope=col>tested.population.ratio</th><th scope=col>confirmed.population.ratio</th></tr></thead>\n",
       "<tbody>\n",
       "\t<tr><td>Afghanistan</td><td>17 Dec 2020</td><td>154767     </td><td>49621      </td><td>32.1       </td><td>  0.40     </td><td> 0.130     </td></tr>\n",
       "\t<tr><td>Albania    </td><td>18 Feb 2021</td><td>428654     </td><td>96838      </td><td>22.6       </td><td> 15.00     </td><td> 3.400     </td></tr>\n",
       "\t<tr><td>Algeria    </td><td>2 Nov 2020 </td><td>230553     </td><td>58574      </td><td>25.4       </td><td>  0.53     </td><td> 0.130     </td></tr>\n",
       "\t<tr><td>Andorra    </td><td>13 Dec 2021</td><td>247655     </td><td>19967      </td><td> 8.1       </td><td>319.00     </td><td>25.700     </td></tr>\n",
       "\t<tr><td>Angola     </td><td>12 Mar 2021</td><td>399228     </td><td>20981      </td><td> 5.3       </td><td>  1.30     </td><td> 0.067     </td></tr>\n",
       "</tbody>\n",
       "</table>\n"
      ],
      "text/latex": [
       "\\begin{tabular}{r|lllllll}\n",
       " country & date & tested & confirmed & confirmed.tested.ratio & tested.population.ratio & confirmed.population.ratio\\\\\n",
       "\\hline\n",
       "\t Afghanistan & 17 Dec 2020 & 154767      & 49621       & 32.1        &   0.40      &  0.130     \\\\\n",
       "\t Albania     & 18 Feb 2021 & 428654      & 96838       & 22.6        &  15.00      &  3.400     \\\\\n",
       "\t Algeria     & 2 Nov 2020  & 230553      & 58574       & 25.4        &   0.53      &  0.130     \\\\\n",
       "\t Andorra     & 13 Dec 2021 & 247655      & 19967       &  8.1        & 319.00      & 25.700     \\\\\n",
       "\t Angola      & 12 Mar 2021 & 399228      & 20981       &  5.3        &   1.30      &  0.067     \\\\\n",
       "\\end{tabular}\n"
      ],
      "text/markdown": [
       "\n",
       "| country | date | tested | confirmed | confirmed.tested.ratio | tested.population.ratio | confirmed.population.ratio |\n",
       "|---|---|---|---|---|---|---|\n",
       "| Afghanistan | 17 Dec 2020 | 154767      | 49621       | 32.1        |   0.40      |  0.130      |\n",
       "| Albania     | 18 Feb 2021 | 428654      | 96838       | 22.6        |  15.00      |  3.400      |\n",
       "| Algeria     | 2 Nov 2020  | 230553      | 58574       | 25.4        |   0.53      |  0.130      |\n",
       "| Andorra     | 13 Dec 2021 | 247655      | 19967       |  8.1        | 319.00      | 25.700      |\n",
       "| Angola      | 12 Mar 2021 | 399228      | 20981       |  5.3        |   1.30      |  0.067      |\n",
       "\n"
      ],
      "text/plain": [
       "  country     date        tested confirmed confirmed.tested.ratio\n",
       "1 Afghanistan 17 Dec 2020 154767 49621     32.1                  \n",
       "2 Albania     18 Feb 2021 428654 96838     22.6                  \n",
       "3 Algeria     2 Nov 2020  230553 58574     25.4                  \n",
       "4 Andorra     13 Dec 2021 247655 19967      8.1                  \n",
       "5 Angola      12 Mar 2021 399228 20981      5.3                  \n",
       "  tested.population.ratio confirmed.population.ratio\n",
       "1   0.40                   0.130                    \n",
       "2  15.00                   3.400                    \n",
       "3   0.53                   0.130                    \n",
       "4 319.00                  25.700                    \n",
       "5   1.30                   0.067                    "
      ]
     },
     "metadata": {},
     "output_type": "display_data"
    }
   ],
   "source": [
    "# Print the summary of the processed data frame again\n",
    "head(df_clean,5)"
   ]
  },
  {
   "cell_type": "markdown",
   "metadata": {},
   "source": [
    "After pre-processing, you can see the columns and columns names are simplified, and columns types are converted into correct types.\n"
   ]
  },
  {
   "cell_type": "markdown",
   "metadata": {},
   "source": [
    "The data frame has following columns:\n",
    "\n",
    "*   **country** - The name of the country\n",
    "*   **date** - Reported date\n",
    "*   **tested** - Total tested cases by the reported date\n",
    "*   **confirmed** - Total confirmed cases by the reported date\n",
    "*   **confirmed.tested.ratio** - The ratio of confirmed cases to the tested cases\n",
    "*   **tested.population.ratio** - The ratio of tested cases to the population of the country\n",
    "*   **confirmed.population.ratio** - The ratio of confirmed cases to the population of the country\n"
   ]
  },
  {
   "cell_type": "markdown",
   "metadata": {},
   "source": [
    "OK, we can call `write.csv()` function to save the csv file into a file.\n"
   ]
  },
  {
   "cell_type": "code",
   "execution_count": 23,
   "metadata": {},
   "outputs": [
    {
     "name": "stderr",
     "output_type": "stream",
     "text": [
      "Warning message in write.csv(df_clean, file = \"covid_19_table.csv\", sep = \",\"):\n",
      "\"attempt to set 'sep' ignored\""
     ]
    }
   ],
   "source": [
    "# Export the data frame to a csv file\n",
    "write.csv(df_clean, file='covid_19_table.csv', sep=\",\")"
   ]
  },
  {
   "cell_type": "markdown",
   "metadata": {},
   "source": [
    "Note for IBM Waston Studio, there is no traditional \"hard disk\" associated with a R workspace.\n",
    "\n",
    "Even if you call `write.csv()` method to save the data frame as a csv file, it won't be shown in IBM Cloud Object Storage asset UI automatically.\n",
    "\n",
    "However, you may still check if the `covid.csv` exists using following code snippet:\n"
   ]
  },
  {
   "cell_type": "code",
   "execution_count": null,
   "metadata": {},
   "outputs": [],
   "source": [
    "# Get working directory\n",
    "wd <- getwd()\n",
    "# Get exported \n",
    "file_path <- paste(wd, sep=\"\", \"/covid.csv\")\n",
    "# File path\n",
    "print(file_path)\n",
    "file.exists(file_path)"
   ]
  },
  {
   "cell_type": "markdown",
   "metadata": {},
   "source": [
    "**Optional Step**: If you have difficulties finishing above webscraping tasks, you may still continue with next tasks by downloading a provided csv file from here:\n"
   ]
  },
  {
   "cell_type": "code",
   "execution_count": null,
   "metadata": {},
   "outputs": [],
   "source": [
    "## Download a sample csv file\n",
    "# covid_csv_file <- download.file(\"https://cf-courses-data.s3.us.cloud-object-storage.appdomain.cloud/IBMDeveloperSkillsNetwork-RP0101EN-Coursera/v2/dataset/covid.csv\", destfile=\"covid.csv\")\n",
    "# covid_data_frame_csv <- read.csv(\"covid.csv\", header=TRUE, sep=\",\")"
   ]
  },
  {
   "cell_type": "markdown",
   "metadata": {},
   "source": [
    "## TASK 4: Get a subset of the extracted data frame\n",
    "\n",
    "The goal of task 4 is to get the 5th to 10th rows from the data frame with only `country` and `confirmed` columns selected\n"
   ]
  },
  {
   "cell_type": "code",
   "execution_count": null,
   "metadata": {},
   "outputs": [],
   "source": [
    "# Read covid_data_frame_csv from the csv file\n",
    "covid<-read.csv('covid.csv')\n",
    "# Get the 5th to 10th rows, with two \"country\" \"confirmed\" columns\n",
    "covid[5:10,c('country', 'confirmed')]"
   ]
  },
  {
   "cell_type": "markdown",
   "metadata": {},
   "source": [
    "## TASK 5: Calculate worldwide COVID testing positive ratio\n",
    "\n",
    "The goal of task 5 is to get the total confirmed and tested cases worldwide, and try to figure the overall positive ratio using `confirmed cases / tested cases`\n"
   ]
  },
  {
   "cell_type": "code",
   "execution_count": null,
   "metadata": {},
   "outputs": [],
   "source": [
    "# Get the total confirmed cases worldwide\n",
    "paste('total confirmed:', sum(covid$confirmed))\n",
    "# Get the total tested cases worldwide\n",
    "paste('total tested:', sum(covid$tested))\n",
    "# Get the positive ratio (confirmed / tested)\n",
    "paste('positive ratio:', round(sum(covid$confirmed)/sum(covid$tested),4))"
   ]
  },
  {
   "cell_type": "markdown",
   "metadata": {},
   "source": [
    "## TASK 6: Get a country list which reported their testing data\n",
    "\n",
    "The goal of task 6 is to get a catalog or sorted list of countries who have reported their COVID-19 testing data\n"
   ]
  },
  {
   "cell_type": "code",
   "execution_count": null,
   "metadata": {},
   "outputs": [],
   "source": [
    "# Get the `country` column\n",
    "covid_country<-covid$country\n",
    "# Check its class (should be Factor)\n",
    "print(str(covid_country))\n",
    "# Conver the country column into character so that you can easily sort them\n",
    "covid_country<-toString(covid_country)\n",
    "covid_country<-strsplit(covid_country,', ')\n",
    "covid_country<-unlist(covid_country)\n",
    "print(str(covid_country))\n",
    "# Sort the countries AtoZ\n",
    "print(\"Sort the countries ZtoA------------------------\")\n",
    "covid_sort_a2z <- sort(covid_country)\n",
    "print(head(covid_sort_a2z,10))\n",
    "# Sort the countries ZtoA\n",
    "print(\"Sort the countries ZtoA------------------------\")\n",
    "covid_sort_z2a<-sort(covid_sort_a2z, decreasing=TRUE)\n",
    "print(head(covid_sort_z2a,20))\n",
    "# Print the sorted ZtoA list\n"
   ]
  },
  {
   "cell_type": "markdown",
   "metadata": {},
   "source": [
    "## TASK 7: Identify countries names with a specific pattern\n",
    "\n",
    "The goal of task 7 is using a regular expression to find any countires start with `United`\n"
   ]
  },
  {
   "cell_type": "code",
   "execution_count": null,
   "metadata": {},
   "outputs": [],
   "source": [
    "# Use a regular expression `United.+` to find matches\n",
    "task7<-grep(\"United.+\", covid_country, value=T)\n",
    "# Print the matched country names\n",
    "print(task7)"
   ]
  },
  {
   "cell_type": "markdown",
   "metadata": {},
   "source": [
    "## TASK 8: Pick two countries you are interested, and then review their testing data\n",
    "\n",
    "The goal of task 8 is to compare the COVID-19 test data between two countires, you will need to select two rows from the dataframe, and select `country`, `confirmed`, `confirmed-population-ratio` columns\n"
   ]
  },
  {
   "cell_type": "code",
   "execution_count": null,
   "metadata": {},
   "outputs": [],
   "source": [
    "# Select a subset (should be only one row) of data frame based on a selected country name and columns\n",
    "task8_1<-covid[covid$country =='United Kingdom',]\n",
    "task8_1<-task8_1[,c('country', 'confirmed', 'confirmed.population.ratio')]\n",
    "task8_1\n",
    "# Select a subset (should be only one row) of data frame based on a selected country name and columns\n",
    "task8_2<-covid[covid$country =='United States',]\n",
    "task8_2<-task8_2[,c('country', 'confirmed', 'confirmed.population.ratio')]\n",
    "task8_2"
   ]
  },
  {
   "cell_type": "markdown",
   "metadata": {},
   "source": [
    "## TASK 9: Compare which one of the selected countries has a larger ratio of confirmed cases to population\n",
    "\n",
    "The goal of task 9 is to find out which country you have selected before has larger ratio of confirmed cases to population, which may indicate that country has higher COVID-19 infection risk\n"
   ]
  },
  {
   "cell_type": "code",
   "execution_count": null,
   "metadata": {},
   "outputs": [],
   "source": [
    "# Use if-else statement\n",
    "if (task8_1$confirmed.population.ratio>task8_2$confirmed.population.ratio) {\n",
    "   paste(task8_1$country,' has a larger ratio of confirmed cases to population')\n",
    "} else {\n",
    "   paste(task8_2$country,' has a larger ratio of confirmed cases to population')\n",
    "}\n"
   ]
  },
  {
   "cell_type": "markdown",
   "metadata": {},
   "source": [
    "## TASK 10: Find countries with confirmed to population ratio rate less than a threshold\n",
    "\n",
    "The goal of task 10 is to find out which countries have the confirmed to population ratio less than 1%, it may indicate the risk of those countries are relatively low\n"
   ]
  },
  {
   "cell_type": "code",
   "execution_count": null,
   "metadata": {},
   "outputs": [],
   "source": [
    "# Get a subset of any countries with `confirmed.population.ratio` less than the threshold\n",
    "# Get a subset of any countries with `confirmed.population.ratio` less than the threshold\n",
    "getsubset<-function(threshold){\n",
    "    out<-covid[covid$confirmed.population.ratio<threshold,]\n",
    "    print(paste('The following countries have a population ratio less than ',threshold*100,'%:'))\n",
    "    print(unlist(strsplit(toString(out$country), ', ')))\n",
    "}\n",
    "\n",
    "getsubset(0.01)"
   ]
  }
 ],
 "metadata": {
  "kernelspec": {
   "display_name": "R",
   "language": "R",
   "name": "ir"
  },
  "language_info": {
   "codemirror_mode": "r",
   "file_extension": ".r",
   "mimetype": "text/x-r-source",
   "name": "R",
   "pygments_lexer": "r",
   "version": "3.6.1"
  }
 },
 "nbformat": 4,
 "nbformat_minor": 4
}
